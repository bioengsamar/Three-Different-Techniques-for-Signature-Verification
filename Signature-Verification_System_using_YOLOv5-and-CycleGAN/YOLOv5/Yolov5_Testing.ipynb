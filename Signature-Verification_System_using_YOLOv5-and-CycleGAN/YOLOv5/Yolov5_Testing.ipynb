{
  "nbformat": 4,
  "nbformat_minor": 0,
  "metadata": {
    "colab": {
      "provenance": []
    },
    "kernelspec": {
      "name": "python3",
      "display_name": "Python 3"
    },
    "language_info": {
      "name": "python"
    }
  },
  "cells": [
    {
      "cell_type": "code",
      "execution_count": null,
      "metadata": {
        "id": "v-zfE5zJl-Yg"
      },
      "outputs": [],
      "source": [
        "import shutil\n",
        "import os, sys, random\n",
        "from glob import glob\n",
        "import pandas as pd\n",
        "from shutil import copyfile\n",
        "import pandas as pd\n",
        "from sklearn import preprocessing, model_selection\n",
        "import matplotlib.pyplot as plt\n",
        "from matplotlib import patches\n",
        "import numpy as np\n",
        "import os\n",
        "%matplotlib inline"
      ]
    },
    {
      "cell_type": "markdown",
      "source": [
        "# Cloning Official Repo"
      ],
      "metadata": {
        "id": "XBzRgXPPm0KB"
      }
    },
    {
      "cell_type": "code",
      "source": [
        "!git clone  'https://github.com/ultralytics/yolov5.git'\n",
        "!sed -i 's/PyYAML>=5.3.1/PyYAML==5.4.1/g' ./yolov5/requirements.txt\n",
        "!pip install -qr 'yolov5/requirements.txt'"
      ],
      "metadata": {
        "colab": {
          "base_uri": "https://localhost:8080/"
        },
        "id": "eyCm3OLomvJV",
        "outputId": "f37bc661-a023-4664-e6ef-0ac3cbb31c24"
      },
      "execution_count": null,
      "outputs": [
        {
          "output_type": "stream",
          "name": "stdout",
          "text": [
            "Cloning into 'yolov5'...\n",
            "remote: Enumerating objects: 14995, done.\u001b[K\n",
            "remote: Total 14995 (delta 0), reused 0 (delta 0), pack-reused 14995\u001b[K\n",
            "Receiving objects: 100% (14995/14995), 14.07 MiB | 22.99 MiB/s, done.\n",
            "Resolving deltas: 100% (10286/10286), done.\n",
            "\u001b[2K     \u001b[90m━━━━━━━━━━━━━━━━━━━━━━━━━━━━━━━━━━━━━━━\u001b[0m \u001b[32m184.0/184.0 KB\u001b[0m \u001b[31m8.0 MB/s\u001b[0m eta \u001b[36m0:00:00\u001b[0m\n",
            "\u001b[2K     \u001b[90m━━━━━━━━━━━━━━━━━━━━━━━━━━━━━━━━━━━━━━\u001b[0m \u001b[32m662.4/662.4 KB\u001b[0m \u001b[31m31.5 MB/s\u001b[0m eta \u001b[36m0:00:00\u001b[0m\n",
            "\u001b[2K     \u001b[90m━━━━━━━━━━━━━━━━━━━━━━━━━━━━━━━━━━━━━━━━\u001b[0m \u001b[32m62.7/62.7 KB\u001b[0m \u001b[31m6.5 MB/s\u001b[0m eta \u001b[36m0:00:00\u001b[0m\n",
            "\u001b[2K     \u001b[90m━━━━━━━━━━━━━━━━━━━━━━━━━━━━━━━━━━━━━━━━\u001b[0m \u001b[32m1.6/1.6 MB\u001b[0m \u001b[31m60.4 MB/s\u001b[0m eta \u001b[36m0:00:00\u001b[0m\n",
            "\u001b[?25h"
          ]
        }
      ]
    },
    {
      "cell_type": "code",
      "source": [
        "!unzip /content/drive/MyDrive/Image_forensics/final_project/Signature-Verification_System_using_YOLOv5-and-CycleGAN-master.zip -d /content/drive/MyDrive/Image_forensics/final_project"
      ],
      "metadata": {
        "id": "JtfvpYGLnYPN"
      },
      "execution_count": null,
      "outputs": []
    },
    {
      "cell_type": "code",
      "source": [
        "# Setting the model parameters\n",
        "#shutil.copyfile('tobacco_data.yaml', '/content/drive/MyDrive/Image_forensics/final_project/Signature-Verification_System_using_YOLOv5-and-CycleGAN-master/Training/YOLOv5/') # copying the custom_dataset.yaml file to the project repo\n",
        "# setting number of classes to two (since the tobacco 800 dataset contains 2 classes, Logo & Signature)\n",
        "!sed -i 's/nc: 80/nc: 2/g' ./yolov5/models/yolov5x.yaml \n",
        "!cat /content/drive/MyDrive/Image_forensics/final_project/Signature-Verification_System_using_YOLOv5-and-CycleGAN-master/Training/YOLOv5/tobacco_data.yaml"
      ],
      "metadata": {
        "colab": {
          "base_uri": "https://localhost:8080/"
        },
        "id": "VNJADFDNnSWV",
        "outputId": "da3f256c-34a9-43c9-bb22-629c8bc9f0c3"
      },
      "execution_count": null,
      "outputs": [
        {
          "output_type": "stream",
          "name": "stdout",
          "text": [
            "train: tobacco_yolo_format/images/train\n",
            "val: tobacco_yolo_format/images/valid\n",
            "\n",
            "nc: 2\n",
            "names: ['DLLogo', 'DLSignature']\n"
          ]
        }
      ]
    },
    {
      "cell_type": "code",
      "source": [
        "!unzip /content/drive/MyDrive/Image_forensics/final_project/ARC_Signature_Verification/Data/yolo_model/tobacco_yolo_format.zip -d /content/drive/MyDrive/Image_forensics/final_project"
      ],
      "metadata": {
        "id": "cC_o7VDEoLvD"
      },
      "execution_count": null,
      "outputs": []
    },
    {
      "cell_type": "code",
      "source": [
        "!python yolov5/detect.py --source /content/drive/MyDrive/Image_forensics/final_project/tobacco_yolo_format/images/valid/ --weights '/content/drive/MyDrive/Image_forensics/final_project/ARC_Signature_Verification/Model_Artifacts/yolo_model/best.pt' \\\n",
        " --hide-labels --hide-conf --classes 1 --line-thickness 2 "
      ],
      "metadata": {
        "colab": {
          "base_uri": "https://localhost:8080/"
        },
        "id": "nKDFDfmYnpKj",
        "outputId": "a52b682f-f913-4a9a-d963-558f3ced4a64"
      },
      "execution_count": null,
      "outputs": [
        {
          "output_type": "stream",
          "name": "stdout",
          "text": [
            "\u001b[34m\u001b[1mdetect: \u001b[0mweights=['/content/drive/MyDrive/Image_forensics/final_project/ARC_Signature_Verification/Model_Artifacts/yolo_model/best.pt'], source=/content/drive/MyDrive/Image_forensics/final_project/tobacco_yolo_format/images/valid/, data=yolov5/data/coco128.yaml, imgsz=[640, 640], conf_thres=0.25, iou_thres=0.45, max_det=1000, device=, view_img=False, save_txt=False, save_conf=False, save_crop=False, nosave=False, classes=[1], agnostic_nms=False, augment=False, visualize=False, update=False, project=yolov5/runs/detect, name=exp, exist_ok=False, line_thickness=2, hide_labels=True, hide_conf=True, half=False, dnn=False, vid_stride=1\n",
            "YOLOv5 🚀 v7.0-71-gc442a2e Python-3.8.10 torch-1.13.1+cu116 CPU\n",
            "\n",
            "Fusing layers... \n",
            "YOLOv5x summary: 476 layers, 87205423 parameters, 0 gradients\n",
            "image 1/129 /content/drive/MyDrive/Image_forensics/final_project/tobacco_yolo_format/images/valid/aao54e00_2.jpg: 640x512 1 DLSignature, 3162.0ms\n",
            "image 2/129 /content/drive/MyDrive/Image_forensics/final_project/tobacco_yolo_format/images/valid/abm69c00.jpg: 640x512 1 DLSignature, 2974.7ms\n",
            "image 3/129 /content/drive/MyDrive/Image_forensics/final_project/tobacco_yolo_format/images/valid/aex05f00_1.jpg: 640x512 1 DLSignature, 2983.0ms\n",
            "image 4/129 /content/drive/MyDrive/Image_forensics/final_project/tobacco_yolo_format/images/valid/agw39d00.jpg: 640x512 8 DLSignatures, 2958.1ms\n",
            "image 5/129 /content/drive/MyDrive/Image_forensics/final_project/tobacco_yolo_format/images/valid/aik94f00-page02_2.jpg: 640x512 1 DLSignature, 2824.5ms\n",
            "image 6/129 /content/drive/MyDrive/Image_forensics/final_project/tobacco_yolo_format/images/valid/aji32e00-page02_2.jpg: 640x512 1 DLSignature, 2897.4ms\n",
            "image 7/129 /content/drive/MyDrive/Image_forensics/final_project/tobacco_yolo_format/images/valid/amw93e00.jpg: 640x512 1 DLSignature, 2849.6ms\n",
            "image 8/129 /content/drive/MyDrive/Image_forensics/final_project/tobacco_yolo_format/images/valid/bad45f00.jpg: 640x512 2 DLSignatures, 2872.4ms\n",
            "image 9/129 /content/drive/MyDrive/Image_forensics/final_project/tobacco_yolo_format/images/valid/bfk68c00-page03_3.jpg: 640x512 1 DLSignature, 3075.5ms\n",
            "image 10/129 /content/drive/MyDrive/Image_forensics/final_project/tobacco_yolo_format/images/valid/bfx94e00.jpg: 640x544 1 DLSignature, 3111.0ms\n",
            "image 11/129 /content/drive/MyDrive/Image_forensics/final_project/tobacco_yolo_format/images/valid/bhw64a00.jpg: 640x544 2 DLSignatures, 3159.4ms\n",
            "image 12/129 /content/drive/MyDrive/Image_forensics/final_project/tobacco_yolo_format/images/valid/bji44a00.jpg: 640x512 2 DLSignatures, 2962.3ms\n",
            "image 13/129 /content/drive/MyDrive/Image_forensics/final_project/tobacco_yolo_format/images/valid/bkz54f00_1.jpg: 640x512 1 DLSignature, 2977.1ms\n",
            "image 14/129 /content/drive/MyDrive/Image_forensics/final_project/tobacco_yolo_format/images/valid/boa85f00.jpg: 640x512 1 DLSignature, 2947.1ms\n",
            "image 15/129 /content/drive/MyDrive/Image_forensics/final_project/tobacco_yolo_format/images/valid/btt85f00-page2_3.jpg: 640x512 1 DLSignature, 2977.2ms\n",
            "image 16/129 /content/drive/MyDrive/Image_forensics/final_project/tobacco_yolo_format/images/valid/cel93f00.jpg: 640x512 1 DLSignature, 2957.8ms\n",
            "image 17/129 /content/drive/MyDrive/Image_forensics/final_project/tobacco_yolo_format/images/valid/cgy54f00_1.jpg: 640x512 1 DLSignature, 2986.3ms\n",
            "image 18/129 /content/drive/MyDrive/Image_forensics/final_project/tobacco_yolo_format/images/valid/chw80e00_1.jpg: 640x512 1 DLSignature, 2905.1ms\n",
            "image 19/129 /content/drive/MyDrive/Image_forensics/final_project/tobacco_yolo_format/images/valid/cir10f00.jpg: 640x512 2 DLSignatures, 3002.6ms\n",
            "image 20/129 /content/drive/MyDrive/Image_forensics/final_project/tobacco_yolo_format/images/valid/cjb54c00.jpg: 640x512 1 DLSignature, 5060.9ms\n",
            "image 21/129 /content/drive/MyDrive/Image_forensics/final_project/tobacco_yolo_format/images/valid/cjy33f00-page02_2.jpg: 640x512 2 DLSignatures, 2904.3ms\n",
            "image 22/129 /content/drive/MyDrive/Image_forensics/final_project/tobacco_yolo_format/images/valid/cnk41e00-page02_1.jpg: 640x512 (no detections), 2946.6ms\n",
            "image 23/129 /content/drive/MyDrive/Image_forensics/final_project/tobacco_yolo_format/images/valid/cqt45f00-page02_1.jpg: 640x512 (no detections), 2943.4ms\n",
            "image 24/129 /content/drive/MyDrive/Image_forensics/final_project/tobacco_yolo_format/images/valid/cqt45f00-page02_2.jpg: 640x512 1 DLSignature, 2991.0ms\n",
            "image 25/129 /content/drive/MyDrive/Image_forensics/final_project/tobacco_yolo_format/images/valid/cry54f00_1.jpg: 640x512 1 DLSignature, 2973.5ms\n",
            "image 26/129 /content/drive/MyDrive/Image_forensics/final_project/tobacco_yolo_format/images/valid/cxk72e00-page03_3.jpg: 640x544 2 DLSignatures, 3118.4ms\n",
            "image 27/129 /content/drive/MyDrive/Image_forensics/final_project/tobacco_yolo_format/images/valid/dgi64c00.jpg: 640x512 2 DLSignatures, 2912.6ms\n",
            "image 28/129 /content/drive/MyDrive/Image_forensics/final_project/tobacco_yolo_format/images/valid/dhr55d00-page02_2.jpg: 640x512 1 DLSignature, 2961.8ms\n",
            "image 29/129 /content/drive/MyDrive/Image_forensics/final_project/tobacco_yolo_format/images/valid/dic45f00_1.jpg: 640x512 (no detections), 3058.3ms\n",
            "image 30/129 /content/drive/MyDrive/Image_forensics/final_project/tobacco_yolo_format/images/valid/djz54f00.jpg: 640x512 1 DLSignature, 2948.8ms\n",
            "image 31/129 /content/drive/MyDrive/Image_forensics/final_project/tobacco_yolo_format/images/valid/dlu7aa00_1.jpg: 640x544 (no detections), 3121.8ms\n",
            "image 32/129 /content/drive/MyDrive/Image_forensics/final_project/tobacco_yolo_format/images/valid/dmy31e00-page02_1.jpg: 640x512 (no detections), 2971.8ms\n",
            "image 33/129 /content/drive/MyDrive/Image_forensics/final_project/tobacco_yolo_format/images/valid/dpi68d00.jpg: 640x512 1 DLSignature, 2937.5ms\n",
            "image 34/129 /content/drive/MyDrive/Image_forensics/final_project/tobacco_yolo_format/images/valid/dqn43c00.jpg: 640x512 1 DLSignature, 3002.2ms\n",
            "image 35/129 /content/drive/MyDrive/Image_forensics/final_project/tobacco_yolo_format/images/valid/drm00d00.jpg: 640x512 1 DLSignature, 2972.0ms\n",
            "image 36/129 /content/drive/MyDrive/Image_forensics/final_project/tobacco_yolo_format/images/valid/dsj50c00-page04_4.jpg: 640x512 1 DLSignature, 2934.5ms\n",
            "image 37/129 /content/drive/MyDrive/Image_forensics/final_project/tobacco_yolo_format/images/valid/dvr41a00.jpg: 640x512 1 DLSignature, 3011.5ms\n",
            "image 38/129 /content/drive/MyDrive/Image_forensics/final_project/tobacco_yolo_format/images/valid/dxj24f00.jpg: 640x512 2 DLSignatures, 2878.2ms\n",
            "image 39/129 /content/drive/MyDrive/Image_forensics/final_project/tobacco_yolo_format/images/valid/eao90f00.jpg: 640x512 1 DLSignature, 3239.3ms\n",
            "image 40/129 /content/drive/MyDrive/Image_forensics/final_project/tobacco_yolo_format/images/valid/eez35f00-page02_2.jpg: 640x512 1 DLSignature, 3043.3ms\n",
            "image 41/129 /content/drive/MyDrive/Image_forensics/final_project/tobacco_yolo_format/images/valid/fbv15e00.jpg: 640x512 1 DLSignature, 2974.3ms\n",
            "image 42/129 /content/drive/MyDrive/Image_forensics/final_project/tobacco_yolo_format/images/valid/fgx54f00_1.jpg: 640x512 1 DLSignature, 2967.3ms\n",
            "image 43/129 /content/drive/MyDrive/Image_forensics/final_project/tobacco_yolo_format/images/valid/fhz25e00.jpg: 640x512 1 DLSignature, 2869.2ms\n",
            "image 44/129 /content/drive/MyDrive/Image_forensics/final_project/tobacco_yolo_format/images/valid/fny38c00-page05_5.jpg: 640x512 5 DLSignatures, 2841.0ms\n",
            "image 45/129 /content/drive/MyDrive/Image_forensics/final_project/tobacco_yolo_format/images/valid/foc33a00-page02_1.jpg: 640x512 (no detections), 2843.9ms\n",
            "image 46/129 /content/drive/MyDrive/Image_forensics/final_project/tobacco_yolo_format/images/valid/fpi68d00.jpg: 640x512 1 DLSignature, 2928.5ms\n",
            "image 47/129 /content/drive/MyDrive/Image_forensics/final_project/tobacco_yolo_format/images/valid/fsh23c00-page04_4.jpg: 640x512 1 DLSignature, 2872.5ms\n",
            "image 48/129 /content/drive/MyDrive/Image_forensics/final_project/tobacco_yolo_format/images/valid/fwe69c00.jpg: 640x512 1 DLSignature, 2918.8ms\n",
            "image 49/129 /content/drive/MyDrive/Image_forensics/final_project/tobacco_yolo_format/images/valid/gcb93e00-page03_1.jpg: 640x512 (no detections), 2894.5ms\n",
            "image 50/129 /content/drive/MyDrive/Image_forensics/final_project/tobacco_yolo_format/images/valid/gcb93e00-page03_3.jpg: 640x512 1 DLSignature, 2800.3ms\n",
            "image 51/129 /content/drive/MyDrive/Image_forensics/final_project/tobacco_yolo_format/images/valid/ghz25e00.jpg: 640x512 1 DLSignature, 2865.4ms\n",
            "image 52/129 /content/drive/MyDrive/Image_forensics/final_project/tobacco_yolo_format/images/valid/gko55e00-page02_1.jpg: 640x512 (no detections), 2962.1ms\n",
            "image 53/129 /content/drive/MyDrive/Image_forensics/final_project/tobacco_yolo_format/images/valid/hby31f00_1.jpg: 640x512 1 DLSignature, 2876.6ms\n",
            "image 54/129 /content/drive/MyDrive/Image_forensics/final_project/tobacco_yolo_format/images/valid/hdx55e00.jpg: 640x512 1 DLSignature, 2900.4ms\n",
            "image 55/129 /content/drive/MyDrive/Image_forensics/final_project/tobacco_yolo_format/images/valid/hpz95d00.jpg: 640x512 1 DLSignature, 2846.7ms\n",
            "image 56/129 /content/drive/MyDrive/Image_forensics/final_project/tobacco_yolo_format/images/valid/hst85f00.jpg: 640x512 1 DLSignature, 2880.9ms\n",
            "image 57/129 /content/drive/MyDrive/Image_forensics/final_project/tobacco_yolo_format/images/valid/hti31a00_1.jpg: 640x512 1 DLSignature, 2909.3ms\n",
            "image 58/129 /content/drive/MyDrive/Image_forensics/final_project/tobacco_yolo_format/images/valid/huz50e00_1.jpg: 640x512 1 DLSignature, 2866.1ms\n",
            "image 59/129 /content/drive/MyDrive/Image_forensics/final_project/tobacco_yolo_format/images/valid/icu98c00.jpg: 640x512 1 DLSignature, 2993.1ms\n",
            "image 60/129 /content/drive/MyDrive/Image_forensics/final_project/tobacco_yolo_format/images/valid/idr55d00.jpg: 640x512 3 DLSignatures, 2854.7ms\n",
            "image 61/129 /content/drive/MyDrive/Image_forensics/final_project/tobacco_yolo_format/images/valid/ivw54f00_1.jpg: 640x512 1 DLSignature, 2807.5ms\n",
            "image 62/129 /content/drive/MyDrive/Image_forensics/final_project/tobacco_yolo_format/images/valid/jci90c00.jpg: 640x512 1 DLSignature, 4436.3ms\n",
            "image 63/129 /content/drive/MyDrive/Image_forensics/final_project/tobacco_yolo_format/images/valid/jiy01a00-page02_2.jpg: 640x512 1 DLSignature, 3336.4ms\n",
            "image 64/129 /content/drive/MyDrive/Image_forensics/final_project/tobacco_yolo_format/images/valid/jrk44a00.jpg: 640x512 1 DLSignature, 2935.2ms\n",
            "image 65/129 /content/drive/MyDrive/Image_forensics/final_project/tobacco_yolo_format/images/valid/juo75f00_1.jpg: 640x512 1 DLSignature, 2910.2ms\n",
            "image 66/129 /content/drive/MyDrive/Image_forensics/final_project/tobacco_yolo_format/images/valid/kci90c00.jpg: 640x512 1 DLSignature, 2859.9ms\n",
            "image 67/129 /content/drive/MyDrive/Image_forensics/final_project/tobacco_yolo_format/images/valid/kcn64a00.jpg: 640x544 1 DLSignature, 3392.2ms\n",
            "image 68/129 /content/drive/MyDrive/Image_forensics/final_project/tobacco_yolo_format/images/valid/keo90c00-page02_2.jpg: 640x512 1 DLSignature, 2811.0ms\n",
            "image 69/129 /content/drive/MyDrive/Image_forensics/final_project/tobacco_yolo_format/images/valid/ket24f00.jpg: 640x512 1 DLSignature, 2890.0ms\n",
            "image 70/129 /content/drive/MyDrive/Image_forensics/final_project/tobacco_yolo_format/images/valid/kfw39d00.jpg: 640x512 9 DLSignatures, 2941.3ms\n",
            "image 71/129 /content/drive/MyDrive/Image_forensics/final_project/tobacco_yolo_format/images/valid/kgi60e00.jpg: 640x512 1 DLSignature, 2921.0ms\n",
            "image 72/129 /content/drive/MyDrive/Image_forensics/final_project/tobacco_yolo_format/images/valid/khh96d00.jpg: 640x512 1 DLSignature, 2925.0ms\n",
            "image 73/129 /content/drive/MyDrive/Image_forensics/final_project/tobacco_yolo_format/images/valid/khz25e00.jpg: 640x512 1 DLSignature, 2932.5ms\n",
            "image 74/129 /content/drive/MyDrive/Image_forensics/final_project/tobacco_yolo_format/images/valid/kjw13f00.jpg: 640x512 2 DLSignatures, 2935.7ms\n",
            "image 75/129 /content/drive/MyDrive/Image_forensics/final_project/tobacco_yolo_format/images/valid/kle30a00.jpg: 640x544 1 DLSignature, 3023.7ms\n",
            "image 76/129 /content/drive/MyDrive/Image_forensics/final_project/tobacco_yolo_format/images/valid/lfj35f00.jpg: 640x512 1 DLSignature, 2963.8ms\n",
            "image 77/129 /content/drive/MyDrive/Image_forensics/final_project/tobacco_yolo_format/images/valid/lox9aa00-first.jpg: 640x544 1 DLSignature, 3017.3ms\n",
            "image 78/129 /content/drive/MyDrive/Image_forensics/final_project/tobacco_yolo_format/images/valid/lwd23f00-page02_1.jpg: 640x512 (no detections), 2893.2ms\n",
            "image 79/129 /content/drive/MyDrive/Image_forensics/final_project/tobacco_yolo_format/images/valid/mbw13f00-page2_2.jpg: 640x512 1 DLSignature, 2918.4ms\n",
            "image 80/129 /content/drive/MyDrive/Image_forensics/final_project/tobacco_yolo_format/images/valid/mev75d00_2.jpg: 640x512 1 DLSignature, 2839.5ms\n",
            "image 81/129 /content/drive/MyDrive/Image_forensics/final_project/tobacco_yolo_format/images/valid/mta60c00.jpg: 640x512 1 DLSignature, 2819.6ms\n",
            "image 82/129 /content/drive/MyDrive/Image_forensics/final_project/tobacco_yolo_format/images/valid/ncn00d00.jpg: 640x512 1 DLSignature, 2929.4ms\n",
            "image 83/129 /content/drive/MyDrive/Image_forensics/final_project/tobacco_yolo_format/images/valid/nht43d00-page02_2.jpg: 640x512 1 DLSignature, 2956.7ms\n",
            "image 84/129 /content/drive/MyDrive/Image_forensics/final_project/tobacco_yolo_format/images/valid/nir55d00-page02_1.jpg: 640x512 (no detections), 2913.3ms\n",
            "image 85/129 /content/drive/MyDrive/Image_forensics/final_project/tobacco_yolo_format/images/valid/njn54c00.jpg: 640x512 2 DLSignatures, 2886.0ms\n",
            "image 86/129 /content/drive/MyDrive/Image_forensics/final_project/tobacco_yolo_format/images/valid/nlu01f00.jpg: 640x512 1 DLSignature, 2930.2ms\n",
            "image 87/129 /content/drive/MyDrive/Image_forensics/final_project/tobacco_yolo_format/images/valid/nrg54f00-page02_1.jpg: 640x512 1 DLSignature, 2915.3ms\n",
            "image 88/129 /content/drive/MyDrive/Image_forensics/final_project/tobacco_yolo_format/images/valid/nul00a00.jpg: 640x544 1 DLSignature, 3088.2ms\n",
            "image 89/129 /content/drive/MyDrive/Image_forensics/final_project/tobacco_yolo_format/images/valid/nzw16e00.jpg: 640x480 3 DLSignatures, 2699.0ms\n",
            "image 90/129 /content/drive/MyDrive/Image_forensics/final_project/tobacco_yolo_format/images/valid/osp65f00.jpg: 640x512 1 DLSignature, 3050.0ms\n",
            "image 91/129 /content/drive/MyDrive/Image_forensics/final_project/tobacco_yolo_format/images/valid/ozj00a00.jpg: 640x544 1 DLSignature, 3153.1ms\n",
            "image 92/129 /content/drive/MyDrive/Image_forensics/final_project/tobacco_yolo_format/images/valid/pmx82f00-page04_4.jpg: 640x512 1 DLSignature, 2970.0ms\n",
            "image 93/129 /content/drive/MyDrive/Image_forensics/final_project/tobacco_yolo_format/images/valid/pvx38c00-page06_6.jpg: 640x512 3 DLSignatures, 2878.5ms\n",
            "image 94/129 /content/drive/MyDrive/Image_forensics/final_project/tobacco_yolo_format/images/valid/pzb89c00.jpg: 640x512 1 DLSignature, 2920.9ms\n",
            "image 95/129 /content/drive/MyDrive/Image_forensics/final_project/tobacco_yolo_format/images/valid/qat01f00.jpg: 640x512 1 DLSignature, 2791.4ms\n",
            "image 96/129 /content/drive/MyDrive/Image_forensics/final_project/tobacco_yolo_format/images/valid/qaw85f00.jpg: 640x512 1 DLSignature, 2898.2ms\n",
            "image 97/129 /content/drive/MyDrive/Image_forensics/final_project/tobacco_yolo_format/images/valid/qbh54c00-page02_2.jpg: 640x512 1 DLSignature, 2876.2ms\n",
            "image 98/129 /content/drive/MyDrive/Image_forensics/final_project/tobacco_yolo_format/images/valid/qfj59c00.jpg: 640x512 1 DLSignature, 2821.8ms\n",
            "image 99/129 /content/drive/MyDrive/Image_forensics/final_project/tobacco_yolo_format/images/valid/qqu85f00.jpg: 640x512 1 DLSignature, 2847.6ms\n",
            "image 100/129 /content/drive/MyDrive/Image_forensics/final_project/tobacco_yolo_format/images/valid/rga5aa00.jpg: 640x512 1 DLSignature, 2880.0ms\n",
            "image 101/129 /content/drive/MyDrive/Image_forensics/final_project/tobacco_yolo_format/images/valid/rnf51a00.jpg: 640x512 1 DLSignature, 3011.7ms\n",
            "image 102/129 /content/drive/MyDrive/Image_forensics/final_project/tobacco_yolo_format/images/valid/rsj41f00-page02_2.jpg: 640x512 1 DLSignature, 2953.6ms\n",
            "image 103/129 /content/drive/MyDrive/Image_forensics/final_project/tobacco_yolo_format/images/valid/sfw98c00.jpg: 640x512 1 DLSignature, 2970.0ms\n",
            "image 104/129 /content/drive/MyDrive/Image_forensics/final_project/tobacco_yolo_format/images/valid/sik79d00.jpg: 640x512 2 DLSignatures, 2808.4ms\n",
            "image 105/129 /content/drive/MyDrive/Image_forensics/final_project/tobacco_yolo_format/images/valid/sji44a00.jpg: 640x512 2 DLSignatures, 2882.9ms\n",
            "image 106/129 /content/drive/MyDrive/Image_forensics/final_project/tobacco_yolo_format/images/valid/sma35f00.jpg: 640x512 1 DLSignature, 2836.7ms\n",
            "image 107/129 /content/drive/MyDrive/Image_forensics/final_project/tobacco_yolo_format/images/valid/syi15f00.jpg: 640x512 1 DLSignature, 2818.2ms\n",
            "image 108/129 /content/drive/MyDrive/Image_forensics/final_project/tobacco_yolo_format/images/valid/vad45f00-page03_1.jpg: 640x512 (no detections), 2863.6ms\n",
            "image 109/129 /content/drive/MyDrive/Image_forensics/final_project/tobacco_yolo_format/images/valid/vda05a00.jpg: 640x544 1 DLSignature, 3012.4ms\n",
            "image 110/129 /content/drive/MyDrive/Image_forensics/final_project/tobacco_yolo_format/images/valid/wab91d00-var.jpg: 640x512 1 DLSignature, 2968.7ms\n",
            "image 111/129 /content/drive/MyDrive/Image_forensics/final_project/tobacco_yolo_format/images/valid/waq00e00.jpg: 640x512 1 DLSignature, 2894.6ms\n",
            "image 112/129 /content/drive/MyDrive/Image_forensics/final_project/tobacco_yolo_format/images/valid/wau30a00-page9_4.jpg: 640x512 2 DLSignatures, 2960.6ms\n",
            "image 113/129 /content/drive/MyDrive/Image_forensics/final_project/tobacco_yolo_format/images/valid/wau30a00-page9_7.jpg: 640x512 2 DLSignatures, 2928.1ms\n",
            "image 114/129 /content/drive/MyDrive/Image_forensics/final_project/tobacco_yolo_format/images/valid/wav95e00-page03_1.jpg: 640x512 (no detections), 2862.9ms\n",
            "image 115/129 /content/drive/MyDrive/Image_forensics/final_project/tobacco_yolo_format/images/valid/wav95e00-page03_3.jpg: 640x512 4 DLSignatures, 2936.7ms\n",
            "image 116/129 /content/drive/MyDrive/Image_forensics/final_project/tobacco_yolo_format/images/valid/wky60e00.jpg: 640x512 2 DLSignatures, 2924.0ms\n",
            "image 117/129 /content/drive/MyDrive/Image_forensics/final_project/tobacco_yolo_format/images/valid/wry97e00.jpg: 640x512 1 DLSignature, 2932.7ms\n",
            "image 118/129 /content/drive/MyDrive/Image_forensics/final_project/tobacco_yolo_format/images/valid/wzt35f00.jpg: 640x512 2 DLSignatures, 2911.2ms\n",
            "image 119/129 /content/drive/MyDrive/Image_forensics/final_project/tobacco_yolo_format/images/valid/xik90c00_1.jpg: 640x512 1 DLSignature, 2889.1ms\n",
            "image 120/129 /content/drive/MyDrive/Image_forensics/final_project/tobacco_yolo_format/images/valid/xjx9aa00-first.jpg: 640x544 1 DLSignature, 3074.2ms\n",
            "image 121/129 /content/drive/MyDrive/Image_forensics/final_project/tobacco_yolo_format/images/valid/xyb11c00-page2_1.jpg: 640x512 (no detections), 2821.5ms\n",
            "image 122/129 /content/drive/MyDrive/Image_forensics/final_project/tobacco_yolo_format/images/valid/yda69d00-page02_1.jpg: 640x512 (no detections), 2904.1ms\n",
            "image 123/129 /content/drive/MyDrive/Image_forensics/final_project/tobacco_yolo_format/images/valid/yme01e00-page01_1.jpg: 640x544 1 DLSignature, 3122.0ms\n",
            "image 124/129 /content/drive/MyDrive/Image_forensics/final_project/tobacco_yolo_format/images/valid/yoi68d00.jpg: 640x512 1 DLSignature, 2809.1ms\n",
            "image 125/129 /content/drive/MyDrive/Image_forensics/final_project/tobacco_yolo_format/images/valid/ytz94a00.jpg: 640x544 1 DLSignature, 3088.1ms\n",
            "image 126/129 /content/drive/MyDrive/Image_forensics/final_project/tobacco_yolo_format/images/valid/zkd43f00_3.jpg: 640x512 4 DLSignatures, 2937.2ms\n",
            "image 127/129 /content/drive/MyDrive/Image_forensics/final_project/tobacco_yolo_format/images/valid/zlu43d00.jpg: 640x512 1 DLSignature, 2839.4ms\n",
            "image 128/129 /content/drive/MyDrive/Image_forensics/final_project/tobacco_yolo_format/images/valid/zmw13f00.jpg: 640x512 1 DLSignature, 2944.8ms\n",
            "image 129/129 /content/drive/MyDrive/Image_forensics/final_project/tobacco_yolo_format/images/valid/zqc25f00_1.jpg: 640x512 1 DLSignature, 4866.5ms\n",
            "Speed: 1.2ms pre-process, 2985.0ms inference, 1.0ms NMS per image at shape (1, 3, 640, 640)\n",
            "Results saved to \u001b[1myolov5/runs/detect/exp\u001b[0m\n"
          ]
        }
      ]
    },
    {
      "cell_type": "code",
      "source": [
        "!cp -r /content/yolov5/runs/detect/ /content/drive/MyDrive/Image_forensics/final_project/yolov5_prediction/"
      ],
      "metadata": {
        "id": "kV2xS9tVoq1W"
      },
      "execution_count": null,
      "outputs": []
    },
    {
      "cell_type": "code",
      "source": [
        "!cp -r /content/yolov5/ /content/drive/MyDrive/Image_forensics/final_project/"
      ],
      "metadata": {
        "id": "4kFHVE0EqzHb"
      },
      "execution_count": null,
      "outputs": []
    },
    {
      "cell_type": "code",
      "source": [],
      "metadata": {
        "id": "IKa0BFTc3BbJ"
      },
      "execution_count": null,
      "outputs": []
    }
  ]
}