{
  "nbformat": 4,
  "nbformat_minor": 0,
  "metadata": {
    "colab": {
      "provenance": []
    },
    "kernelspec": {
      "name": "python3",
      "display_name": "Python 3"
    },
    "language_info": {
      "name": "python"
    },
    "gpuClass": "standard",
    "accelerator": "GPU"
  },
  "cells": [
    {
      "cell_type": "code",
      "source": [
        "!pip install -q --upgrade wandb"
      ],
      "metadata": {
        "colab": {
          "base_uri": "https://localhost:8080/"
        },
        "id": "YTGLdltntqfG",
        "outputId": "f637d023-a8b0-41de-9685-e6264d2f4b13"
      },
      "execution_count": null,
      "outputs": [
        {
          "output_type": "stream",
          "name": "stdout",
          "text": [
            "\u001b[2K     \u001b[90m━━━━━━━━━━━━━━━━━━━━━━━━━━━━━━━━━━━━━━━━\u001b[0m \u001b[32m2.0/2.0 MB\u001b[0m \u001b[31m26.8 MB/s\u001b[0m eta \u001b[36m0:00:00\u001b[0m\n",
            "\u001b[2K     \u001b[90m━━━━━━━━━━━━━━━━━━━━━━━━━━━━━━━━━━━━━━\u001b[0m \u001b[32m184.0/184.0 KB\u001b[0m \u001b[31m25.2 MB/s\u001b[0m eta \u001b[36m0:00:00\u001b[0m\n",
            "\u001b[2K     \u001b[90m━━━━━━━━━━━━━━━━━━━━━━━━━━━━━━━━━━━━━━\u001b[0m \u001b[32m177.4/177.4 KB\u001b[0m \u001b[31m23.8 MB/s\u001b[0m eta \u001b[36m0:00:00\u001b[0m\n",
            "\u001b[?25h  Preparing metadata (setup.py) ... \u001b[?25l\u001b[?25hdone\n",
            "\u001b[2K     \u001b[90m━━━━━━━━━━━━━━━━━━━━━━━━━━━━━━━━━━━━━━━━\u001b[0m \u001b[32m62.7/62.7 KB\u001b[0m \u001b[31m7.8 MB/s\u001b[0m eta \u001b[36m0:00:00\u001b[0m\n",
            "\u001b[2K     \u001b[90m━━━━━━━━━━━━━━━━━━━━━━━━━━━━━━━━━━━━━━\u001b[0m \u001b[32m140.6/140.6 KB\u001b[0m \u001b[31m13.6 MB/s\u001b[0m eta \u001b[36m0:00:00\u001b[0m\n",
            "\u001b[?25h  Building wheel for pathtools (setup.py) ... \u001b[?25l\u001b[?25hdone\n"
          ]
        }
      ]
    },
    {
      "cell_type": "markdown",
      "source": [
        "# Load data"
      ],
      "metadata": {
        "id": "OpKeOdpevLLI"
      }
    },
    {
      "cell_type": "code",
      "source": [
        "import pandas as pd"
      ],
      "metadata": {
        "id": "imJBwpxQvmpA"
      },
      "execution_count": null,
      "outputs": []
    },
    {
      "cell_type": "code",
      "source": [
        "# Train data\n",
        "train = pd.read_csv('/content/drive/MyDrive/Image_forensics/final_project/sign_data/sign_data/train_data.csv')\n",
        "train.rename(columns={\"1\":\"label\"}, inplace=True)\n",
        "train[\"image_real_paths\"] = train[\"068/09_068.png\"].apply(lambda x: f\"/content/drive/MyDrive/Image_forensics/final_project/sign_data/sign_data/train/{x}\")\n",
        "train[\"image_forged_paths\"] = train[\"068_forg/03_0113068.PNG\"].apply(lambda x: f\"/content/drive/MyDrive/Image_forensics/final_project/sign_data/sign_data/train/{x}\")"
      ],
      "metadata": {
        "id": "JaG-yFYyu2GE"
      },
      "execution_count": null,
      "outputs": []
    },
    {
      "cell_type": "code",
      "source": [
        "# Test data\n",
        "test = pd.read_csv('/content/drive/MyDrive/Image_forensics/final_project/sign_data/sign_data/test_data.csv')\n",
        "test.rename(columns={\"1\":\"label\"}, inplace=True)\n",
        "test[\"image_real_paths\"] = test[\"068/09_068.png\"].apply(lambda x: f\"/content/drive/MyDrive/Image_forensics/final_project/sign_data/sign_data/test/{x}\")\n",
        "test[\"image_forged_paths\"] = test[\"068_forg/03_0113068.PNG\"].apply(lambda x: f\"/content/drive/MyDrive/Image_forensics/final_project/sign_data/sign_data/test/{x}\")"
      ],
      "metadata": {
        "id": "lPSlgOxhu4DE"
      },
      "execution_count": null,
      "outputs": []
    },
    {
      "cell_type": "code",
      "source": [
        "train[\"label\"].value_counts()"
      ],
      "metadata": {
        "colab": {
          "base_uri": "https://localhost:8080/"
        },
        "id": "WIbY6Pr8wIQE",
        "outputId": "73717643-2583-424f-ccb8-a9782701b0a6"
      },
      "execution_count": null,
      "outputs": [
        {
          "output_type": "execute_result",
          "data": {
            "text/plain": [
              "0    12602\n",
              "1    10603\n",
              "Name: label, dtype: int64"
            ]
          },
          "metadata": {},
          "execution_count": 7
        }
      ]
    },
    {
      "cell_type": "code",
      "source": [
        "test[\"label\"].value_counts()"
      ],
      "metadata": {
        "colab": {
          "base_uri": "https://localhost:8080/"
        },
        "id": "AJG2RkBNxRCw",
        "outputId": "52868d6e-4057-4868-bd59-38445d82680b"
      },
      "execution_count": null,
      "outputs": [
        {
          "output_type": "execute_result",
          "data": {
            "text/plain": [
              "1    2975\n",
              "0    2772\n",
              "Name: label, dtype: int64"
            ]
          },
          "metadata": {},
          "execution_count": 8
        }
      ]
    },
    {
      "cell_type": "markdown",
      "source": [
        "# Configuration"
      ],
      "metadata": {
        "id": "o1wqB64R0vkT"
      }
    },
    {
      "cell_type": "code",
      "source": [
        "class CFG:\n",
        "    apex=False\n",
        "    debug=False\n",
        "    print_freq=100\n",
        "    size=128\n",
        "    num_workers=2\n",
        "    scheduler='CosineAnnealingLR' # ['ReduceLROnPlateau', 'CosineAnnealingLR', 'CosineAnnealingWarmRestarts','OneCycleLR']\n",
        "    epochs=15\n",
        "    # CosineAnnealingLR params\n",
        "    cosanneal_params={\n",
        "        'T_max':4,\n",
        "        'eta_min':1e-5,\n",
        "        'last_epoch':-1\n",
        "    }\n",
        "    #ReduceLROnPlateau params\n",
        "    reduce_params={\n",
        "        'mode':'min',\n",
        "        'factor':0.2,\n",
        "        'patience':4,\n",
        "        'eps':1e-6,\n",
        "        'verbose':True\n",
        "    }\n",
        "    # CosineAnnealingWarmRestarts params\n",
        "    cosanneal_res_params={\n",
        "        'T_0':3,\n",
        "        'eta_min':1e-6,\n",
        "        'T_mult':1,\n",
        "        'last_epoch':-1\n",
        "    }\n",
        "    onecycle_params={\n",
        "        'pct_start':0.1,\n",
        "        'div_factor':1e2,\n",
        "        'max_lr':1e-3,\n",
        "        'steps_per_epoch':7, \n",
        "        'epochs':7\n",
        "    }\n",
        "    batch_size=16\n",
        "    lr=1e-3\n",
        "    weight_decay=1e-3\n",
        "    canvas_size = (952, 1360)\n",
        "    gradient_accumulation_steps=1\n",
        "    max_grad_norm=1000\n",
        "    target_size=train[\"label\"].shape[0]\n",
        "    nfolds=5\n",
        "    trn_folds=[0]\n",
        "    model_name='convnet'     #'vit_base_patch32_224_in21k' 'tf_efficientnetv2_b0' 'resnext50_32x4d' 'tresnet_m'\n",
        "    train=True\n",
        "    early_stop=True\n",
        "    target_col=\"label\"\n",
        "    projection2d=False\n",
        "    fc_dim=512\n",
        "    early_stopping_steps=5\n",
        "    grad_cam=False\n",
        "    seed=42\n",
        "    \n",
        "if CFG.debug:\n",
        "    CFG.epochs=1\n",
        "    train=train.sample(n=1000, random_state=CFG.seed).reset_index(drop=True)"
      ],
      "metadata": {
        "id": "GWiIZmE9zrR1"
      },
      "execution_count": null,
      "outputs": []
    },
    {
      "cell_type": "markdown",
      "source": [
        "# Libraries"
      ],
      "metadata": {
        "id": "xZSq8QCQ02WT"
      }
    },
    {
      "cell_type": "code",
      "source": [
        "import pandas as pd\n",
        "import numpy as np\n",
        "import wandb\n",
        "from skimage import filters, transform\n",
        "from skimage.io import imread\n",
        "from skimage import img_as_ubyte\n",
        "from typing import Tuple\n",
        "\n",
        "# ====================================================\n",
        "# Library\n",
        "# ====================================================\n",
        "import sys\n",
        "import os\n",
        "import math\n",
        "import time\n",
        "import random\n",
        "import shutil\n",
        "from pathlib import Path\n",
        "from contextlib import contextmanager\n",
        "from collections import defaultdict, Counter, OrderedDict\n",
        "\n",
        "\n",
        "import scipy as sp\n",
        "\n",
        "from sklearn import preprocessing\n",
        "from sklearn.metrics import roc_auc_score, roc_curve, f1_score, accuracy_score\n",
        "from sklearn.model_selection import StratifiedKFold, GroupKFold, KFold\n",
        "\n",
        "from tqdm.auto import tqdm\n",
        "from functools import partial\n",
        "\n",
        "import cv2\n",
        "from PIL import Image\n",
        "from PIL import ImageFile\n",
        "# sometimes, you will have images without an ending bit\n",
        "# this takes care of those kind of (corrupt) images\n",
        "ImageFile.LOAD_TRUNCATED_IMAGES = True\n",
        "\n",
        "import torch\n",
        "import torchvision\n",
        "import torch.nn as nn\n",
        "import torch.nn.functional as F\n",
        "from torch.optim import Adam, SGD\n",
        "from torch.optim.optimizer import Optimizer\n",
        "import torchvision.models as models\n",
        "from torch.nn.parameter import Parameter\n",
        "from torch.utils.data import DataLoader, Dataset\n",
        "from torch.optim.lr_scheduler import CosineAnnealingWarmRestarts, CosineAnnealingLR, ReduceLROnPlateau, OneCycleLR\n",
        "\n",
        "\n",
        "import albumentations as A\n",
        "from albumentations.pytorch import ToTensorV2\n",
        "from albumentations import ImageOnlyTransform\n",
        "\n",
        "\n",
        "from torch.cuda.amp import autocast, GradScaler\n",
        "\n",
        "# Functions for plotting:\n",
        "import matplotlib.pyplot as plt\n",
        "%matplotlib inline\n",
        "plt.rcParams['image.cmap'] = 'Greys'\n",
        "\n",
        "device = torch.device('cuda' if torch.cuda.is_available() else 'cpu')"
      ],
      "metadata": {
        "id": "AFytonoE0qrR"
      },
      "execution_count": null,
      "outputs": []
    },
    {
      "cell_type": "markdown",
      "source": [
        "# utils"
      ],
      "metadata": {
        "id": "RtIO7N4f1Qgc"
      }
    },
    {
      "cell_type": "code",
      "source": [
        "import wandb\n",
        "wandb.login()"
      ],
      "metadata": {
        "colab": {
          "base_uri": "https://localhost:8080/",
          "height": 121
        },
        "id": "qgVX5gihDzrm",
        "outputId": "d98b7b74-c36e-45c5-886e-17919d51aa79"
      },
      "execution_count": null,
      "outputs": [
        {
          "output_type": "display_data",
          "data": {
            "text/plain": [
              "<IPython.core.display.Javascript object>"
            ],
            "application/javascript": [
              "\n",
              "        window._wandbApiKey = new Promise((resolve, reject) => {\n",
              "            function loadScript(url) {\n",
              "            return new Promise(function(resolve, reject) {\n",
              "                let newScript = document.createElement(\"script\");\n",
              "                newScript.onerror = reject;\n",
              "                newScript.onload = resolve;\n",
              "                document.body.appendChild(newScript);\n",
              "                newScript.src = url;\n",
              "            });\n",
              "            }\n",
              "            loadScript(\"https://cdn.jsdelivr.net/npm/postmate/build/postmate.min.js\").then(() => {\n",
              "            const iframe = document.createElement('iframe')\n",
              "            iframe.style.cssText = \"width:0;height:0;border:none\"\n",
              "            document.body.appendChild(iframe)\n",
              "            const handshake = new Postmate({\n",
              "                container: iframe,\n",
              "                url: 'https://wandb.ai/authorize'\n",
              "            });\n",
              "            const timeout = setTimeout(() => reject(\"Couldn't auto authenticate\"), 5000)\n",
              "            handshake.then(function(child) {\n",
              "                child.on('authorize', data => {\n",
              "                    clearTimeout(timeout)\n",
              "                    resolve(data)\n",
              "                });\n",
              "            });\n",
              "            })\n",
              "        });\n",
              "    "
            ]
          },
          "metadata": {}
        },
        {
          "output_type": "stream",
          "name": "stderr",
          "text": [
            "\u001b[34m\u001b[1mwandb\u001b[0m: Logging into wandb.ai. (Learn how to deploy a W&B server locally: https://wandb.me/wandb-server)\n",
            "\u001b[34m\u001b[1mwandb\u001b[0m: You can find your API key in your browser here: https://wandb.ai/authorize\n",
            "wandb: Paste an API key from your profile and hit enter, or press ctrl+c to quit: "
          ]
        },
        {
          "name": "stdout",
          "output_type": "stream",
          "text": [
            "··········\n"
          ]
        },
        {
          "output_type": "stream",
          "name": "stderr",
          "text": [
            "\u001b[34m\u001b[1mwandb\u001b[0m: Appending key for api.wandb.ai to your netrc file: /root/.netrc\n"
          ]
        },
        {
          "output_type": "execute_result",
          "data": {
            "text/plain": [
              "True"
            ]
          },
          "metadata": {},
          "execution_count": 11
        }
      ]
    },
    {
      "cell_type": "code",
      "source": [
        "def class2dict(f):\n",
        "    return dict((name, getattr(f, name)) for name in dir(f) if not name.startswith('__'))\n",
        "\n",
        "run = wandb.init(project=\"test-project\", entity=\"img-research\", \n",
        "                 name=\"convnet\",\n",
        "                 config=class2dict(CFG),\n",
        "                 group=CFG.model_name,\n",
        "                 job_type=\"train\")"
      ],
      "metadata": {
        "colab": {
          "base_uri": "https://localhost:8080/",
          "height": 121
        },
        "id": "O96UUIFYEHN1",
        "outputId": "917232b3-e6b0-44c2-f7cc-31b94369fe1c"
      },
      "execution_count": null,
      "outputs": [
        {
          "output_type": "stream",
          "name": "stderr",
          "text": [
            "\u001b[34m\u001b[1mwandb\u001b[0m: Currently logged in as: \u001b[33msamar-awad97\u001b[0m (\u001b[33mimg-research\u001b[0m). Use \u001b[1m`wandb login --relogin`\u001b[0m to force relogin\n"
          ]
        },
        {
          "output_type": "display_data",
          "data": {
            "text/plain": [
              "<IPython.core.display.HTML object>"
            ],
            "text/html": [
              "Tracking run with wandb version 0.13.9"
            ]
          },
          "metadata": {}
        },
        {
          "output_type": "display_data",
          "data": {
            "text/plain": [
              "<IPython.core.display.HTML object>"
            ],
            "text/html": [
              "Run data is saved locally in <code>/content/wandb/run-20230121_073404-l4nmxmia</code>"
            ]
          },
          "metadata": {}
        },
        {
          "output_type": "display_data",
          "data": {
            "text/plain": [
              "<IPython.core.display.HTML object>"
            ],
            "text/html": [
              "Syncing run <strong><a href=\"https://wandb.ai/img-research/test-project/runs/l4nmxmia\" target=\"_blank\">convnet</a></strong> to <a href=\"https://wandb.ai/img-research/test-project\" target=\"_blank\">Weights & Biases</a> (<a href=\"https://wandb.me/run\" target=\"_blank\">docs</a>)<br/>"
            ]
          },
          "metadata": {}
        },
        {
          "output_type": "display_data",
          "data": {
            "text/plain": [
              "<IPython.core.display.HTML object>"
            ],
            "text/html": [
              " View project at <a href=\"https://wandb.ai/img-research/test-project\" target=\"_blank\">https://wandb.ai/img-research/test-project</a>"
            ]
          },
          "metadata": {}
        },
        {
          "output_type": "display_data",
          "data": {
            "text/plain": [
              "<IPython.core.display.HTML object>"
            ],
            "text/html": [
              " View run at <a href=\"https://wandb.ai/img-research/test-project/runs/l4nmxmia\" target=\"_blank\">https://wandb.ai/img-research/test-project/runs/l4nmxmia</a>"
            ]
          },
          "metadata": {}
        }
      ]
    },
    {
      "cell_type": "code",
      "source": [
        "# ====================================================\n",
        "# Directory settings\n",
        "# ====================================================\n",
        "import os\n",
        "\n",
        "OUTPUT_DIR = '/content/drive/MyDrive/Image_forensics/output_img_research'\n",
        "if not os.path.exists(OUTPUT_DIR):\n",
        "  os.makedirs(OUTPUT_DIR)"
      ],
      "metadata": {
        "id": "QYZ3_nRu2jML"
      },
      "execution_count": null,
      "outputs": []
    },
    {
      "cell_type": "code",
      "source": [
        "# ====================================================\n",
        "# Utils\n",
        "# ====================================================\n",
        "def get_score(y_true, y_pred):\n",
        "    score = accuracy_score(y_true, y_pred)\n",
        "    return score\n",
        "\n",
        "\n",
        "def init_logger(log_file=OUTPUT_DIR+'train.log'):\n",
        "    from logging import getLogger, INFO, FileHandler,  Formatter,  StreamHandler\n",
        "    logger = getLogger(__name__)\n",
        "    logger.setLevel(INFO)\n",
        "    handler1 = StreamHandler()\n",
        "    handler1.setFormatter(Formatter(\"%(message)s\"))\n",
        "    handler2 = FileHandler(filename=log_file)\n",
        "    handler2.setFormatter(Formatter(\"%(message)s\"))\n",
        "    logger.addHandler(handler1)\n",
        "    logger.addHandler(handler2)\n",
        "    return logger\n",
        "\n",
        "LOGGER = init_logger()\n",
        "\n",
        "\n",
        "def seed_torch(seed=42):\n",
        "    random.seed(seed)\n",
        "    os.environ['PYTHONHASHSEED'] = str(seed)\n",
        "    np.random.seed(seed)\n",
        "    torch.manual_seed(seed)\n",
        "    torch.cuda.manual_seed(seed)\n",
        "    torch.backends.cudnn.deterministic = True\n",
        "\n",
        "seed_torch(seed=CFG.seed)"
      ],
      "metadata": {
        "id": "d2_lGbp31cRZ"
      },
      "execution_count": null,
      "outputs": []
    },
    {
      "cell_type": "markdown",
      "source": [
        "# Data Pre-processing"
      ],
      "metadata": {
        "id": "96R6XUef27nH"
      }
    },
    {
      "cell_type": "code",
      "source": [
        "def preprocess_signature(img: np.ndarray,\n",
        "                         canvas_size: Tuple[int, int],\n",
        "                         img_size: Tuple[int, int] =(170, 242),\n",
        "                         input_size: Tuple[int, int] =(150, 220)) -> np.ndarray:\n",
        "    \"\"\" Pre-process a signature image, centering it in a canvas, resizing the image and cropping it.\n",
        "    Parameters\n",
        "    ----------\n",
        "    img : np.ndarray (H x W)\n",
        "        The signature image\n",
        "    canvas_size : tuple (H x W)\n",
        "        The size of a canvas where the signature will be centered on.\n",
        "        Should be larger than the signature.\n",
        "    img_size : tuple (H x W)\n",
        "        The size that will be used to resize (rescale) the signature\n",
        "    input_size : tuple (H x W)\n",
        "        The final size of the signature, obtained by croping the center of image.\n",
        "        This is necessary in cases where data-augmentation is used, and the input\n",
        "        to the neural network needs to have a slightly smaller size.\n",
        "    Returns\n",
        "    -------\n",
        "    np.narray (input_size):\n",
        "        The pre-processed image\n",
        "    -------\n",
        "    \"\"\"\n",
        "    img = img.astype(np.uint8)\n",
        "    centered = normalize_image(img, canvas_size)\n",
        "    inverted = 255 - centered\n",
        "    resized = resize_image(inverted, img_size)\n",
        "\n",
        "    if input_size is not None and input_size != img_size:\n",
        "        cropped = crop_center(resized, input_size)\n",
        "    else:\n",
        "        cropped = resized\n",
        "\n",
        "    return cropped\n",
        "\n",
        "\n",
        "def normalize_image(img: np.ndarray,\n",
        "                    canvas_size: Tuple[int, int] = (840, 1360)) -> np.ndarray:\n",
        "    \"\"\" Centers an image in a pre-defined canvas size, and remove\n",
        "    noise using OTSU's method.\n",
        "    Parameters\n",
        "    ----------\n",
        "    img : np.ndarray (H x W)\n",
        "        The image to be processed\n",
        "    canvas_size : tuple (H x W)\n",
        "        The desired canvas size\n",
        "    Returns\n",
        "    -------\n",
        "    np.ndarray (H x W)\n",
        "        The normalized image\n",
        "    \"\"\"\n",
        "\n",
        "    # 1) Crop the image before getting the center of mass\n",
        "\n",
        "    # Apply a gaussian filter on the image to remove small components\n",
        "    # Note: this is only used to define the limits to crop the image\n",
        "    blur_radius = 2\n",
        "    blurred_image = filters.gaussian(img, blur_radius, preserve_range=True)\n",
        "\n",
        "    # Binarize the image using OTSU's algorithm. This is used to find the center\n",
        "    # of mass of the image, and find the threshold to remove background noise\n",
        "    threshold = filters.threshold_otsu(img)\n",
        "\n",
        "    # Find the center of mass\n",
        "    binarized_image = blurred_image > threshold\n",
        "    r, c = np.where(binarized_image == 0)\n",
        "    r_center = int(r.mean() - r.min())\n",
        "    c_center = int(c.mean() - c.min())\n",
        "\n",
        "    # Crop the image with a tight box\n",
        "    cropped = img[r.min(): r.max(), c.min(): c.max()]\n",
        "\n",
        "    # 2) Center the image\n",
        "    img_rows, img_cols = cropped.shape\n",
        "    max_rows, max_cols = canvas_size\n",
        "\n",
        "    r_start = max_rows // 2 - r_center\n",
        "    c_start = max_cols // 2 - c_center\n",
        "\n",
        "    # Make sure the new image does not go off bounds\n",
        "    # Emit a warning if the image needs to be cropped, since we don't want this\n",
        "    # for most cases (may be ok for feature learning, so we don't raise an error)\n",
        "    if img_rows > max_rows:\n",
        "        # Case 1: image larger than required (height):  Crop.\n",
        "        print('Warning: cropping image. The signature should be smaller than the canvas size')\n",
        "        r_start = 0\n",
        "        difference = img_rows - max_rows\n",
        "        crop_start = difference // 2\n",
        "        cropped = cropped[crop_start:crop_start + max_rows, :]\n",
        "        img_rows = max_rows\n",
        "    else:\n",
        "        extra_r = (r_start + img_rows) - max_rows\n",
        "        # Case 2: centering exactly would require a larger image. relax the centering of the image\n",
        "        if extra_r > 0:\n",
        "            r_start -= extra_r\n",
        "        if r_start < 0:\n",
        "            r_start = 0\n",
        "\n",
        "    if img_cols > max_cols:\n",
        "        # Case 3: image larger than required (width). Crop.\n",
        "        print('Warning: cropping image. The signature should be smaller than the canvas size')\n",
        "        c_start = 0\n",
        "        difference = img_cols - max_cols\n",
        "        crop_start = difference // 2\n",
        "        cropped = cropped[:, crop_start:crop_start + max_cols]\n",
        "        img_cols = max_cols\n",
        "    else:\n",
        "        # Case 4: centering exactly would require a larger image. relax the centering of the image\n",
        "        extra_c = (c_start + img_cols) - max_cols\n",
        "        if extra_c > 0:\n",
        "            c_start -= extra_c\n",
        "        if c_start < 0:\n",
        "            c_start = 0\n",
        "\n",
        "    normalized_image = np.ones((max_rows, max_cols), dtype=np.uint8) * 255\n",
        "    # Add the image to the blank canvas\n",
        "    normalized_image[r_start:r_start + img_rows, c_start:c_start + img_cols] = cropped\n",
        "\n",
        "    # Remove noise - anything higher than the threshold. Note that the image is still grayscale\n",
        "    normalized_image[normalized_image > threshold] = 255\n",
        "\n",
        "    return normalized_image\n",
        "\n",
        "\n",
        "def remove_background(img: np.ndarray) -> np.ndarray:\n",
        "        \"\"\" Remove noise using OTSU's method.\n",
        "        Parameters\n",
        "        ----------\n",
        "        img : np.ndarray\n",
        "            The image to be processed\n",
        "        Returns\n",
        "        -------\n",
        "        np.ndarray\n",
        "            The image with background removed\n",
        "        \"\"\"\n",
        "\n",
        "        img = img.astype(np.uint8)\n",
        "        # Binarize the image using OTSU's algorithm. This is used to find the center\n",
        "        # of mass of the image, and find the threshold to remove background noise\n",
        "        threshold = filters.threshold_otsu(img)\n",
        "\n",
        "        # Remove noise - anything higher than the threshold. Note that the image is still grayscale\n",
        "        img[img > threshold] = 255\n",
        "\n",
        "        return img\n",
        "\n",
        "\n",
        "def resize_image(img: np.ndarray,\n",
        "                 size: Tuple[int, int]) -> np.ndarray:\n",
        "    \"\"\" Crops an image to the desired size without stretching it.\n",
        "    Parameters\n",
        "    ----------\n",
        "    img : np.ndarray (H x W)\n",
        "        The image to be cropped\n",
        "    size : tuple (H x W)\n",
        "        The desired size\n",
        "    Returns\n",
        "    -------\n",
        "    np.ndarray\n",
        "        The cropped image\n",
        "    \"\"\"\n",
        "    height, width = size\n",
        "\n",
        "    # Check which dimension needs to be cropped\n",
        "    # (assuming the new height-width ratio may not match the original size)\n",
        "    width_ratio = float(img.shape[1]) / width\n",
        "    height_ratio = float(img.shape[0]) / height\n",
        "    if width_ratio > height_ratio:\n",
        "        resize_height = height\n",
        "        resize_width = int(round(img.shape[1] / height_ratio))\n",
        "    else:\n",
        "        resize_width = width\n",
        "        resize_height = int(round(img.shape[0] / width_ratio))\n",
        "\n",
        "    # Resize the image (will still be larger than new_size in one dimension)\n",
        "    img = transform.resize(img, (resize_height, resize_width),\n",
        "                           mode='constant', anti_aliasing=True, preserve_range=True)\n",
        "\n",
        "    img = img.astype(np.uint8)\n",
        "\n",
        "    # Crop to exactly the desired new_size, using the middle of the image:\n",
        "    if width_ratio > height_ratio:\n",
        "        start = int(round((resize_width-width)/2.0))\n",
        "        return img[:, start:start + width]\n",
        "    else:\n",
        "        start = int(round((resize_height-height)/2.0))\n",
        "        return img[start:start + height, :]\n",
        "\n",
        "\n",
        "def crop_center(img: np.ndarray,\n",
        "                size: Tuple[int, int]) -> np.ndarray:\n",
        "    \"\"\" Crops the center of an image\n",
        "        Parameters\n",
        "        ----------\n",
        "        img : np.ndarray (H x W)\n",
        "            The image to be cropped\n",
        "        size: tuple (H x W)\n",
        "            The desired size\n",
        "        Returns\n",
        "        -------\n",
        "        np.ndarray\n",
        "            The cRecentropped image\n",
        "        \"\"\"\n",
        "    img_shape = img.shape\n",
        "    start_y = (img_shape[0] - size[0]) // 2\n",
        "    start_x = (img_shape[1] - size[1]) // 2\n",
        "    cropped = img[start_y: start_y + size[0], start_x:start_x + size[1]]\n",
        "    return cropped\n",
        "\n",
        "\n",
        "def crop_center_multiple(imgs: np.ndarray,\n",
        "                         size: Tuple[int, int]) -> np.ndarray:\n",
        "    \"\"\" Crops the center of multiple images\n",
        "        Parameters\n",
        "        ----------\n",
        "        imgs : np.ndarray (N x C x H_old x W_old)\n",
        "            The images to be cropped\n",
        "        size: tuple (H x W)\n",
        "            The desired size\n",
        "        Returns\n",
        "        -------\n",
        "        np.ndarray (N x C x H x W)\n",
        "            The cropped images\n",
        "        \"\"\"\n",
        "    img_shape = imgs.shape[2:]\n",
        "    start_y = (img_shape[0] - size[0]) // 2\n",
        "    start_x = (img_shape[1] - size[1]) // 2\n",
        "    cropped = imgs[:, :, start_y: start_y + size[0], start_x:start_x + size[1]]\n",
        "    return cropped\n",
        "\n",
        "def load_signature(path):\n",
        "    return img_as_ubyte(imread(path, as_gray=True))\n",
        "\n",
        "def imshow(img, text=None, save=False):\n",
        "    npimg = img.numpy()\n",
        "    plt.axis('off')\n",
        "\n",
        "    if text:\n",
        "        plt.text(75, 8, text, style='italic', fontweight='bold',\n",
        "             bbox={'facecolor':'white', 'alpha':0.8, 'pad':10})\n",
        "    #plt.imshow(np.transpose(npimg, (1,2,0)), cmap='gray')\n",
        "    plt.imshow(npimg[1, :, :])\n",
        "    plt.show()\n",
        "\n",
        "def show_plot(iteration, loss):\n",
        "    plt.plt(iteration, loss)\n",
        "    plt.show()"
      ],
      "metadata": {
        "id": "AVq46Rxw22SZ"
      },
      "execution_count": null,
      "outputs": []
    },
    {
      "cell_type": "code",
      "source": [
        "canvas_size = (952, 1360)\n",
        "img_size = (128, 128)\n",
        "input_size = (256, 256)\n",
        "\n",
        "observation = train.iloc[10]\n",
        "img1 = load_signature(observation[\"image_real_paths\"])\n",
        "img2 = load_signature(observation[\"image_forged_paths\"])\n",
        "preprocessed_img1 = preprocess_signature(img1, canvas_size, input_size)\n",
        "preprocessed_img2 = preprocess_signature(img2, canvas_size, input_size)"
      ],
      "metadata": {
        "id": "q6Me78bm3Y1t"
      },
      "execution_count": null,
      "outputs": []
    },
    {
      "cell_type": "code",
      "source": [
        "# Shows pre-processed samples of the two users\n",
        "\n",
        "f, ax = plt.subplots(2,1, figsize=(15,10))\n",
        "ax[0].imshow(preprocessed_img1)\n",
        "ax[1].imshow(preprocessed_img2)"
      ],
      "metadata": {
        "colab": {
          "base_uri": "https://localhost:8080/",
          "height": 612
        },
        "id": "j-8ZY9-n3f2x",
        "outputId": "593bd1a9-8417-4e29-8123-cf9a42e6b6da"
      },
      "execution_count": null,
      "outputs": [
        {
          "output_type": "execute_result",
          "data": {
            "text/plain": [
              "<matplotlib.image.AxesImage at 0x7f99d5ffea00>"
            ]
          },
          "metadata": {},
          "execution_count": 16
        },
        {
          "output_type": "display_data",
          "data": {
            "text/plain": [
              "<Figure size 1080x720 with 2 Axes>"
            ],
            "image/png": "[encoded data removed]"
          },
          "metadata": {
            "needs_background": "light"
          }
        }
      ]
    },
    {
      "cell_type": "markdown",
      "source": [
        "# Dataset"
      ],
      "metadata": {
        "id": "POeNTnMJ3zhh"
      }
    },
    {
      "cell_type": "code",
      "source": [
        "class SignatureDataset(Dataset):\n",
        "    \n",
        "    def __init__(self, df, canvas_size, dim=(256, 256)):\n",
        "        self.df  = df\n",
        "        self.real_file_names = df[\"image_real_paths\"].values\n",
        "        self.forged_file_names = df[\"image_forged_paths\"].values\n",
        "        self.labels = df[\"label\"].values\n",
        "        self.dim = dim\n",
        "        self.canvas_size=canvas_size\n",
        "\n",
        "    def __len__(self):\n",
        "        return len(self.df)\n",
        "        \n",
        "    def __getitem__(self,index):\n",
        "        # getting the image path\n",
        "        real_file_path = self.real_file_names[index]\n",
        "        forged_file_path = self.forged_file_names[index]\n",
        "        \n",
        "        img1 = load_signature(real_file_path)\n",
        "        img2 = load_signature(forged_file_path)\n",
        "        \n",
        "        img1 = preprocess_signature(img1, canvas_size, self.dim)\n",
        "        img2 = preprocess_signature(img2, canvas_size, self.dim)\n",
        "        \n",
        "        label = torch.tensor(self.labels[index], dtype=torch.long)\n",
        "        \n",
        "        return torch.tensor(img1), torch.tensor(img2), label.float()"
      ],
      "metadata": {
        "id": "rxf0AC9-3mWK"
      },
      "execution_count": null,
      "outputs": []
    },
    {
      "cell_type": "code",
      "source": [
        "train_dataset = SignatureDataset(train, canvas_size, input_size)\n",
        "img1, img2, _ = train_dataset[1]\n",
        "\n",
        "f, ax = plt.subplots(2,1, figsize=(15,10))\n",
        "ax[0].imshow(img1)\n",
        "ax[1].imshow(img2)"
      ],
      "metadata": {
        "colab": {
          "base_uri": "https://localhost:8080/",
          "height": 612
        },
        "id": "0hhkRDpL37_x",
        "outputId": "d57e591a-346c-47f9-8ba9-551aa15d427a"
      },
      "execution_count": null,
      "outputs": [
        {
          "output_type": "execute_result",
          "data": {
            "text/plain": [
              "<matplotlib.image.AxesImage at 0x7f99d32608b0>"
            ]
          },
          "metadata": {},
          "execution_count": 18
        },
        {
          "output_type": "display_data",
          "data": {
            "text/plain": [
              "<Figure size 1080x720 with 2 Axes>"
            ],
            "image/png": "[encoded data removed]"
          },
          "metadata": {
            "needs_background": "light"
          }
        }
      ]
    },
    {
      "cell_type": "markdown",
      "source": [
        "# Contrastive loss"
      ],
      "metadata": {
        "id": "UG_rzCcE4KKa"
      }
    },
    {
      "cell_type": "code",
      "source": [
        "class ContrastiveLoss(torch.nn.Module):\n",
        "    \"\"\"\n",
        "    Contrastive loss function.\n",
        "    Based on: http://yann.lecun.com/exdb/publis/pdf/hadsell-chopra-lecun-06.pdf\n",
        "    \"\"\"\n",
        "\n",
        "    def __init__(self, margin=1.0):\n",
        "        super(ContrastiveLoss, self).__init__()\n",
        "        self.margin = margin\n",
        "\n",
        "    def forward(self, output1, output2, label):\n",
        "        euclidean_distance = F.cosine_similarity(F.normalize(output1), F.normalize(output2))\n",
        "        loss_contrastive = torch.mean((1-label) * torch.pow(euclidean_distance, 2) +\n",
        "                                      (label) * torch.pow(torch.clamp(self.margin - euclidean_distance, min=0.0), 2))\n",
        "\n",
        "\n",
        "        return loss_contrastive"
      ],
      "metadata": {
        "id": "6bZcIGOO4F6n"
      },
      "execution_count": null,
      "outputs": []
    },
    {
      "cell_type": "markdown",
      "source": [
        "# Models"
      ],
      "metadata": {
        "id": "0SxBEg8944mE"
      }
    },
    {
      "cell_type": "code",
      "source": [
        "!unzip /content/drive/MyDrive/Image_forensics/signet.pth.zip -d /content/drive/MyDrive/Image_forensics"
      ],
      "metadata": {
        "colab": {
          "base_uri": "https://localhost:8080/"
        },
        "id": "UlMRNRci9RRQ",
        "outputId": "2468a291-7c23-427d-a71a-20d1fb974737"
      },
      "execution_count": null,
      "outputs": [
        {
          "output_type": "stream",
          "name": "stdout",
          "text": [
            "Archive:  /content/drive/MyDrive/Image_forensics/signet.pth.zip\n",
            "  inflating: /content/drive/MyDrive/Image_forensics/signet.pth  \n"
          ]
        }
      ]
    },
    {
      "cell_type": "code",
      "source": [
        "class SigNet(nn.Module):\n",
        "    \"\"\" SigNet model, from https://arxiv.org/abs/1705.05787\n",
        "    \"\"\"\n",
        "    def __init__(self):\n",
        "        super(SigNet, self).__init__()\n",
        "\n",
        "        self.feature_space_size = 2048\n",
        "\n",
        "        self.conv_layers = nn.Sequential(OrderedDict([\n",
        "            ('conv1', conv_bn_mish(1, 96, 11, stride=4)),\n",
        "            ('maxpool1', nn.MaxPool2d(3, 2)),\n",
        "            ('conv2', conv_bn_mish(96, 256, 5, pad=2)),\n",
        "            ('maxpool2', nn.MaxPool2d(3, 2)),\n",
        "            ('conv3', conv_bn_mish(256, 384, 3, pad=1)),\n",
        "            ('conv4', conv_bn_mish(384, 384, 3, pad=1)),\n",
        "            ('conv5', conv_bn_mish(384, 256, 3, pad=1)),\n",
        "            ('maxpool3', nn.MaxPool2d(3, 2)),\n",
        "        ]))\n",
        "\n",
        "        self.fc_layers = nn.Sequential(OrderedDict([\n",
        "            ('fc1', linear_bn_mish(256 * 3 * 5, 2048)),\n",
        "            ('fc2', linear_bn_mish(self.feature_space_size, self.feature_space_size)),\n",
        "        ]))\n",
        "    \n",
        "    def forward_once(self, img):\n",
        "        x = self.conv_layers(img)\n",
        "        x = x.view(x.shape[0], 256 * 3 * 5)\n",
        "        x = self.fc_layers(x)\n",
        "        return x\n",
        "        \n",
        "    def forward(self, img1, img2):\n",
        "        \n",
        "        # Inputs need to have 4 dimensions (batch x channels x height x width), and also be between [0, 1]\n",
        "        img1 = img1.view(-1, 1, 150, 220).float().div(255)\n",
        "        img2 = img2.view(-1, 1, 150, 220).float().div(255)\n",
        "        # forward pass of input 1\n",
        "        output1 = self.forward_once(img1)\n",
        "        # forward pass of input 2\n",
        "        output2 = self.forward_once(img2)\n",
        "        return output1, output2\n",
        "\n",
        "\n",
        "def conv_bn_mish(in_channels, out_channels, kernel_size,  stride=1, pad=0):\n",
        "    return nn.Sequential(OrderedDict([\n",
        "        ('conv', nn.Conv2d(in_channels, out_channels, kernel_size, stride, pad, bias=False)),\n",
        "        ('bn', nn.BatchNorm2d(out_channels)),\n",
        "        ('relu', nn.Mish()),\n",
        "    ]))\n",
        "\n",
        "\n",
        "def linear_bn_mish(in_features, out_features):\n",
        "    return nn.Sequential(OrderedDict([\n",
        "        ('fc', nn.Linear(in_features, out_features, bias=False)),  # Bias is added after BN\n",
        "        ('bn', nn.BatchNorm1d(out_features)),\n",
        "        ('relu', nn.Mish()),\n",
        "    ]))\n",
        "\n",
        "class SiameseModel(nn.Module):\n",
        "    \"\"\" SigNet model, from https://arxiv.org/abs/1705.05787\n",
        "    \"\"\"\n",
        "    def __init__(self):\n",
        "        super(SiameseModel, self).__init__()\n",
        "\n",
        "        self.model = SigNet()\n",
        "        state_dict, _, _ = torch.load(\"/content/drive/MyDrive/Image_forensics/signet.pth\")\n",
        "        self.model.load_state_dict(state_dict)\n",
        "        \n",
        "        if CFG.projection2d:\n",
        "            self.probs = nn.Linear(4, 1)\n",
        "        else:\n",
        "            self.probs = nn.Linear(self.model.feature_space_size*2, 1)\n",
        "        self.projection2d = nn.Linear(self.model.feature_space_size, 2)\n",
        "    \n",
        "    def forward_once(self, img):\n",
        "        x = self.model.forward_once(img)\n",
        "        return x\n",
        "        \n",
        "    def forward(self, img1, img2):\n",
        "        \n",
        "        # Inputs need to have 4 dimensions (batch x channels x height x width), and also be between [0, 1]\n",
        "        # forward pass of input 1\n",
        "        img1 = img1.view(-1, 1, 150, 220).float().div(255)\n",
        "        img2 = img2.view(-1, 1, 150, 220).float().div(255)\n",
        "        embedding1 = self.forward_once(img1)\n",
        "        # forward pass of input 2\n",
        "        embedding2 = self.forward_once(img2)\n",
        "        \n",
        "        if CFG.projection2d:\n",
        "            print(\"Project embeddings into 2d space\")\n",
        "            embedding1 = self.projection2d(embedding1)\n",
        "            embedding2 = self.projection2d(embedding2)\n",
        "            # Classification\n",
        "            output = torch.cat([embedding1, embedding2], dim=1)\n",
        "            output= self.probs(output)\n",
        "            return embedding1, embedding2, output\n",
        "        else:\n",
        "            # Classification\n",
        "            output = torch.cat([embedding1, embedding2], dim=1)\n",
        "            output= self.probs(output)\n",
        "            return embedding1, embedding2, output\n",
        "\n",
        "\n",
        "def conv_bn_mish(in_channels, out_channels, kernel_size,  stride=1, pad=0):\n",
        "    return nn.Sequential(OrderedDict([\n",
        "        ('conv', nn.Conv2d(in_channels, out_channels, kernel_size, stride, pad, bias=False)),\n",
        "        ('bn', nn.BatchNorm2d(out_channels)),\n",
        "        ('relu', nn.Mish()),\n",
        "    ]))\n",
        "\n",
        "\n",
        "def linear_bn_mish(in_features, out_features):\n",
        "    return nn.Sequential(OrderedDict([\n",
        "        ('fc', nn.Linear(in_features, out_features, bias=False)),  # Bias is added after BN\n",
        "        ('bn', nn.BatchNorm1d(out_features)),\n",
        "        ('relu', nn.Mish()),\n",
        "    ]))"
      ],
      "metadata": {
        "id": "n-HS_Fqb40fS"
      },
      "execution_count": null,
      "outputs": []
    },
    {
      "cell_type": "markdown",
      "source": [
        "# Helper functions"
      ],
      "metadata": {
        "id": "PetVXIOH9mnv"
      }
    },
    {
      "cell_type": "code",
      "source": [
        "# ====================================================\n",
        "# Helper functions\n",
        "# ====================================================\n",
        "class AverageMeter(object):\n",
        "    \"\"\"Computes and stores the average and current value\"\"\"\n",
        "    def __init__(self):\n",
        "        self.reset()\n",
        "\n",
        "    def reset(self):\n",
        "        self.val = 0\n",
        "        self.avg = 0\n",
        "        self.sum = 0\n",
        "        self.count = 0\n",
        "\n",
        "    def update(self, val, n=1):\n",
        "        self.val = val\n",
        "        self.sum += val * n\n",
        "        self.count += n\n",
        "        self.avg = self.sum / self.count\n",
        "\n",
        "\n",
        "def asMinutes(s):\n",
        "    m = math.floor(s / 60)\n",
        "    s -= m * 60\n",
        "    return '%dm %ds' % (m, s)\n",
        "\n",
        "\n",
        "def timeSince(since, percent):\n",
        "    now = time.time()\n",
        "    s = now - since\n",
        "    es = s / (percent)\n",
        "    rs = es - s\n",
        "    return '%s (remain %s)' % (asMinutes(s), asMinutes(rs))\n",
        "\n",
        "\n",
        "def train_fn(fold, train_loader, model, criterions, optimizer, epoch, scheduler, device):\n",
        "    \n",
        "    data_time = AverageMeter()\n",
        "    losses = AverageMeter()\n",
        "    scores = AverageMeter()\n",
        "    # switch to train mode\n",
        "    model.train()\n",
        "    start = end = time.time()\n",
        "    global_step = 0\n",
        "    for step, (img1, img2, labels) in enumerate(train_loader):\n",
        "        # measure data loading time\n",
        "        data_time.update(time.time() - end)\n",
        "        img1 = img1.to(device).float()\n",
        "        img2 = img2.to(device).float()\n",
        "        labels = labels.to(device)\n",
        "        batch_size = labels.size(0)\n",
        "        out1, out2, preds = model(img1, img2)\n",
        "        loss1 = criterions[0](out1, out2, labels)\n",
        "        loss2 = criterions[1](preds.squeeze(1), labels)\n",
        "        loss = (loss1 + loss2) / 2\n",
        "            \n",
        "        # record loss\n",
        "        losses.update(loss.item(), batch_size)\n",
        "        if CFG.gradient_accumulation_steps > 1:\n",
        "            loss = loss / CFG.gradient_accumulation_steps\n",
        "        \n",
        "        loss.backward()\n",
        "        grad_norm = torch.nn.utils.clip_grad_norm_(model.parameters(), CFG.max_grad_norm)\n",
        "        if (step + 1) % CFG.gradient_accumulation_steps == 0:\n",
        "            optimizer.step()\n",
        "            optimizer.zero_grad()\n",
        "            global_step += 1\n",
        "        # measure elapsed time\n",
        "        end = time.time()\n",
        "        if step % CFG.print_freq == 0 or step == (len(train_loader)-1):\n",
        "            print(f'Epoch: [{epoch}][{step}/{len(train_loader)}] ', end='')\n",
        "            print(f'Elapsed: {timeSince(start, float(step+1)/len(train_loader))} ', end='')\n",
        "            print(f'Loss: {losses.val:.4f}({losses.avg:.4f}) ', end='')\n",
        "            print(f'Grad: {grad_norm:.4f} ', end='')\n",
        "            if scheduler:\n",
        "                print(f'LR: {scheduler.get_last_lr()[0]:.6f}  ')\n",
        "            else:\n",
        "                print(f'LR: {CFG.lr}')\n",
        "            \n",
        "        wandb.log({f\"[fold{fold}] loss\": losses.val,\n",
        "                   f\"[fold{fold}] lr\": scheduler.get_last_lr()[0]})\n",
        "    return losses.avg"
      ],
      "metadata": {
        "id": "mqG7KQ_v5FeL"
      },
      "execution_count": null,
      "outputs": []
    },
    {
      "cell_type": "markdown",
      "source": [
        "# train"
      ],
      "metadata": {
        "id": "8QF6kGN29zVn"
      }
    },
    {
      "cell_type": "code",
      "source": [
        "# ====================================================\n",
        "# loader\n",
        "# ====================================================\n",
        "seed_torch(seed=CFG.seed)\n",
        "\n",
        "\n",
        "train_dataset = SignatureDataset(train, CFG.canvas_size, dim=(256, 256))\n",
        "\n",
        "train_loader = DataLoader(train_dataset,\n",
        "                              batch_size=CFG.batch_size, \n",
        "                              shuffle=True, \n",
        "                              num_workers=CFG.num_workers, pin_memory=True, drop_last=True)\n",
        "   \n",
        "# ====================================================\n",
        "# scheduler \n",
        "# ====================================================\n",
        "def get_scheduler(optimizer):\n",
        "    if CFG.scheduler=='ReduceLROnPlateau':\n",
        "        scheduler = ReduceLROnPlateau(optimizer, **CFG.reduce_params)\n",
        "    elif CFG.scheduler=='CosineAnnealingLR':\n",
        "        scheduler = CosineAnnealingLR(optimizer, **CFG.cosanneal_params)\n",
        "    elif CFG.scheduler=='CosineAnnealingWarmRestarts':\n",
        "        scheduler = CosineAnnealingWarmRestarts(optimizer, **CFG.reduce_params)\n",
        "    elif CFG.scheduler=='OneCycleLR':\n",
        "        scheduler = OneCycleLR(optimizer, **CFG.onecycle_params)\n",
        "    return scheduler\n",
        "\n",
        "# ====================================================\n",
        "# model & optimizer\n",
        "# ====================================================\n",
        "model = SiameseModel()\n",
        "model.to(device)\n",
        "# Optional\n",
        "wandb.watch(model) \n",
        "\n",
        "optimizer = Adam(model.parameters(), lr=CFG.lr, weight_decay=CFG.weight_decay)\n",
        "try:\n",
        "    scheduler = get_scheduler(optimizer)\n",
        "except:\n",
        "    print('Learning scheduler is not used')\n",
        "\n",
        "# ====================================================\n",
        "# loop\n",
        "# ====================================================\n",
        "contrastive = ContrastiveLoss() # Contrastive loss\n",
        "binary_cross = nn.BCEWithLogitsLoss() # Binary cross entropy\n",
        "best_score = 0.\n",
        "best_loss = np.inf\n",
        "    \n",
        "for epoch in range(CFG.epochs):\n",
        "        \n",
        "    start_time = time.time()\n",
        "        \n",
        "    # train\n",
        "    avg_loss = train_fn(train, train_loader, model, [contrastive, binary_cross], optimizer, epoch, scheduler, device)\n",
        "\n",
        "        \n",
        "    if isinstance(scheduler, ReduceLROnPlateau):\n",
        "        scheduler.step(avg_loss)\n",
        "    elif isinstance(scheduler, CosineAnnealingLR):\n",
        "        scheduler.step()\n",
        "    elif isinstance(scheduler, CosineAnnealingWarmRestarts):\n",
        "        scheduler.step()\n",
        "    elif isinstance(scheduler, OneCycleLR):\n",
        "        scheduler.step()\n",
        "\n",
        "\n",
        "    elapsed = time.time() - start_time\n",
        "\n",
        "    LOGGER.info(f'Epoch {epoch+1} - avg_train_loss: {avg_loss:.4f}  time: {elapsed:.0f}s')\n",
        "    wandb.log({f\"epoch\": epoch+1, \n",
        "                   f\"avg_train_loss\": avg_loss})\n",
        "                 \n",
        "            \n",
        "    if avg_loss < best_loss:\n",
        "        best_loss = avg_loss\n",
        "        LOGGER.info(f'Epoch {epoch+1} - Save Best Loss: {best_loss:.4f} Model')\n",
        "        torch.save({'model': model.state_dict()}, \n",
        "                        OUTPUT_DIR+f'{CFG.model_name}_best_loss.pt')\n",
        "   \n",
        "   \n",
        "wandb.finish()"
      ],
      "metadata": {
        "colab": {
          "base_uri": "https://localhost:8080/"
        },
        "id": "tqorJG-m9vx1",
        "outputId": "8dffddc6-2fe2-4fd4-d1d0-fc37766a0f55"
      },
      "execution_count": null,
      "outputs": [
        {
          "output_type": "stream",
          "name": "stdout",
          "text": [
            "Epoch: [0][0/1450] Elapsed: 0m 16s (remain 405m 20s) Loss: 0.5392(0.5392) Grad: 4.2005 LR: 0.001000  \n",
            "Epoch: [0][100/1450] Elapsed: 4m 48s (remain 64m 7s) Loss: 0.5449(0.4120) Grad: 3.9115 LR: 0.001000  \n",
            "Epoch: [0][200/1450] Elapsed: 8m 0s (remain 49m 45s) Loss: 0.2267(0.3623) Grad: 1.3304 LR: 0.001000  \n",
            "Epoch: [0][300/1450] Elapsed: 10m 59s (remain 41m 56s) Loss: 0.2668(0.3364) Grad: 1.7620 LR: 0.001000  \n",
            "Epoch: [0][400/1450] Elapsed: 13m 57s (remain 36m 30s) Loss: 0.1432(0.3091) Grad: 0.8869 LR: 0.001000  \n",
            "Epoch: [0][500/1450] Elapsed: 16m 51s (remain 31m 56s) Loss: 0.1023(0.2836) Grad: 1.4872 LR: 0.001000  \n",
            "Epoch: [0][600/1450] Elapsed: 19m 46s (remain 27m 56s) Loss: 0.0503(0.2650) Grad: 0.6677 LR: 0.001000  \n",
            "Epoch: [0][700/1450] Elapsed: 22m 38s (remain 24m 11s) Loss: 0.1407(0.2486) Grad: 1.1061 LR: 0.001000  \n",
            "Epoch: [0][800/1450] Elapsed: 25m 33s (remain 20m 42s) Loss: 0.0836(0.2341) Grad: 1.5168 LR: 0.001000  \n",
            "Epoch: [0][900/1450] Elapsed: 28m 27s (remain 17m 20s) Loss: 0.1055(0.2211) Grad: 1.2483 LR: 0.001000  \n",
            "Epoch: [0][1000/1450] Elapsed: 31m 22s (remain 14m 4s) Loss: 0.0966(0.2107) Grad: 1.2042 LR: 0.001000  \n",
            "Epoch: [0][1100/1450] Elapsed: 34m 16s (remain 10m 52s) Loss: 0.1058(0.1987) Grad: 1.2551 LR: 0.001000  \n",
            "Epoch: [0][1200/1450] Elapsed: 37m 10s (remain 7m 42s) Loss: 0.2278(0.1887) Grad: 1.7221 LR: 0.001000  \n",
            "Epoch: [0][1300/1450] Elapsed: 40m 5s (remain 4m 35s) Loss: 0.0402(0.1818) Grad: 0.3997 LR: 0.001000  \n",
            "Epoch: [0][1400/1450] Elapsed: 42m 57s (remain 1m 30s) Loss: 0.0859(0.1753) Grad: 1.5501 LR: 0.001000  \n"
          ]
        },
        {
          "output_type": "stream",
          "name": "stderr",
          "text": [
            "Epoch 1 - avg_train_loss: 0.1721  time: 2664s\n",
            "INFO:__main__:Epoch 1 - avg_train_loss: 0.1721  time: 2664s\n",
            "Epoch 1 - Save Best Loss: 0.1721 Model\n",
            "INFO:__main__:Epoch 1 - Save Best Loss: 0.1721 Model\n"
          ]
        },
        {
          "output_type": "stream",
          "name": "stdout",
          "text": [
            "Epoch: [0][1449/1450] Elapsed: 44m 23s (remain 0m 0s) Loss: 0.0296(0.1721) Grad: 0.3538 LR: 0.001000  \n",
            "Epoch: [1][0/1450] Elapsed: 0m 3s (remain 94m 14s) Loss: 0.1067(0.1067) Grad: 1.1373 LR: 0.000855  \n",
            "Epoch: [1][100/1450] Elapsed: 2m 57s (remain 39m 31s) Loss: 0.0948(0.0857) Grad: 1.1097 LR: 0.000855  \n",
            "Epoch: [1][200/1450] Elapsed: 5m 51s (remain 36m 27s) Loss: 0.0419(0.0824) Grad: 0.9511 LR: 0.000855  \n",
            "Epoch: [1][300/1450] Elapsed: 8m 49s (remain 33m 39s) Loss: 0.0257(0.0753) Grad: 0.5916 LR: 0.000855  \n",
            "Epoch: [1][400/1450] Elapsed: 11m 43s (remain 30m 39s) Loss: 0.0869(0.0727) Grad: 1.6127 LR: 0.000855  \n",
            "Epoch: [1][500/1450] Elapsed: 14m 40s (remain 27m 47s) Loss: 0.0241(0.0685) Grad: 0.4555 LR: 0.000855  \n",
            "Epoch: [1][600/1450] Elapsed: 17m 35s (remain 24m 50s) Loss: 0.0339(0.0677) Grad: 0.4713 LR: 0.000855  \n",
            "Epoch: [1][700/1450] Elapsed: 20m 30s (remain 21m 55s) Loss: 0.0662(0.0675) Grad: 1.0186 LR: 0.000855  \n",
            "Epoch: [1][800/1450] Elapsed: 23m 24s (remain 18m 57s) Loss: 0.0316(0.0656) Grad: 0.7888 LR: 0.000855  \n",
            "Epoch: [1][900/1450] Elapsed: 26m 17s (remain 16m 1s) Loss: 0.0162(0.0650) Grad: 0.2749 LR: 0.000855  \n",
            "Epoch: [1][1000/1450] Elapsed: 29m 12s (remain 13m 6s) Loss: 0.0474(0.0641) Grad: 0.7686 LR: 0.000855  \n",
            "Epoch: [1][1100/1450] Elapsed: 32m 5s (remain 10m 10s) Loss: 0.0505(0.0635) Grad: 1.3388 LR: 0.000855  \n",
            "Epoch: [1][1200/1450] Elapsed: 34m 58s (remain 7m 14s) Loss: 0.0914(0.0618) Grad: 2.6705 LR: 0.000855  \n",
            "Epoch: [1][1300/1450] Elapsed: 37m 53s (remain 4m 20s) Loss: 0.0322(0.0602) Grad: 0.5544 LR: 0.000855  \n",
            "Epoch: [1][1400/1450] Elapsed: 40m 45s (remain 1m 25s) Loss: 0.0447(0.0633) Grad: 0.9690 LR: 0.000855  \n"
          ]
        },
        {
          "output_type": "stream",
          "name": "stderr",
          "text": [
            "Epoch 2 - avg_train_loss: 0.0628  time: 2532s\n",
            "INFO:__main__:Epoch 2 - avg_train_loss: 0.0628  time: 2532s\n",
            "Epoch 2 - Save Best Loss: 0.0628 Model\n",
            "INFO:__main__:Epoch 2 - Save Best Loss: 0.0628 Model\n"
          ]
        },
        {
          "output_type": "stream",
          "name": "stdout",
          "text": [
            "Epoch: [1][1449/1450] Elapsed: 42m 11s (remain 0m 0s) Loss: 0.0318(0.0628) Grad: 0.7271 LR: 0.000855  \n",
            "Epoch: [2][0/1450] Elapsed: 0m 3s (remain 86m 17s) Loss: 0.0191(0.0191) Grad: 0.3023 LR: 0.000505  \n",
            "Epoch: [2][100/1450] Elapsed: 2m 55s (remain 39m 2s) Loss: 0.0253(0.0449) Grad: 0.4146 LR: 0.000505  \n",
            "Epoch: [2][200/1450] Elapsed: 5m 48s (remain 36m 5s) Loss: 0.0223(0.0427) Grad: 0.3972 LR: 0.000505  \n",
            "Epoch: [2][300/1450] Elapsed: 8m 45s (remain 33m 25s) Loss: 0.0133(0.0365) Grad: 0.2515 LR: 0.000505  \n",
            "Epoch: [2][400/1450] Elapsed: 11m 41s (remain 30m 33s) Loss: 0.0107(0.0327) Grad: 0.1637 LR: 0.000505  \n",
            "Epoch: [2][500/1450] Elapsed: 14m 35s (remain 27m 39s) Loss: 0.0176(0.0319) Grad: 0.3699 LR: 0.000505  \n",
            "Epoch: [2][600/1450] Elapsed: 17m 33s (remain 24m 48s) Loss: 0.2208(0.0323) Grad: 3.6049 LR: 0.000505  \n",
            "Epoch: [2][700/1450] Elapsed: 20m 27s (remain 21m 51s) Loss: 0.0240(0.0313) Grad: 0.2693 LR: 0.000505  \n",
            "Epoch: [2][800/1450] Elapsed: 23m 21s (remain 18m 55s) Loss: 0.0321(0.0305) Grad: 0.9902 LR: 0.000505  \n",
            "Epoch: [2][900/1450] Elapsed: 26m 17s (remain 16m 0s) Loss: 0.0129(0.0300) Grad: 0.3670 LR: 0.000505  \n",
            "Epoch: [2][1000/1450] Elapsed: 29m 10s (remain 13m 5s) Loss: 0.0109(0.0292) Grad: 0.3253 LR: 0.000505  \n",
            "Epoch: [2][1100/1450] Elapsed: 32m 13s (remain 10m 12s) Loss: 0.0185(0.0300) Grad: 0.3111 LR: 0.000505  \n",
            "Epoch: [2][1200/1450] Elapsed: 35m 13s (remain 7m 18s) Loss: 0.0295(0.0302) Grad: 0.4975 LR: 0.000505  \n",
            "Epoch: [2][1300/1450] Elapsed: 38m 9s (remain 4m 22s) Loss: 0.0215(0.0294) Grad: 0.4326 LR: 0.000505  \n",
            "Epoch: [2][1400/1450] Elapsed: 41m 7s (remain 1m 26s) Loss: 0.0097(0.0302) Grad: 0.1639 LR: 0.000505  \n"
          ]
        },
        {
          "output_type": "stream",
          "name": "stderr",
          "text": [
            "Epoch 3 - avg_train_loss: 0.0300  time: 2550s\n",
            "INFO:__main__:Epoch 3 - avg_train_loss: 0.0300  time: 2550s\n",
            "Epoch 3 - Save Best Loss: 0.0300 Model\n",
            "INFO:__main__:Epoch 3 - Save Best Loss: 0.0300 Model\n"
          ]
        },
        {
          "output_type": "stream",
          "name": "stdout",
          "text": [
            "Epoch: [2][1449/1450] Elapsed: 42m 29s (remain 0m 0s) Loss: 0.0361(0.0300) Grad: 0.9266 LR: 0.000505  \n",
            "Epoch: [3][0/1450] Elapsed: 0m 3s (remain 92m 40s) Loss: 0.0269(0.0269) Grad: 0.4700 LR: 0.000155  \n",
            "Epoch: [3][100/1450] Elapsed: 3m 0s (remain 40m 13s) Loss: 0.0193(0.0280) Grad: 0.3122 LR: 0.000155  \n",
            "Epoch: [3][200/1450] Elapsed: 5m 56s (remain 36m 52s) Loss: 0.0539(0.0230) Grad: 1.7450 LR: 0.000155  \n",
            "Epoch: [3][300/1450] Elapsed: 8m 49s (remain 33m 39s) Loss: 0.0058(0.0222) Grad: 0.1786 LR: 0.000155  \n",
            "Epoch: [3][400/1450] Elapsed: 11m 44s (remain 30m 42s) Loss: 0.0111(0.0210) Grad: 0.2486 LR: 0.000155  \n",
            "Epoch: [3][500/1450] Elapsed: 14m 38s (remain 27m 44s) Loss: 0.0085(0.0195) Grad: 0.2579 LR: 0.000155  \n",
            "Epoch: [3][600/1450] Elapsed: 17m 33s (remain 24m 47s) Loss: 0.0211(0.0184) Grad: 0.4661 LR: 0.000155  \n",
            "Epoch: [3][700/1450] Elapsed: 20m 32s (remain 21m 57s) Loss: 0.0180(0.0178) Grad: 0.5581 LR: 0.000155  \n",
            "Epoch: [3][800/1450] Elapsed: 23m 28s (remain 19m 0s) Loss: 0.0158(0.0175) Grad: 0.4578 LR: 0.000155  \n",
            "Epoch: [3][900/1450] Elapsed: 26m 25s (remain 16m 6s) Loss: 0.0361(0.0176) Grad: 0.5842 LR: 0.000155  \n",
            "Epoch: [3][1000/1450] Elapsed: 29m 21s (remain 13m 10s) Loss: 0.0086(0.0174) Grad: 0.2033 LR: 0.000155  \n",
            "Epoch: [3][1100/1450] Elapsed: 32m 17s (remain 10m 14s) Loss: 0.0111(0.0173) Grad: 0.3103 LR: 0.000155  \n",
            "Epoch: [3][1200/1450] Elapsed: 35m 17s (remain 7m 19s) Loss: 0.0084(0.0173) Grad: 0.1209 LR: 0.000155  \n",
            "Epoch: [3][1300/1450] Elapsed: 38m 15s (remain 4m 22s) Loss: 0.0109(0.0174) Grad: 0.2138 LR: 0.000155  \n",
            "Epoch: [3][1400/1450] Elapsed: 41m 10s (remain 1m 26s) Loss: 0.0071(0.0173) Grad: 0.2637 LR: 0.000155  \n"
          ]
        },
        {
          "output_type": "stream",
          "name": "stderr",
          "text": [
            "Epoch 4 - avg_train_loss: 0.0173  time: 2556s\n",
            "INFO:__main__:Epoch 4 - avg_train_loss: 0.0173  time: 2556s\n",
            "Epoch 4 - Save Best Loss: 0.0173 Model\n",
            "INFO:__main__:Epoch 4 - Save Best Loss: 0.0173 Model\n"
          ]
        },
        {
          "output_type": "stream",
          "name": "stdout",
          "text": [
            "Epoch: [3][1449/1450] Elapsed: 42m 35s (remain 0m 0s) Loss: 0.0317(0.0173) Grad: 1.1707 LR: 0.000155  \n",
            "Epoch: [4][0/1450] Elapsed: 0m 3s (remain 88m 47s) Loss: 0.0096(0.0096) Grad: 0.2023 LR: 0.000010  \n",
            "Epoch: [4][100/1450] Elapsed: 2m 55s (remain 39m 4s) Loss: 0.0052(0.0138) Grad: 0.1526 LR: 0.000010  \n",
            "Epoch: [4][200/1450] Elapsed: 5m 51s (remain 36m 22s) Loss: 0.0034(0.0128) Grad: 0.1176 LR: 0.000010  \n",
            "Epoch: [4][300/1450] Elapsed: 8m 43s (remain 33m 17s) Loss: 0.0049(0.0126) Grad: 0.1336 LR: 0.000010  \n",
            "Epoch: [4][400/1450] Elapsed: 11m 36s (remain 30m 21s) Loss: 0.0044(0.0124) Grad: 0.1388 LR: 0.000010  \n",
            "Epoch: [4][500/1450] Elapsed: 14m 29s (remain 27m 27s) Loss: 0.0171(0.0121) Grad: 0.3925 LR: 0.000010  \n",
            "Epoch: [4][600/1450] Elapsed: 17m 19s (remain 24m 29s) Loss: 0.0109(0.0127) Grad: 0.3738 LR: 0.000010  \n",
            "Epoch: [4][700/1450] Elapsed: 20m 15s (remain 21m 39s) Loss: 0.0092(0.0126) Grad: 0.1524 LR: 0.000010  \n",
            "Epoch: [4][800/1450] Elapsed: 23m 12s (remain 18m 48s) Loss: 0.0340(0.0125) Grad: 0.5374 LR: 0.000010  \n",
            "Epoch: [4][900/1450] Elapsed: 26m 6s (remain 15m 54s) Loss: 0.0059(0.0127) Grad: 0.2220 LR: 0.000010  \n",
            "Epoch: [4][1000/1450] Elapsed: 29m 2s (remain 13m 1s) Loss: 0.0041(0.0125) Grad: 0.1010 LR: 0.000010  \n",
            "Epoch: [4][1100/1450] Elapsed: 31m 58s (remain 10m 8s) Loss: 0.0049(0.0127) Grad: 0.1824 LR: 0.000010  \n",
            "Epoch: [4][1200/1450] Elapsed: 34m 51s (remain 7m 13s) Loss: 0.0198(0.0128) Grad: 0.9667 LR: 0.000010  \n",
            "Epoch: [4][1300/1450] Elapsed: 37m 43s (remain 4m 19s) Loss: 0.0091(0.0128) Grad: 0.2247 LR: 0.000010  \n",
            "Epoch: [4][1400/1450] Elapsed: 40m 36s (remain 1m 25s) Loss: 0.0054(0.0127) Grad: 0.1557 LR: 0.000010  \n"
          ]
        },
        {
          "output_type": "stream",
          "name": "stderr",
          "text": [
            "Epoch 5 - avg_train_loss: 0.0127  time: 2521s\n",
            "INFO:__main__:Epoch 5 - avg_train_loss: 0.0127  time: 2521s\n",
            "Epoch 5 - Save Best Loss: 0.0127 Model\n",
            "INFO:__main__:Epoch 5 - Save Best Loss: 0.0127 Model\n"
          ]
        },
        {
          "output_type": "stream",
          "name": "stdout",
          "text": [
            "Epoch: [4][1449/1450] Elapsed: 42m 0s (remain 0m 0s) Loss: 0.0038(0.0127) Grad: 0.0566 LR: 0.000010  \n",
            "Epoch: [5][0/1450] Elapsed: 0m 3s (remain 84m 28s) Loss: 0.0116(0.0116) Grad: 0.2674 LR: 0.000155  \n",
            "Epoch: [5][100/1450] Elapsed: 2m 54s (remain 38m 56s) Loss: 0.0158(0.0251) Grad: 0.2568 LR: 0.000155  \n",
            "Epoch: [5][200/1450] Elapsed: 5m 54s (remain 36m 40s) Loss: 0.0117(0.0199) Grad: 0.2267 LR: 0.000155  \n",
            "Epoch: [5][300/1450] Elapsed: 8m 49s (remain 33m 42s) Loss: 0.0307(0.0189) Grad: 0.5468 LR: 0.000155  \n",
            "Epoch: [5][400/1450] Elapsed: 11m 46s (remain 30m 48s) Loss: 0.0028(0.0173) Grad: 0.0761 LR: 0.000155  \n",
            "Epoch: [5][500/1450] Elapsed: 14m 42s (remain 27m 50s) Loss: 0.0047(0.0165) Grad: 0.0777 LR: 0.000155  \n",
            "Epoch: [5][600/1450] Elapsed: 17m 35s (remain 24m 51s) Loss: 0.0223(0.0159) Grad: 1.0032 LR: 0.000155  \n",
            "Epoch: [5][700/1450] Elapsed: 20m 27s (remain 21m 51s) Loss: 0.0088(0.0153) Grad: 0.1964 LR: 0.000155  \n",
            "Epoch: [5][800/1450] Elapsed: 23m 20s (remain 18m 54s) Loss: 0.0061(0.0150) Grad: 0.2238 LR: 0.000155  \n",
            "Epoch: [5][900/1450] Elapsed: 26m 10s (remain 15m 57s) Loss: 0.0053(0.0146) Grad: 0.1490 LR: 0.000155  \n",
            "Epoch: [5][1000/1450] Elapsed: 29m 1s (remain 13m 1s) Loss: 0.0265(0.0145) Grad: 1.4517 LR: 0.000155  \n",
            "Epoch: [5][1100/1450] Elapsed: 31m 54s (remain 10m 6s) Loss: 0.0080(0.0142) Grad: 0.2424 LR: 0.000155  \n",
            "Epoch: [5][1200/1450] Elapsed: 34m 46s (remain 7m 12s) Loss: 0.0085(0.0145) Grad: 0.1624 LR: 0.000155  \n",
            "Epoch: [5][1300/1450] Elapsed: 37m 39s (remain 4m 18s) Loss: 0.0119(0.0144) Grad: 0.2117 LR: 0.000155  \n",
            "Epoch: [5][1400/1450] Elapsed: 40m 32s (remain 1m 25s) Loss: 0.0083(0.0140) Grad: 0.2604 LR: 0.000155  \n"
          ]
        },
        {
          "output_type": "stream",
          "name": "stderr",
          "text": [
            "Epoch 6 - avg_train_loss: 0.0141  time: 2516s\n",
            "INFO:__main__:Epoch 6 - avg_train_loss: 0.0141  time: 2516s\n"
          ]
        },
        {
          "output_type": "stream",
          "name": "stdout",
          "text": [
            "Epoch: [5][1449/1450] Elapsed: 41m 55s (remain 0m 0s) Loss: 0.0079(0.0141) Grad: 0.2348 LR: 0.000155  \n",
            "Epoch: [6][0/1450] Elapsed: 0m 3s (remain 80m 42s) Loss: 0.0103(0.0103) Grad: 0.2779 LR: 0.000505  \n",
            "Epoch: [6][100/1450] Elapsed: 2m 55s (remain 39m 3s) Loss: 0.1148(0.1087) Grad: 3.7664 LR: 0.000505  \n",
            "Epoch: [6][200/1450] Elapsed: 5m 47s (remain 36m 0s) Loss: 0.6002(0.0845) Grad: 3.7138 LR: 0.000505  \n",
            "Epoch: [6][300/1450] Elapsed: 8m 37s (remain 32m 54s) Loss: 0.0251(0.0749) Grad: 0.3476 LR: 0.000505  \n",
            "Epoch: [6][400/1450] Elapsed: 11m 28s (remain 30m 1s) Loss: 0.0312(0.0651) Grad: 0.4659 LR: 0.000505  \n",
            "Epoch: [6][500/1450] Elapsed: 14m 20s (remain 27m 10s) Loss: 0.0099(0.0600) Grad: 0.2104 LR: 0.000505  \n",
            "Epoch: [6][600/1450] Elapsed: 17m 13s (remain 24m 20s) Loss: 0.0275(0.0531) Grad: 0.4441 LR: 0.000505  \n",
            "Epoch: [6][700/1450] Elapsed: 20m 8s (remain 21m 31s) Loss: 0.0130(0.0488) Grad: 0.3063 LR: 0.000505  \n",
            "Epoch: [6][800/1450] Elapsed: 23m 8s (remain 18m 45s) Loss: 0.0085(0.0468) Grad: 0.2109 LR: 0.000505  \n",
            "Epoch: [6][900/1450] Elapsed: 26m 8s (remain 15m 55s) Loss: 0.0119(0.0443) Grad: 0.2414 LR: 0.000505  \n",
            "Epoch: [6][1000/1450] Elapsed: 29m 4s (remain 13m 2s) Loss: 0.0186(0.0429) Grad: 0.5231 LR: 0.000505  \n",
            "Epoch: [6][1100/1450] Elapsed: 31m 57s (remain 10m 7s) Loss: 0.0064(0.0409) Grad: 0.1604 LR: 0.000505  \n",
            "Epoch: [6][1200/1450] Elapsed: 34m 48s (remain 7m 12s) Loss: 0.0449(0.0390) Grad: 1.4374 LR: 0.000505  \n",
            "Epoch: [6][1300/1450] Elapsed: 37m 42s (remain 4m 19s) Loss: 0.0090(0.0372) Grad: 0.2869 LR: 0.000505  \n",
            "Epoch: [6][1400/1450] Elapsed: 40m 33s (remain 1m 25s) Loss: 0.0292(0.0359) Grad: 0.9577 LR: 0.000505  \n"
          ]
        },
        {
          "output_type": "stream",
          "name": "stderr",
          "text": [
            "Epoch 7 - avg_train_loss: 0.0359  time: 2514s\n",
            "INFO:__main__:Epoch 7 - avg_train_loss: 0.0359  time: 2514s\n"
          ]
        },
        {
          "output_type": "stream",
          "name": "stdout",
          "text": [
            "Epoch: [6][1449/1450] Elapsed: 41m 53s (remain 0m 0s) Loss: 0.0372(0.0359) Grad: 1.5894 LR: 0.000505  \n",
            "Epoch: [7][0/1450] Elapsed: 0m 5s (remain 120m 52s) Loss: 0.0301(0.0301) Grad: 0.7145 LR: 0.000855  \n",
            "Epoch: [7][100/1450] Elapsed: 2m 56s (remain 39m 20s) Loss: 0.0156(0.0687) Grad: 0.3032 LR: 0.000855  \n",
            "Epoch: [7][200/1450] Elapsed: 5m 46s (remain 35m 52s) Loss: 0.1071(0.0525) Grad: 3.2767 LR: 0.000855  \n",
            "Epoch: [7][300/1450] Elapsed: 8m 41s (remain 33m 11s) Loss: 0.0341(0.0488) Grad: 1.0874 LR: 0.000855  \n",
            "Epoch: [7][400/1450] Elapsed: 11m 34s (remain 30m 16s) Loss: 0.0247(0.0459) Grad: 0.5848 LR: 0.000855  \n",
            "Epoch: [7][500/1450] Elapsed: 14m 26s (remain 27m 21s) Loss: 0.0457(0.0444) Grad: 1.2715 LR: 0.000855  \n",
            "Epoch: [7][600/1450] Elapsed: 17m 14s (remain 24m 21s) Loss: 0.0231(0.0495) Grad: 0.5125 LR: 0.000855  \n",
            "Epoch: [7][700/1450] Elapsed: 20m 6s (remain 21m 29s) Loss: 0.0283(0.0468) Grad: 0.8279 LR: 0.000855  \n",
            "Epoch: [7][800/1450] Elapsed: 22m 57s (remain 18m 36s) Loss: 0.0201(0.0453) Grad: 0.5086 LR: 0.000855  \n",
            "Epoch: [7][900/1450] Elapsed: 26m 4s (remain 15m 53s) Loss: 0.0514(0.0434) Grad: 1.3799 LR: 0.000855  \n",
            "Epoch: [7][1000/1450] Elapsed: 29m 5s (remain 13m 3s) Loss: 0.0201(0.0409) Grad: 0.3962 LR: 0.000855  \n",
            "Epoch: [7][1100/1450] Elapsed: 32m 6s (remain 10m 10s) Loss: 0.0155(0.0389) Grad: 0.4332 LR: 0.000855  \n",
            "Epoch: [7][1200/1450] Elapsed: 35m 4s (remain 7m 16s) Loss: 0.0130(0.0372) Grad: 0.2732 LR: 0.000855  \n",
            "Epoch: [7][1300/1450] Elapsed: 38m 4s (remain 4m 21s) Loss: 0.0397(0.0357) Grad: 0.7242 LR: 0.000855  \n",
            "Epoch: [7][1400/1450] Elapsed: 41m 5s (remain 1m 26s) Loss: 0.0141(0.0341) Grad: 0.2754 LR: 0.000855  \n"
          ]
        },
        {
          "output_type": "stream",
          "name": "stderr",
          "text": [
            "Epoch 8 - avg_train_loss: 0.0335  time: 2555s\n",
            "INFO:__main__:Epoch 8 - avg_train_loss: 0.0335  time: 2555s\n"
          ]
        },
        {
          "output_type": "stream",
          "name": "stdout",
          "text": [
            "Epoch: [7][1449/1450] Elapsed: 42m 34s (remain 0m 0s) Loss: 0.0154(0.0335) Grad: 0.4921 LR: 0.000855  \n",
            "Epoch: [8][0/1450] Elapsed: 0m 4s (remain 99m 35s) Loss: 0.0279(0.0279) Grad: 0.8568 LR: 0.001000  \n",
            "Epoch: [8][100/1450] Elapsed: 3m 3s (remain 40m 44s) Loss: 0.0535(0.0860) Grad: 1.0688 LR: 0.001000  \n",
            "Epoch: [8][200/1450] Elapsed: 6m 1s (remain 37m 28s) Loss: 0.0476(0.0651) Grad: 0.8321 LR: 0.001000  \n",
            "Epoch: [8][300/1450] Elapsed: 9m 0s (remain 34m 23s) Loss: 0.0257(0.0619) Grad: 0.2859 LR: 0.001000  \n",
            "Epoch: [8][400/1450] Elapsed: 11m 56s (remain 31m 14s) Loss: 0.0092(0.0567) Grad: 0.2400 LR: 0.001000  \n",
            "Epoch: [8][500/1450] Elapsed: 14m 52s (remain 28m 11s) Loss: 0.0401(0.0539) Grad: 0.7133 LR: 0.001000  \n"
          ]
        }
      ]
    },
    {
      "cell_type": "code",
      "source": [],
      "metadata": {
        "id": "VabNwx7R97cg"
      },
      "execution_count": null,
      "outputs": []
    }
  ]
}