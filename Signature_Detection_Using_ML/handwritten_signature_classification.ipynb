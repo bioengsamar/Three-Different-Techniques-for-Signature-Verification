{
  "cells": [
    {
      "cell_type": "markdown",
      "id": "2f30830a",
      "metadata": {
        "papermill": {
          "duration": 0.047621,
          "end_time": "2021-09-28T13:13:26.158410",
          "exception": false,
          "start_time": "2021-09-28T13:13:26.110789",
          "status": "completed"
        },
        "tags": [],
        "id": "2f30830a"
      },
      "source": [
        "<h2> Part 2 </h2>"
      ]
    },
    {
      "cell_type": "code",
      "source": [
        "from google.colab import drive\n",
        "drive.mount('/content/drive')"
      ],
      "metadata": {
        "colab": {
          "base_uri": "https://localhost:8080/"
        },
        "id": "sG7lGbQvdFHY",
        "outputId": "e4c86e94-5f65-4fec-cb1b-c2922961eef6"
      },
      "id": "sG7lGbQvdFHY",
      "execution_count": 1,
      "outputs": [
        {
          "output_type": "stream",
          "name": "stdout",
          "text": [
            "Mounted at /content/drive\n"
          ]
        }
      ]
    },
    {
      "cell_type": "markdown",
      "id": "fada4393",
      "metadata": {
        "papermill": {
          "duration": 0.048192,
          "end_time": "2021-09-28T13:13:26.543332",
          "exception": false,
          "start_time": "2021-09-28T13:13:26.495140",
          "status": "completed"
        },
        "tags": [],
        "id": "fada4393"
      },
      "source": [
        "<h1> CLASSIFICATION </h1>"
      ]
    },
    {
      "cell_type": "markdown",
      "id": "778bd397",
      "metadata": {
        "papermill": {
          "duration": 0.048339,
          "end_time": "2021-09-28T13:13:26.641099",
          "exception": false,
          "start_time": "2021-09-28T13:13:26.592760",
          "status": "completed"
        },
        "tags": [],
        "id": "778bd397"
      },
      "source": [
        "Models selected for feature extraction are used with supervised learning algorithms to classify:-\n",
        "\n",
        "1. Logistic Regression\n",
        "2. Random Forest\n",
        "3. Linear SVM\n",
        "4. RBF SVM\n",
        "5. Sigmoid SVM\n",
        "6. Poly SVM"
      ]
    },
    {
      "cell_type": "code",
      "execution_count": 2,
      "id": "be5c96c2",
      "metadata": {
        "execution": {
          "iopub.execute_input": "2021-09-28T13:13:26.743393Z",
          "iopub.status.busy": "2021-09-28T13:13:26.742080Z",
          "iopub.status.idle": "2021-09-28T13:13:28.006811Z",
          "shell.execute_reply": "2021-09-28T13:13:28.007943Z",
          "shell.execute_reply.started": "2021-09-28T13:06:40.686182Z"
        },
        "papermill": {
          "duration": 1.318055,
          "end_time": "2021-09-28T13:13:28.008620",
          "exception": false,
          "start_time": "2021-09-28T13:13:26.690565",
          "status": "completed"
        },
        "tags": [],
        "id": "be5c96c2"
      },
      "outputs": [],
      "source": [
        "\n",
        "import numpy as np\n",
        "import pickle\n",
        "import pandas as pd\n",
        "from sklearn.metrics import accuracy_score\n",
        "from tqdm import tqdm_notebook as tqdm\n",
        "from sklearn.metrics import confusion_matrix\n",
        "import seaborn as sn\n",
        "import pandas as pd\n",
        "import matplotlib.pyplot as plt\n",
        "from sklearn.model_selection import train_test_split\n",
        "import random\n",
        "from scipy.spatial import distance\n",
        "from sklearn import svm\n",
        "from sklearn.linear_model import LogisticRegression\n",
        "from sklearn.metrics import precision_recall_fscore_support\n",
        "from sklearn.ensemble import RandomForestClassifier\n",
        "import warnings\n",
        "warnings.filterwarnings('ignore')"
      ]
    },
    {
      "cell_type": "code",
      "execution_count": 7,
      "id": "96e329bd",
      "metadata": {
        "execution": {
          "iopub.execute_input": "2021-09-28T13:13:28.137482Z",
          "iopub.status.busy": "2021-09-28T13:13:28.136480Z",
          "iopub.status.idle": "2021-09-28T13:13:28.140362Z",
          "shell.execute_reply": "2021-09-28T13:13:28.139783Z",
          "shell.execute_reply.started": "2021-09-28T13:06:41.979738Z"
        },
        "papermill": {
          "duration": 0.07067,
          "end_time": "2021-09-28T13:13:28.140532",
          "exception": false,
          "start_time": "2021-09-28T13:13:28.069862",
          "status": "completed"
        },
        "tags": [],
        "id": "96e329bd"
      },
      "outputs": [],
      "source": [
        "def dataExt(model, optimizer):\n",
        "    # Load feature ext Data\n",
        "    filesTrain = '/content/drive/MyDrive/Image_forensics/final_project_image_forensics/Handwritten_Signature_Feature_Extraction/re_arranged_data/train_data_names.pkl'\n",
        "    filesTest = '/content/drive/MyDrive/Image_forensics/final_project_image_forensics/Handwritten_Signature_Feature_Extraction/re_arranged_data/test_data_names.pkl'\n",
        "    #../input/feature-extracted/InceptionV3_features/InceptionV3_Adagrad_test.npy\n",
        "    pathTrain = \"/content/drive/MyDrive/Image_forensics/final_project_image_forensics/Handwritten_Signature_Feature_Extraction/re_arranged_data/\" + model + \"_\" + optimizer + \"_train.npy\"\n",
        "    pathTest = \"/content/drive/MyDrive/Image_forensics/final_project_image_forensics/Handwritten_Signature_Feature_Extraction/re_arranged_data/\" + model + \"_\" + optimizer + \"_test.npy\"\n",
        "    \n",
        "    # unload pickle the file names\n",
        "    with open(filesTrain,'rb') as f:\n",
        "        file_train_list = np.load(f, allow_pickle=True)\n",
        "        \n",
        "    with open(filesTest,'rb') as f:\n",
        "        file_test_list = np.load(f, allow_pickle=True)\n",
        "    # data preprocessing \n",
        "    file_train_list = [i[18:] for i in file_train_list]\n",
        "    file_test_list = [i[17:] for i in file_test_list]\n",
        "    \n",
        "    feat_train_np = np.load(pathTrain)\n",
        "    feat_test_np = np.load(pathTest)\n",
        "    # return all the data of features of specific model\n",
        "    return file_train_list, file_test_list, feat_train_np, feat_test_np"
      ]
    },
    {
      "cell_type": "markdown",
      "id": "1029b965",
      "metadata": {
        "papermill": {
          "duration": 0.047495,
          "end_time": "2021-09-28T13:13:28.237059",
          "exception": false,
          "start_time": "2021-09-28T13:13:28.189564",
          "status": "completed"
        },
        "tags": [],
        "id": "1029b965"
      },
      "source": [
        "<h1> Logistic Regression </h1>"
      ]
    },
    {
      "cell_type": "code",
      "execution_count": 4,
      "id": "03fede71",
      "metadata": {
        "execution": {
          "iopub.execute_input": "2021-09-28T13:13:28.347872Z",
          "iopub.status.busy": "2021-09-28T13:13:28.347121Z",
          "iopub.status.idle": "2021-09-28T13:13:28.351201Z",
          "shell.execute_reply": "2021-09-28T13:13:28.350667Z",
          "shell.execute_reply.started": "2021-09-28T13:06:41.988354Z"
        },
        "papermill": {
          "duration": 0.066089,
          "end_time": "2021-09-28T13:13:28.351367",
          "exception": false,
          "start_time": "2021-09-28T13:13:28.285278",
          "status": "completed"
        },
        "tags": [],
        "id": "03fede71"
      },
      "outputs": [],
      "source": [
        "def LogReg(model, optimizer, X_train, y_train, X_test, y_test):\n",
        "    print(\"Logistic Regression\", model, optimizer)    \n",
        "    # extract data using function made above\n",
        "    a,b,c,d = dataExt(model, optimizer)\n",
        "    \n",
        "    def name2feat(string):\n",
        "        try:\n",
        "            index = a.index(string)\n",
        "            return c[index]\n",
        "        except:\n",
        "            index = b.index(string)\n",
        "            return d[index]\n",
        "    #data preprocessing\n",
        "    X_train['img1'] = X_train['img1'].apply(name2feat)\n",
        "    X_train['img2'] = X_train['img2'].apply(name2feat)\n",
        "    X_test['img1'] = X_test['img1'].apply(name2feat)\n",
        "    X_test['img2'] = X_test['img2'].apply(name2feat)\n",
        "    \n",
        "    new_data_train = []\n",
        "    for index,row in X_train.iterrows():\n",
        "        new_list = list(row[0])\n",
        "        new_list.extend(row[1])\n",
        "        new_data_train.append(new_list)\n",
        "    \n",
        "    new_data_test = []\n",
        "    for index,row in X_test.iterrows():\n",
        "        new_list = list(row[0])\n",
        "        new_list.extend(row[1])\n",
        "        new_data_test.append(new_list)\n",
        "    #actual model of logistic regression from sklearn library\n",
        "    Model = LogisticRegression()\n",
        "    Model.fit(new_data_train, y_train)\n",
        "    y_pred = Model.predict(new_data_test)\n",
        "    # check the accuracy p, r,f\n",
        "    print(\"Acuracy\", accuracy_score(y_test, y_pred))\n",
        "    print(\"P,R,F1:\",precision_recall_fscore_support(y_test, y_pred, average='macro'))\n",
        "    df_cm = pd.DataFrame(confusion_matrix(y_test,y_pred,normalize = 'true'), index = [i for i in \"01\"],\n",
        "                  columns = [i for i in \"01\"])\n",
        "    plt.figure(figsize = (10,7))\n",
        "    sn.heatmap(df_cm, annot=True)"
      ]
    },
    {
      "cell_type": "markdown",
      "id": "986bad85",
      "metadata": {
        "papermill": {
          "duration": 0.048286,
          "end_time": "2021-09-28T13:13:28.447626",
          "exception": false,
          "start_time": "2021-09-28T13:13:28.399340",
          "status": "completed"
        },
        "tags": [],
        "id": "986bad85"
      },
      "source": [
        "<h1> Random Forest </h1>"
      ]
    },
    {
      "cell_type": "code",
      "execution_count": null,
      "id": "e573df62",
      "metadata": {
        "execution": {
          "iopub.execute_input": "2021-09-28T13:13:28.558180Z",
          "iopub.status.busy": "2021-09-28T13:13:28.557073Z",
          "iopub.status.idle": "2021-09-28T13:13:28.560800Z",
          "shell.execute_reply": "2021-09-28T13:13:28.561361Z",
          "shell.execute_reply.started": "2021-09-28T13:06:42.002107Z"
        },
        "papermill": {
          "duration": 0.065813,
          "end_time": "2021-09-28T13:13:28.561572",
          "exception": false,
          "start_time": "2021-09-28T13:13:28.495759",
          "status": "completed"
        },
        "tags": [],
        "id": "e573df62"
      },
      "outputs": [],
      "source": [
        "def RandFor(model, optimizer, X_train, y_train, X_test, y_test):\n",
        "    print(\"Logistic Regression\", model, optimizer)    \n",
        "    \n",
        "    a,b,c,d = dataExt(model, optimizer)\n",
        "    \n",
        "    def name2feat(string):\n",
        "        try:\n",
        "            index = a.index(string)\n",
        "            return c[index]\n",
        "        except:\n",
        "            index = b.index(string)\n",
        "            return d[index]\n",
        "       \n",
        "    X_train['img1'] = X_train['img1'].apply(name2feat)\n",
        "    X_train['img2'] = X_train['img2'].apply(name2feat)\n",
        "    X_test['img1'] = X_test['img1'].apply(name2feat)\n",
        "    X_test['img2'] = X_test['img2'].apply(name2feat)\n",
        "    \n",
        "    new_data_train = []\n",
        "    for index,row in X_train.iterrows():\n",
        "        new_list = list(row[0])\n",
        "        new_list.extend(row[1])\n",
        "        new_data_train.append(new_list)\n",
        "    \n",
        "    new_data_test = []\n",
        "    for index,row in X_test.iterrows():\n",
        "        new_list = list(row[0])\n",
        "        new_list.extend(row[1])\n",
        "        new_data_test.append(new_list)\n",
        "    \n",
        "    Model = RandomForestClassifier()\n",
        "    Model.fit(new_data_train, y_train)\n",
        "    y_pred = Model.predict(new_data_test)\n",
        "    \n",
        "    print(\"Acuracy\", accuracy_score(y_test, y_pred))\n",
        "    print(\"P,R,F1:\",precision_recall_fscore_support(y_test, y_pred, average='macro'))\n",
        "    df_cm = pd.DataFrame(confusion_matrix(y_test,y_pred,normalize = 'true'), index = [i for i in \"01\"],\n",
        "                  columns = [i for i in \"01\"])\n",
        "    plt.figure(figsize = (10,7))\n",
        "    sn.heatmap(df_cm, annot=True)"
      ]
    },
    {
      "cell_type": "markdown",
      "id": "49bddfff",
      "metadata": {
        "papermill": {
          "duration": 0.047729,
          "end_time": "2021-09-28T13:13:28.657427",
          "exception": false,
          "start_time": "2021-09-28T13:13:28.609698",
          "status": "completed"
        },
        "tags": [],
        "id": "49bddfff"
      },
      "source": [
        "<h1> Linear SVM </h1>"
      ]
    },
    {
      "cell_type": "code",
      "execution_count": null,
      "id": "2d02aef4",
      "metadata": {
        "execution": {
          "iopub.execute_input": "2021-09-28T13:13:28.764999Z",
          "iopub.status.busy": "2021-09-28T13:13:28.755063Z",
          "iopub.status.idle": "2021-09-28T13:13:28.768478Z",
          "shell.execute_reply": "2021-09-28T13:13:28.767926Z",
          "shell.execute_reply.started": "2021-09-28T13:06:42.018902Z"
        },
        "papermill": {
          "duration": 0.063946,
          "end_time": "2021-09-28T13:13:28.768654",
          "exception": false,
          "start_time": "2021-09-28T13:13:28.704708",
          "status": "completed"
        },
        "tags": [],
        "id": "2d02aef4"
      },
      "outputs": [],
      "source": [
        "\n",
        "def LinearSVM(model, optimizer, X_train, y_train, X_test, y_test):\n",
        "    print(\"Linear SVM\", model, optimizer)    \n",
        "    \n",
        "    a,b,c,d = dataExt(model, optimizer)\n",
        "    \n",
        "    def name2feat(string):\n",
        "        try:\n",
        "            index = a.index(string)\n",
        "            return c[index]\n",
        "        except:\n",
        "            index = b.index(string)\n",
        "            return d[index]\n",
        "       \n",
        "    X_train['img1'] = X_train['img1'].apply(name2feat)\n",
        "    X_train['img2'] = X_train['img2'].apply(name2feat)\n",
        "    X_test['img1'] = X_test['img1'].apply(name2feat)\n",
        "    X_test['img2'] = X_test['img2'].apply(name2feat)\n",
        "    \n",
        "    new_data_train = []\n",
        "    for index,row in X_train.iterrows():\n",
        "        new_list = list(row[0])\n",
        "        new_list.extend(row[1])\n",
        "        new_data_train.append(new_list)\n",
        "    \n",
        "    new_data_test = []\n",
        "    for index,row in X_test.iterrows():\n",
        "        new_list = list(row[0])\n",
        "        new_list.extend(row[1])\n",
        "        new_data_test.append(new_list)\n",
        "    \n",
        "    Model = svm.SVC(kernel='linear') #rbf by default svm.SVC()\n",
        "    Model.fit(new_data_train, y_train)\n",
        "    y_pred = Model.predict(new_data_test)\n",
        "    \n",
        "    print(\"Acuracy\", accuracy_score(y_test, y_pred))\n",
        "    print(\"P,R,F1:\",precision_recall_fscore_support(y_test, y_pred, average='macro'))\n",
        "    df_cm = pd.DataFrame(confusion_matrix(y_test,y_pred,normalize = 'true'), index = [i for i in \"01\"],\n",
        "                  columns = [i for i in \"01\"])\n",
        "    plt.figure(figsize = (10,7))\n",
        "    sn.heatmap(df_cm, annot=True)"
      ]
    },
    {
      "cell_type": "markdown",
      "id": "9d67f91e",
      "metadata": {
        "papermill": {
          "duration": 0.047052,
          "end_time": "2021-09-28T13:13:28.863545",
          "exception": false,
          "start_time": "2021-09-28T13:13:28.816493",
          "status": "completed"
        },
        "tags": [],
        "id": "9d67f91e"
      },
      "source": [
        "<h1> Rbf SVM </h1>"
      ]
    },
    {
      "cell_type": "code",
      "execution_count": null,
      "id": "8d96abe7",
      "metadata": {
        "execution": {
          "iopub.execute_input": "2021-09-28T13:13:28.972343Z",
          "iopub.status.busy": "2021-09-28T13:13:28.971613Z",
          "iopub.status.idle": "2021-09-28T13:13:28.975099Z",
          "shell.execute_reply": "2021-09-28T13:13:28.974465Z",
          "shell.execute_reply.started": "2021-09-28T13:06:42.034210Z"
        },
        "papermill": {
          "duration": 0.063868,
          "end_time": "2021-09-28T13:13:28.975259",
          "exception": false,
          "start_time": "2021-09-28T13:13:28.911391",
          "status": "completed"
        },
        "tags": [],
        "id": "8d96abe7"
      },
      "outputs": [],
      "source": [
        "def RbfSVM(model, optimizer, X_train, y_train, X_test, y_test):\n",
        "    print(\"RBF SVM\", model, optimizer)    \n",
        "    \n",
        "    a,b,c,d = dataExt(model, optimizer)\n",
        "    \n",
        "    def name2feat(string):\n",
        "        try:\n",
        "            index = a.index(string)\n",
        "            return c[index]\n",
        "        except:\n",
        "            index = b.index(string)\n",
        "            return d[index]\n",
        "       \n",
        "    X_train['img1'] = X_train['img1'].apply(name2feat)\n",
        "    X_train['img2'] = X_train['img2'].apply(name2feat)\n",
        "    X_test['img1'] = X_test['img1'].apply(name2feat)\n",
        "    X_test['img2'] = X_test['img2'].apply(name2feat)\n",
        "    \n",
        "    new_data_train = []\n",
        "    for index,row in X_train.iterrows():\n",
        "        new_list = list(row[0])\n",
        "        new_list.extend(row[1])\n",
        "        new_data_train.append(new_list)\n",
        "    \n",
        "    new_data_test = []\n",
        "    for index,row in X_test.iterrows():\n",
        "        new_list = list(row[0])\n",
        "        new_list.extend(row[1])\n",
        "        new_data_test.append(new_list)\n",
        "    \n",
        "    Model = svm.SVC(kernel='rbf') #rbf by default svm.SVC()\n",
        "    Model.fit(new_data_train, y_train)\n",
        "    y_pred = Model.predict(new_data_test)\n",
        "    \n",
        "    print(\"Acuracy\", accuracy_score(y_test, y_pred))\n",
        "    print(\"P,R,F1:\",precision_recall_fscore_support(y_test, y_pred, average='macro'))\n",
        "    df_cm = pd.DataFrame(confusion_matrix(y_test,y_pred,normalize = 'true'), index = [i for i in \"01\"],\n",
        "                  columns = [i for i in \"01\"])\n",
        "    plt.figure(figsize = (10,7))\n",
        "    sn.heatmap(df_cm, annot=True)"
      ]
    },
    {
      "cell_type": "markdown",
      "id": "f4138e3b",
      "metadata": {
        "papermill": {
          "duration": 0.047343,
          "end_time": "2021-09-28T13:13:29.070797",
          "exception": false,
          "start_time": "2021-09-28T13:13:29.023454",
          "status": "completed"
        },
        "tags": [],
        "id": "f4138e3b"
      },
      "source": [
        "<h1> Sigmoid SVM </h1>"
      ]
    },
    {
      "cell_type": "code",
      "execution_count": null,
      "id": "aa908738",
      "metadata": {
        "execution": {
          "iopub.execute_input": "2021-09-28T13:13:29.216474Z",
          "iopub.status.busy": "2021-09-28T13:13:29.215355Z",
          "iopub.status.idle": "2021-09-28T13:13:29.218042Z",
          "shell.execute_reply": "2021-09-28T13:13:29.218539Z",
          "shell.execute_reply.started": "2021-09-28T13:06:42.051248Z"
        },
        "papermill": {
          "duration": 0.093559,
          "end_time": "2021-09-28T13:13:29.218753",
          "exception": false,
          "start_time": "2021-09-28T13:13:29.125194",
          "status": "completed"
        },
        "tags": [],
        "id": "aa908738"
      },
      "outputs": [],
      "source": [
        "def SigmoidSVM(model, optimizer, X_train, y_train, X_test, y_test):\n",
        "    print(\"Sigmoid SVM\", model, optimizer)    \n",
        "    \n",
        "    a,b,c,d = dataExt(model, optimizer)\n",
        "    \n",
        "    def name2feat(string):\n",
        "        try:\n",
        "            index = a.index(string)\n",
        "            return c[index]\n",
        "        except:\n",
        "            index = b.index(string)\n",
        "            return d[index]\n",
        "       \n",
        "    X_train['img1'] = X_train['img1'].apply(name2feat)\n",
        "    X_train['img2'] = X_train['img2'].apply(name2feat)\n",
        "    X_test['img1'] = X_test['img1'].apply(name2feat)\n",
        "    X_test['img2'] = X_test['img2'].apply(name2feat)\n",
        "    \n",
        "    new_data_train = []\n",
        "    for index,row in X_train.iterrows():\n",
        "        new_list = list(row[0])\n",
        "        new_list.extend(row[1])\n",
        "        new_data_train.append(new_list)\n",
        "    \n",
        "    new_data_test = []\n",
        "    for index,row in X_test.iterrows():\n",
        "        new_list = list(row[0])\n",
        "        new_list.extend(row[1])\n",
        "        new_data_test.append(new_list)\n",
        "    \n",
        "    Model = svm.SVC(kernel='sigmoid') #rbf by default svm.SVC()\n",
        "    Model.fit(new_data_train, y_train)\n",
        "    y_pred = Model.predict(new_data_test)\n",
        "    \n",
        "    print(\"Acuracy\", accuracy_score(y_test, y_pred))\n",
        "    print(\"P,R,F1:\",precision_recall_fscore_support(y_test, y_pred, average='macro'))\n",
        "    df_cm = pd.DataFrame(confusion_matrix(y_test,y_pred,normalize = 'true'), index = [i for i in \"01\"],\n",
        "                  columns = [i for i in \"01\"])\n",
        "    plt.figure(figsize = (10,7))\n",
        "    sn.heatmap(df_cm, annot=True)"
      ]
    },
    {
      "cell_type": "markdown",
      "id": "1e1cc559",
      "metadata": {
        "papermill": {
          "duration": 0.048026,
          "end_time": "2021-09-28T13:13:29.316502",
          "exception": false,
          "start_time": "2021-09-28T13:13:29.268476",
          "status": "completed"
        },
        "tags": [],
        "id": "1e1cc559"
      },
      "source": [
        "<h1> Poly SVM </h1>"
      ]
    },
    {
      "cell_type": "code",
      "execution_count": null,
      "id": "f81ee257",
      "metadata": {
        "execution": {
          "iopub.execute_input": "2021-09-28T13:13:29.425549Z",
          "iopub.status.busy": "2021-09-28T13:13:29.424809Z",
          "iopub.status.idle": "2021-09-28T13:13:29.428325Z",
          "shell.execute_reply": "2021-09-28T13:13:29.427724Z",
          "shell.execute_reply.started": "2021-09-28T13:06:42.066997Z"
        },
        "papermill": {
          "duration": 0.064551,
          "end_time": "2021-09-28T13:13:29.428480",
          "exception": false,
          "start_time": "2021-09-28T13:13:29.363929",
          "status": "completed"
        },
        "tags": [],
        "id": "f81ee257"
      },
      "outputs": [],
      "source": [
        "def PolySVM(model, optimizer, X_train, y_train, X_test, y_test):\n",
        "    print(\"POLY SVM\", model, optimizer)    \n",
        "    \n",
        "    a,b,c,d = dataExt(model, optimizer)\n",
        "    \n",
        "    def name2feat(string):\n",
        "        try:\n",
        "            index = a.index(string)\n",
        "            return c[index]\n",
        "        except:\n",
        "            index = b.index(string)\n",
        "            return d[index]\n",
        "       \n",
        "    X_train['img1'] = X_train['img1'].apply(name2feat)\n",
        "    X_train['img2'] = X_train['img2'].apply(name2feat)\n",
        "    X_test['img1'] = X_test['img1'].apply(name2feat)\n",
        "    X_test['img2'] = X_test['img2'].apply(name2feat)\n",
        "    \n",
        "    new_data_train = []\n",
        "    for index,row in X_train.iterrows():\n",
        "        new_list = list(row[0])\n",
        "        new_list.extend(row[1])\n",
        "        new_data_train.append(new_list)\n",
        "    \n",
        "    new_data_test = []\n",
        "    for index,row in X_test.iterrows():\n",
        "        new_list = list(row[0])\n",
        "        new_list.extend(row[1])\n",
        "        new_data_test.append(new_list)\n",
        "    \n",
        "    Model = svm.SVC(kernel='poly') #rbf by default svm.SVC()\n",
        "    Model.fit(new_data_train, y_train)\n",
        "    y_pred = Model.predict(new_data_test)\n",
        "    \n",
        "    print(\"Acuracy\", accuracy_score(y_test, y_pred))\n",
        "    print(\"P,R,F1:\",precision_recall_fscore_support(y_test, y_pred, average='macro'))\n",
        "    df_cm = pd.DataFrame(confusion_matrix(y_test,y_pred,normalize = 'true'), index = [i for i in \"01\"],\n",
        "                  columns = [i for i in \"01\"])\n",
        "    plt.figure(figsize = (10,7))\n",
        "    sn.heatmap(df_cm, annot=True)"
      ]
    },
    {
      "cell_type": "markdown",
      "id": "b3934d88",
      "metadata": {
        "papermill": {
          "duration": 0.04738,
          "end_time": "2021-09-28T13:13:29.522987",
          "exception": false,
          "start_time": "2021-09-28T13:13:29.475607",
          "status": "completed"
        },
        "tags": [],
        "id": "b3934d88"
      },
      "source": [
        "<h1> Classification Results </h1>"
      ]
    },
    {
      "cell_type": "markdown",
      "id": "26817a8b",
      "metadata": {
        "papermill": {
          "duration": 0.04758,
          "end_time": "2021-09-28T13:13:29.714752",
          "exception": false,
          "start_time": "2021-09-28T13:13:29.667172",
          "status": "completed"
        },
        "tags": [],
        "id": "26817a8b"
      },
      "source": [
        "<h1> Logistic Regression Test </h1>"
      ]
    },
    {
      "cell_type": "code",
      "execution_count": 8,
      "id": "c945b76f",
      "metadata": {
        "execution": {
          "iopub.execute_input": "2021-09-28T13:13:29.819294Z",
          "iopub.status.busy": "2021-09-28T13:13:29.818508Z",
          "iopub.status.idle": "2021-09-28T13:13:29.821252Z",
          "shell.execute_reply": "2021-09-28T13:13:29.820593Z",
          "shell.execute_reply.started": "2021-09-28T13:08:41.793837Z"
        },
        "papermill": {
          "duration": 0.059302,
          "end_time": "2021-09-28T13:13:29.821417",
          "exception": false,
          "start_time": "2021-09-28T13:13:29.762115",
          "status": "completed"
        },
        "tags": [],
        "id": "c945b76f",
        "colab": {
          "base_uri": "https://localhost:8080/",
          "height": 515
        },
        "outputId": "ce475c07-bbfd-4b15-b96b-a87f9a10f4f0"
      },
      "outputs": [
        {
          "output_type": "stream",
          "name": "stdout",
          "text": [
            "Logistic Regression vgg16_adam/VGG16 Adam\n",
            "Acuracy 0.8946395563770795\n",
            "P,R,F1: (0.9072717861011346, 0.8529239800056421, 0.8728061565667824, None)\n",
            "CPU times: user 6.79 s, sys: 946 ms, total: 7.74 s\n",
            "Wall time: 6.38 s\n"
          ]
        },
        {
          "output_type": "display_data",
          "data": {
            "text/plain": [
              "<Figure size 720x504 with 2 Axes>"
            ],
            "image/png": "[encoded data removed]"
          },
          "metadata": {
            "needs_background": "light"
          }
        }
      ],
      "source": [
        "%%time\n",
        "data = pd.read_csv('/content/drive/MyDrive/Image_forensics/final_project_image_forensics/Handwritten_Signature_Feature_Extraction/re_arranged_data/sign_data/data.csv')\n",
        "X_data = data[['img1','img2']]\n",
        "y_data = data[['target']]\n",
        "X_train, X_test, y_train, y_test = train_test_split(X_data, y_data, test_size=0.33)\n",
        "LogReg('vgg16_adam/VGG16', 'Adam', X_train, y_train, X_test, y_test)\n"
      ]
    },
    {
      "cell_type": "code",
      "execution_count": 9,
      "id": "30d62db5",
      "metadata": {
        "execution": {
          "iopub.execute_input": "2021-09-28T13:13:29.925617Z",
          "iopub.status.busy": "2021-09-28T13:13:29.924704Z",
          "iopub.status.idle": "2021-09-28T13:13:29.927623Z",
          "shell.execute_reply": "2021-09-28T13:13:29.927077Z",
          "shell.execute_reply.started": "2021-09-28T13:08:55.498133Z"
        },
        "papermill": {
          "duration": 0.05823,
          "end_time": "2021-09-28T13:13:29.927793",
          "exception": false,
          "start_time": "2021-09-28T13:13:29.869563",
          "status": "completed"
        },
        "tags": [],
        "id": "30d62db5",
        "colab": {
          "base_uri": "https://localhost:8080/",
          "height": 515
        },
        "outputId": "264269d0-d497-46b5-8026-4ad8cc26ae6e"
      },
      "outputs": [
        {
          "output_type": "stream",
          "name": "stdout",
          "text": [
            "Logistic Regression vgg16_rmsprop/VGG16 RMSprop\n",
            "Acuracy 0.9850805386849749\n",
            "P,R,F1: (0.9809881660466983, 0.9857417877842232, 0.983303392620724, None)\n",
            "CPU times: user 7.17 s, sys: 980 ms, total: 8.15 s\n",
            "Wall time: 9.86 s\n"
          ]
        },
        {
          "output_type": "display_data",
          "data": {
            "text/plain": [
              "<Figure size 720x504 with 2 Axes>"
            ],
            "image/png": "[encoded data removed]"
          },
          "metadata": {
            "needs_background": "light"
          }
        }
      ],
      "source": [
        "\n",
        "%%time\n",
        "data = pd.read_csv('/content/drive/MyDrive/Image_forensics/final_project_image_forensics/Handwritten_Signature_Feature_Extraction/re_arranged_data/sign_data/data.csv')\n",
        "X_data = data[['img1','img2']]\n",
        "y_data = data[['target']]\n",
        "X_train, X_test, y_train, y_test = train_test_split(X_data, y_data, test_size=0.33)\n",
        "LogReg('vgg16_rmsprop/VGG16','RMSprop', X_train, y_train, X_test, y_test)\n"
      ]
    },
    {
      "cell_type": "code",
      "execution_count": 10,
      "id": "b682479d",
      "metadata": {
        "execution": {
          "iopub.execute_input": "2021-09-28T13:13:30.031553Z",
          "iopub.status.busy": "2021-09-28T13:13:30.030733Z",
          "iopub.status.idle": "2021-09-28T13:13:30.033281Z",
          "shell.execute_reply": "2021-09-28T13:13:30.033857Z",
          "shell.execute_reply.started": "2021-09-28T13:09:07.413629Z"
        },
        "papermill": {
          "duration": 0.058718,
          "end_time": "2021-09-28T13:13:30.034042",
          "exception": false,
          "start_time": "2021-09-28T13:13:29.975324",
          "status": "completed"
        },
        "tags": [],
        "id": "b682479d",
        "colab": {
          "base_uri": "https://localhost:8080/",
          "height": 519
        },
        "outputId": "e641269a-f7e0-4796-9f99-126ef87ae676"
      },
      "outputs": [
        {
          "output_type": "stream",
          "name": "stdout",
          "text": [
            "Logistic Regression inceptionv3_adam/InceptionV3 Adam\n",
            "Acuracy 0.8894903617639293\n",
            "P,R,F1: (0.8713520787526223, 0.8837701711645954, 0.8769373673113371, None)\n",
            "CPU times: user 9.23 s, sys: 1.08 s, total: 10.3 s\n",
            "Wall time: 13.4 s\n"
          ]
        },
        {
          "output_type": "display_data",
          "data": {
            "text/plain": [
              "<Figure size 720x504 with 2 Axes>"
            ],
            "image/png": "[encoded data removed]"
          },
          "metadata": {
            "needs_background": "light"
          }
        }
      ],
      "source": [
        "%%time\n",
        "data = pd.read_csv('/content/drive/MyDrive/Image_forensics/final_project_image_forensics/Handwritten_Signature_Feature_Extraction/re_arranged_data/sign_data/data.csv')\n",
        "X_data = data[['img1','img2']]\n",
        "y_data = data[['target']]\n",
        "X_train, X_test, y_train, y_test = train_test_split(X_data, y_data, test_size=0.33)\n",
        "LogReg('inceptionv3_adam/InceptionV3','Adam', X_train, y_train, X_test, y_test)\n"
      ]
    },
    {
      "cell_type": "code",
      "execution_count": 13,
      "id": "5acc59a0",
      "metadata": {
        "execution": {
          "iopub.execute_input": "2021-09-28T13:13:30.138323Z",
          "iopub.status.busy": "2021-09-28T13:13:30.137437Z",
          "iopub.status.idle": "2021-09-28T13:13:30.140616Z",
          "shell.execute_reply": "2021-09-28T13:13:30.139934Z",
          "shell.execute_reply.started": "2021-09-28T13:09:36.680875Z"
        },
        "papermill": {
          "duration": 0.058585,
          "end_time": "2021-09-28T13:13:30.140783",
          "exception": false,
          "start_time": "2021-09-28T13:13:30.082198",
          "status": "completed"
        },
        "tags": [],
        "id": "5acc59a0",
        "colab": {
          "base_uri": "https://localhost:8080/",
          "height": 515
        },
        "outputId": "29b0ad13-8c37-46cd-b292-0ba2bb376efd"
      },
      "outputs": [
        {
          "output_type": "stream",
          "name": "stdout",
          "text": [
            "Logistic Regression inceptionv3_adagrad/InceptionV3 Adagrad\n",
            "Acuracy 0.9911539477158701\n",
            "P,R,F1: (0.9879318387949434, 0.9923741138487936, 0.9901002416423761, None)\n",
            "CPU times: user 6.7 s, sys: 895 ms, total: 7.6 s\n",
            "Wall time: 6.54 s\n"
          ]
        },
        {
          "output_type": "display_data",
          "data": {
            "text/plain": [
              "<Figure size 720x504 with 2 Axes>"
            ],
            "image/png": "[encoded data removed]"
          },
          "metadata": {
            "needs_background": "light"
          }
        }
      ],
      "source": [
        "%%time\n",
        "data = pd.read_csv('/content/drive/MyDrive/Image_forensics/final_project_image_forensics/Handwritten_Signature_Feature_Extraction/re_arranged_data/sign_data/data.csv')\n",
        "X_data = data[['img1','img2']]\n",
        "y_data = data[['target']]\n",
        "X_train, X_test, y_train, y_test = train_test_split(X_data, y_data, test_size=0.33)\n",
        "LogReg('inceptionv3_adagrad/InceptionV3','Adagrad', X_train, y_train, X_test, y_test)"
      ]
    },
    {
      "cell_type": "markdown",
      "id": "517e1f69",
      "metadata": {
        "papermill": {
          "duration": 0.047642,
          "end_time": "2021-09-28T13:13:30.235778",
          "exception": false,
          "start_time": "2021-09-28T13:13:30.188136",
          "status": "completed"
        },
        "tags": [],
        "id": "517e1f69"
      },
      "source": [
        "<h1> Random Forest </h1>"
      ]
    },
    {
      "cell_type": "code",
      "execution_count": null,
      "id": "abf57344",
      "metadata": {
        "execution": {
          "iopub.execute_input": "2021-09-28T13:13:30.338744Z",
          "iopub.status.busy": "2021-09-28T13:13:30.337918Z",
          "iopub.status.idle": "2021-09-28T13:13:43.312081Z",
          "shell.execute_reply": "2021-09-28T13:13:43.311197Z",
          "shell.execute_reply.started": "2021-09-28T13:09:40.022811Z"
        },
        "papermill": {
          "duration": 13.028627,
          "end_time": "2021-09-28T13:13:43.312240",
          "exception": false,
          "start_time": "2021-09-28T13:13:30.283613",
          "status": "completed"
        },
        "tags": [],
        "colab": {
          "base_uri": "https://localhost:8080/",
          "height": 515
        },
        "id": "abf57344",
        "outputId": "6cfb6878-6176-4c64-9752-98027e4f6602"
      },
      "outputs": [
        {
          "output_type": "stream",
          "name": "stdout",
          "text": [
            "Logistic Regression vgg16_adam/VGG16 Adam\n",
            "Acuracy 0.9930023765513599\n",
            "P,R,F1: (0.9900909672986646, 0.9945080191383517, 0.9922435500025457, None)\n",
            "CPU times: user 8.33 s, sys: 489 ms, total: 8.82 s\n",
            "Wall time: 9.84 s\n"
          ]
        },
        {
          "output_type": "display_data",
          "data": {
            "text/plain": [
              "<Figure size 720x504 with 2 Axes>"
            ],
            "image/png": "[encoded data removed]"
          },
          "metadata": {
            "needs_background": "light"
          }
        }
      ],
      "source": [
        "%%time\n",
        "data = pd.read_csv('/content/drive/MyDrive/Image_forensics/final_project_image_forensics/Handwritten_Signature_Feature_Extraction/re_arranged_data/sign_data/data.csv')\n",
        "X_data = data[['img1','img2']]\n",
        "y_data = data[['target']]\n",
        "X_train, X_test, y_train, y_test = train_test_split(X_data, y_data, test_size=0.33)\n",
        "RandFor('vgg16_adam/VGG16','Adam', X_train, y_train, X_test, y_test)"
      ]
    },
    {
      "cell_type": "code",
      "execution_count": null,
      "id": "9bb9e3ca",
      "metadata": {
        "execution": {
          "iopub.execute_input": "2021-09-28T13:13:43.444772Z",
          "iopub.status.busy": "2021-09-28T13:13:43.444062Z",
          "iopub.status.idle": "2021-09-28T13:13:56.023880Z",
          "shell.execute_reply": "2021-09-28T13:13:56.024430Z"
        },
        "papermill": {
          "duration": 12.658048,
          "end_time": "2021-09-28T13:13:56.024646",
          "exception": false,
          "start_time": "2021-09-28T13:13:43.366598",
          "status": "completed"
        },
        "tags": [],
        "colab": {
          "base_uri": "https://localhost:8080/",
          "height": 519
        },
        "id": "9bb9e3ca",
        "outputId": "a19d1f60-5025-4cb4-9914-c49351eda0cc"
      },
      "outputs": [
        {
          "output_type": "stream",
          "name": "stdout",
          "text": [
            "Logistic Regression vgg16_rmsprop/VGG16 RMSprop\n",
            "Acuracy 0.995907050435701\n",
            "P,R,F1: (0.9940521872601689, 0.9968993798759752, 0.9954531676206835, None)\n",
            "CPU times: user 9.67 s, sys: 671 ms, total: 10.3 s\n",
            "Wall time: 11.9 s\n"
          ]
        },
        {
          "output_type": "display_data",
          "data": {
            "text/plain": [
              "<Figure size 720x504 with 2 Axes>"
            ],
            "image/png": "[encoded data removed]"
          },
          "metadata": {
            "needs_background": "light"
          }
        }
      ],
      "source": [
        "\n",
        "%%time\n",
        "data = pd.read_csv('/content/drive/MyDrive/Image_forensics/final_project_image_forensics/Handwritten_Signature_Feature_Extraction/re_arranged_data/sign_data/data.csv')\n",
        "X_data = data[['img1','img2']]\n",
        "y_data = data[['target']]\n",
        "X_train, X_test, y_train, y_test = train_test_split(X_data, y_data, test_size=0.33)\n",
        "RandFor('vgg16_rmsprop/VGG16','RMSprop', X_train, y_train, X_test, y_test)"
      ]
    },
    {
      "cell_type": "code",
      "execution_count": null,
      "id": "8f5bb2e4",
      "metadata": {
        "execution": {
          "iopub.execute_input": "2021-09-28T13:13:56.132738Z",
          "iopub.status.busy": "2021-09-28T13:13:56.131579Z",
          "iopub.status.idle": "2021-09-28T13:14:06.015108Z",
          "shell.execute_reply": "2021-09-28T13:14:06.014520Z"
        },
        "papermill": {
          "duration": 9.938641,
          "end_time": "2021-09-28T13:14:06.015268",
          "exception": false,
          "start_time": "2021-09-28T13:13:56.076627",
          "status": "completed"
        },
        "tags": [],
        "colab": {
          "base_uri": "https://localhost:8080/",
          "height": 515
        },
        "id": "8f5bb2e4",
        "outputId": "fde47951-16bc-4e43-d3ff-96bad63c8c21"
      },
      "outputs": [
        {
          "output_type": "stream",
          "name": "stdout",
          "text": [
            "Logistic Regression inceptionv3_adam/InceptionV3 Adam\n",
            "Acuracy 0.9935304990757856\n",
            "P,R,F1: (0.9908015311466687, 0.9949170110034499, 0.9928117384010146, None)\n",
            "CPU times: user 6.63 s, sys: 332 ms, total: 6.96 s\n",
            "Wall time: 8.57 s\n"
          ]
        },
        {
          "output_type": "display_data",
          "data": {
            "text/plain": [
              "<Figure size 720x504 with 2 Axes>"
            ],
            "image/png": "[encoded data removed]"
          },
          "metadata": {
            "needs_background": "light"
          }
        }
      ],
      "source": [
        "%%time\n",
        "data = pd.read_csv('/content/drive/MyDrive/Image_forensics/final_project_image_forensics/Handwritten_Signature_Feature_Extraction/re_arranged_data/sign_data/data.csv')\n",
        "X_data = data[['img1','img2']]\n",
        "y_data = data[['target']]\n",
        "X_train, X_test, y_train, y_test = train_test_split(X_data, y_data, test_size=0.33)\n",
        "RandFor('inceptionv3_adam/InceptionV3','Adam', X_train, y_train, X_test, y_test)"
      ]
    },
    {
      "cell_type": "code",
      "execution_count": null,
      "id": "792d2e1a",
      "metadata": {
        "execution": {
          "iopub.execute_input": "2021-09-28T13:14:06.128555Z",
          "iopub.status.busy": "2021-09-28T13:14:06.127871Z",
          "iopub.status.idle": "2021-09-28T13:14:20.506711Z",
          "shell.execute_reply": "2021-09-28T13:14:20.506116Z"
        },
        "papermill": {
          "duration": 14.437943,
          "end_time": "2021-09-28T13:14:20.506871",
          "exception": false,
          "start_time": "2021-09-28T13:14:06.068928",
          "status": "completed"
        },
        "tags": [],
        "colab": {
          "base_uri": "https://localhost:8080/",
          "height": 519
        },
        "id": "792d2e1a",
        "outputId": "8dcfefbd-cecc-4609-e8ae-48cb48118ae4"
      },
      "outputs": [
        {
          "output_type": "stream",
          "name": "stdout",
          "text": [
            "Logistic Regression inceptionv3_adagrad/InceptionV3 Adagrad\n",
            "Acuracy 0.9916820702402958\n",
            "P,R,F1: (0.9876081825334382, 0.9938174681059863, 0.9906158526407908, None)\n",
            "CPU times: user 12.5 s, sys: 370 ms, total: 12.9 s\n",
            "Wall time: 14.6 s\n"
          ]
        },
        {
          "output_type": "display_data",
          "data": {
            "text/plain": [
              "<Figure size 720x504 with 2 Axes>"
            ],
            "image/png": "[encoded data removed]"
          },
          "metadata": {
            "needs_background": "light"
          }
        }
      ],
      "source": [
        "%%time\n",
        "data = pd.read_csv('/content/drive/MyDrive/Image_forensics/final_project_image_forensics/Handwritten_Signature_Feature_Extraction/re_arranged_data/sign_data/data.csv')\n",
        "X_data = data[['img1','img2']]\n",
        "y_data = data[['target']]\n",
        "X_train, X_test, y_train, y_test = train_test_split(X_data, y_data, test_size=0.33)\n",
        "RandFor('inceptionv3_adagrad/InceptionV3','Adagrad', X_train, y_train, X_test, y_test)"
      ]
    },
    {
      "cell_type": "markdown",
      "id": "cdc102b7",
      "metadata": {
        "papermill": {
          "duration": 0.055419,
          "end_time": "2021-09-28T13:14:20.618341",
          "exception": false,
          "start_time": "2021-09-28T13:14:20.562922",
          "status": "completed"
        },
        "tags": [],
        "id": "cdc102b7"
      },
      "source": [
        "<h1> Linear SVM Test </h1>"
      ]
    },
    {
      "cell_type": "code",
      "execution_count": null,
      "id": "b463741e",
      "metadata": {
        "execution": {
          "iopub.execute_input": "2021-09-28T13:14:20.735715Z",
          "iopub.status.busy": "2021-09-28T13:14:20.735040Z",
          "iopub.status.idle": "2021-09-28T13:15:40.271936Z",
          "shell.execute_reply": "2021-09-28T13:15:40.272440Z"
        },
        "papermill": {
          "duration": 79.599052,
          "end_time": "2021-09-28T13:15:40.272665",
          "exception": false,
          "start_time": "2021-09-28T13:14:20.673613",
          "status": "completed"
        },
        "tags": [],
        "colab": {
          "base_uri": "https://localhost:8080/",
          "height": 515
        },
        "id": "b463741e",
        "outputId": "bdc1030a-0fb0-4f38-9f8f-7a19d8fd9ad7"
      },
      "outputs": [
        {
          "output_type": "stream",
          "name": "stdout",
          "text": [
            "Linear SVM vgg16_adam/VGG16 Adam\n",
            "Acuracy 0.9248745709004489\n",
            "P,R,F1: (0.9351203592356511, 0.8950178859500417, 0.9111911210533028, None)\n",
            "CPU times: user 1min 2s, sys: 821 ms, total: 1min 3s\n",
            "Wall time: 1min 7s\n"
          ]
        },
        {
          "output_type": "display_data",
          "data": {
            "text/plain": [
              "<Figure size 720x504 with 2 Axes>"
            ],
            "image/png": "[encoded data removed]"
          },
          "metadata": {
            "needs_background": "light"
          }
        }
      ],
      "source": [
        "%%time\n",
        "data = pd.read_csv('/content/drive/MyDrive/Image_forensics/final_project_image_forensics/Handwritten_Signature_Feature_Extraction/re_arranged_data/sign_data/data.csv')\n",
        "X_data = data[['img1','img2']]\n",
        "y_data = data[['target']]\n",
        "X_train, X_test, y_train, y_test = train_test_split(X_data, y_data, test_size=0.33)\n",
        "LinearSVM('vgg16_adam/VGG16','Adam', X_train, y_train, X_test, y_test)"
      ]
    },
    {
      "cell_type": "code",
      "execution_count": null,
      "id": "d29fa989",
      "metadata": {
        "execution": {
          "iopub.execute_input": "2021-09-28T13:15:40.392520Z",
          "iopub.status.busy": "2021-09-28T13:15:40.391770Z",
          "iopub.status.idle": "2021-09-28T13:16:23.270309Z",
          "shell.execute_reply": "2021-09-28T13:16:23.270917Z"
        },
        "papermill": {
          "duration": 42.941783,
          "end_time": "2021-09-28T13:16:23.271109",
          "exception": false,
          "start_time": "2021-09-28T13:15:40.329326",
          "status": "completed"
        },
        "tags": [],
        "colab": {
          "base_uri": "https://localhost:8080/",
          "height": 515
        },
        "id": "d29fa989",
        "outputId": "b414ddb2-03d8-4e6d-922d-5f5ca3523184"
      },
      "outputs": [
        {
          "output_type": "stream",
          "name": "stdout",
          "text": [
            "Linear SVM vgg16_rmsprop/VGG16 RMSprop\n",
            "Acuracy 0.990493794560338\n",
            "P,R,F1: (0.9859023315546327, 0.9928473599607759, 0.9892546825149302, None)\n",
            "CPU times: user 35.6 s, sys: 388 ms, total: 36 s\n",
            "Wall time: 35.9 s\n"
          ]
        },
        {
          "output_type": "display_data",
          "data": {
            "text/plain": [
              "<Figure size 720x504 with 2 Axes>"
            ],
            "image/png": "[encoded data removed]"
          },
          "metadata": {
            "needs_background": "light"
          }
        }
      ],
      "source": [
        "%%time\n",
        "data = pd.read_csv('/content/drive/MyDrive/Image_forensics/final_project_image_forensics/Handwritten_Signature_Feature_Extraction/re_arranged_data/sign_data/data.csv')\n",
        "X_data = data[['img1','img2']]\n",
        "y_data = data[['target']]\n",
        "X_train, X_test, y_train, y_test = train_test_split(X_data, y_data, test_size=0.33)\n",
        "LinearSVM('vgg16_rmsprop/VGG16','RMSprop', X_train, y_train, X_test, y_test)"
      ]
    },
    {
      "cell_type": "code",
      "execution_count": null,
      "id": "d749c2ad",
      "metadata": {
        "execution": {
          "iopub.execute_input": "2021-09-28T13:16:23.396237Z",
          "iopub.status.busy": "2021-09-28T13:16:23.393322Z",
          "iopub.status.idle": "2021-09-28T13:23:36.538227Z",
          "shell.execute_reply": "2021-09-28T13:23:36.537498Z"
        },
        "papermill": {
          "duration": 433.207395,
          "end_time": "2021-09-28T13:23:36.538490",
          "exception": false,
          "start_time": "2021-09-28T13:16:23.331095",
          "status": "completed"
        },
        "tags": [],
        "colab": {
          "base_uri": "https://localhost:8080/",
          "height": 515
        },
        "id": "d749c2ad",
        "outputId": "26411008-7000-4742-fb8f-f08033316bae"
      },
      "outputs": [
        {
          "output_type": "stream",
          "name": "stdout",
          "text": [
            "Linear SVM inceptionv3_adam/InceptionV3 Adam\n",
            "Acuracy 0.9288354898336414\n",
            "P,R,F1: (0.9120406707164771, 0.9419765106463103, 0.9230245584441872, None)\n",
            "CPU times: user 1min 10s, sys: 480 ms, total: 1min 11s\n",
            "Wall time: 1min 13s\n"
          ]
        },
        {
          "output_type": "display_data",
          "data": {
            "text/plain": [
              "<Figure size 720x504 with 2 Axes>"
            ],
            "image/png": "[encoded data removed]"
          },
          "metadata": {
            "needs_background": "light"
          }
        }
      ],
      "source": [
        "%%time\n",
        "data = pd.read_csv('/content/drive/MyDrive/Image_forensics/final_project_image_forensics/Handwritten_Signature_Feature_Extraction/re_arranged_data/sign_data/data.csv')\n",
        "X_data = data[['img1','img2']]\n",
        "y_data = data[['target']]\n",
        "X_train, X_test, y_train, y_test = train_test_split(X_data, y_data, test_size=0.33)\n",
        "LinearSVM('inceptionv3_adam/InceptionV3','Adam', X_train, y_train, X_test, y_test)"
      ]
    },
    {
      "cell_type": "code",
      "execution_count": null,
      "id": "f08c449a",
      "metadata": {
        "execution": {
          "iopub.execute_input": "2021-09-28T13:23:36.668603Z",
          "iopub.status.busy": "2021-09-28T13:23:36.667883Z",
          "iopub.status.idle": "2021-09-28T13:24:10.170610Z",
          "shell.execute_reply": "2021-09-28T13:24:10.171193Z"
        },
        "papermill": {
          "duration": 33.571293,
          "end_time": "2021-09-28T13:24:10.171374",
          "exception": false,
          "start_time": "2021-09-28T13:23:36.600081",
          "status": "completed"
        },
        "tags": [],
        "colab": {
          "base_uri": "https://localhost:8080/",
          "height": 515
        },
        "id": "f08c449a",
        "outputId": "a3535fe0-2c57-4b06-a80d-1385bf2fa0bd"
      },
      "outputs": [
        {
          "output_type": "stream",
          "name": "stdout",
          "text": [
            "Linear SVM inceptionv3_adagrad/InceptionV3 Adagrad\n",
            "Acuracy 0.9908898864536573\n",
            "P,R,F1: (0.9875834499190972, 0.9919839899222701, 0.9897344653315796, None)\n",
            "CPU times: user 16.2 s, sys: 320 ms, total: 16.5 s\n",
            "Wall time: 17.8 s\n"
          ]
        },
        {
          "output_type": "display_data",
          "data": {
            "text/plain": [
              "<Figure size 720x504 with 2 Axes>"
            ],
            "image/png": "[encoded data removed]"
          },
          "metadata": {
            "needs_background": "light"
          }
        }
      ],
      "source": [
        "%%time\n",
        "data = pd.read_csv('/content/drive/MyDrive/Image_forensics/final_project_image_forensics/Handwritten_Signature_Feature_Extraction/re_arranged_data/sign_data/data.csv')\n",
        "X_data = data[['img1','img2']]\n",
        "y_data = data[['target']]\n",
        "X_train, X_test, y_train, y_test = train_test_split(X_data, y_data, test_size=0.33)\n",
        "LinearSVM('inceptionv3_adagrad/InceptionV3','Adagrad', X_train, y_train, X_test, y_test)"
      ]
    },
    {
      "cell_type": "markdown",
      "id": "2b58e0d7",
      "metadata": {
        "papermill": {
          "duration": 0.062141,
          "end_time": "2021-09-28T13:24:10.295396",
          "exception": false,
          "start_time": "2021-09-28T13:24:10.233255",
          "status": "completed"
        },
        "tags": [],
        "id": "2b58e0d7"
      },
      "source": [
        "<h1> RBF SVM Test </h1>"
      ]
    },
    {
      "cell_type": "code",
      "execution_count": null,
      "id": "3362720a",
      "metadata": {
        "execution": {
          "iopub.execute_input": "2021-09-28T13:24:10.425852Z",
          "iopub.status.busy": "2021-09-28T13:24:10.425164Z",
          "iopub.status.idle": "2021-09-28T13:26:01.144927Z",
          "shell.execute_reply": "2021-09-28T13:26:01.145428Z",
          "shell.execute_reply.started": "2021-09-28T07:48:23.408403Z"
        },
        "papermill": {
          "duration": 110.787798,
          "end_time": "2021-09-28T13:26:01.145675",
          "exception": false,
          "start_time": "2021-09-28T13:24:10.357877",
          "status": "completed"
        },
        "tags": [],
        "colab": {
          "base_uri": "https://localhost:8080/",
          "height": 515
        },
        "id": "3362720a",
        "outputId": "a66c1763-2cbf-496f-9fb8-99a756623887"
      },
      "outputs": [
        {
          "output_type": "stream",
          "name": "stdout",
          "text": [
            "RBF SVM vgg16_adam/VGG16 Adam\n",
            "Acuracy 0.7649854766305783\n",
            "P,R,F1: (0.8422230975115181, 0.6556761114006273, 0.6637399814531862, None)\n",
            "CPU times: user 1min 58s, sys: 520 ms, total: 1min 59s\n",
            "Wall time: 2min 8s\n"
          ]
        },
        {
          "output_type": "display_data",
          "data": {
            "text/plain": [
              "<Figure size 720x504 with 2 Axes>"
            ],
            "image/png": "[encoded data removed]"
          },
          "metadata": {
            "needs_background": "light"
          }
        }
      ],
      "source": [
        "%%time\n",
        "data = pd.read_csv('/content/drive/MyDrive/Image_forensics/final_project_image_forensics/Handwritten_Signature_Feature_Extraction/re_arranged_data/sign_data/data.csv')\n",
        "X_data = data[['img1','img2']]\n",
        "y_data = data[['target']]\n",
        "X_train, X_test, y_train, y_test = train_test_split(X_data, y_data, test_size=0.33)\n",
        "RbfSVM('vgg16_adam/VGG16','Adam', X_train, y_train, X_test, y_test)"
      ]
    },
    {
      "cell_type": "code",
      "execution_count": null,
      "id": "05979911",
      "metadata": {
        "execution": {
          "iopub.execute_input": "2021-09-28T13:26:01.288120Z",
          "iopub.status.busy": "2021-09-28T13:26:01.287425Z",
          "iopub.status.idle": "2021-09-28T13:27:31.098423Z",
          "shell.execute_reply": "2021-09-28T13:27:31.098981Z"
        },
        "papermill": {
          "duration": 89.885569,
          "end_time": "2021-09-28T13:27:31.099224",
          "exception": false,
          "start_time": "2021-09-28T13:26:01.213655",
          "status": "completed"
        },
        "tags": [],
        "colab": {
          "base_uri": "https://localhost:8080/",
          "height": 515
        },
        "id": "05979911",
        "outputId": "367df856-91ea-430c-cce8-66ca27f3eca2"
      },
      "outputs": [
        {
          "output_type": "stream",
          "name": "stdout",
          "text": [
            "RBF SVM vgg16_rmsprop/VGG16 RMSprop\n",
            "Acuracy 0.9864008449960391\n",
            "P,R,F1: (0.9842425937580488, 0.9851134939489188, 0.9846760859297494, None)\n",
            "CPU times: user 46.3 s, sys: 452 ms, total: 46.8 s\n",
            "Wall time: 47.2 s\n"
          ]
        },
        {
          "output_type": "display_data",
          "data": {
            "text/plain": [
              "<Figure size 720x504 with 2 Axes>"
            ],
            "image/png": "[encoded data removed]"
          },
          "metadata": {
            "needs_background": "light"
          }
        }
      ],
      "source": [
        "%%time\n",
        "data = pd.read_csv('/content/drive/MyDrive/Image_forensics/final_project_image_forensics/Handwritten_Signature_Feature_Extraction/re_arranged_data/sign_data/data.csv')\n",
        "X_data = data[['img1','img2']]\n",
        "y_data = data[['target']]\n",
        "X_train, X_test, y_train, y_test = train_test_split(X_data, y_data, test_size=0.33)\n",
        "RbfSVM('vgg16_rmsprop/VGG16','RMSprop', X_train, y_train, X_test, y_test)"
      ]
    },
    {
      "cell_type": "code",
      "execution_count": null,
      "id": "b68e993c",
      "metadata": {
        "execution": {
          "iopub.execute_input": "2021-09-28T13:27:31.237417Z",
          "iopub.status.busy": "2021-09-28T13:27:31.236707Z",
          "iopub.status.idle": "2021-09-28T13:29:55.960082Z",
          "shell.execute_reply": "2021-09-28T13:29:55.959373Z"
        },
        "papermill": {
          "duration": 144.795184,
          "end_time": "2021-09-28T13:29:55.960262",
          "exception": false,
          "start_time": "2021-09-28T13:27:31.165078",
          "status": "completed"
        },
        "tags": [],
        "colab": {
          "base_uri": "https://localhost:8080/",
          "height": 515
        },
        "id": "b68e993c",
        "outputId": "c8caa720-f28e-4a5e-a732-d65925d3127d"
      },
      "outputs": [
        {
          "output_type": "stream",
          "name": "stdout",
          "text": [
            "RBF SVM inceptionv3_adam/InceptionV3 Adam\n",
            "Acuracy 0.8769474518088196\n",
            "P,R,F1: (0.8733999456523971, 0.8434880470925725, 0.8556714251353104, None)\n",
            "CPU times: user 1min 13s, sys: 411 ms, total: 1min 14s\n",
            "Wall time: 1min 14s\n"
          ]
        },
        {
          "output_type": "display_data",
          "data": {
            "text/plain": [
              "<Figure size 720x504 with 2 Axes>"
            ],
            "image/png": "[encoded data removed]"
          },
          "metadata": {
            "needs_background": "light"
          }
        }
      ],
      "source": [
        "%%time\n",
        "data = pd.read_csv('/content/drive/MyDrive/Image_forensics/final_project_image_forensics/Handwritten_Signature_Feature_Extraction/re_arranged_data/sign_data/data.csv')\n",
        "X_data = data[['img1','img2']]\n",
        "y_data = data[['target']]\n",
        "X_train, X_test, y_train, y_test = train_test_split(X_data, y_data, test_size=0.33)\n",
        "RbfSVM('inceptionv3_adam/InceptionV3','Adam', X_train, y_train, X_test, y_test)"
      ]
    },
    {
      "cell_type": "code",
      "execution_count": null,
      "id": "5519992b",
      "metadata": {
        "execution": {
          "iopub.execute_input": "2021-09-28T13:29:56.122968Z",
          "iopub.status.busy": "2021-09-28T13:29:56.121934Z",
          "iopub.status.idle": "2021-09-28T13:30:44.090663Z",
          "shell.execute_reply": "2021-09-28T13:30:44.091241Z"
        },
        "papermill": {
          "duration": 48.061421,
          "end_time": "2021-09-28T13:30:44.091437",
          "exception": false,
          "start_time": "2021-09-28T13:29:56.030016",
          "status": "completed"
        },
        "tags": [],
        "colab": {
          "base_uri": "https://localhost:8080/",
          "height": 519
        },
        "id": "5519992b",
        "outputId": "bb44fb74-fb69-4779-812a-1002e0fb51c9"
      },
      "outputs": [
        {
          "output_type": "stream",
          "name": "stdout",
          "text": [
            "RBF SVM inceptionv3_adagrad/InceptionV3 Adagrad\n",
            "Acuracy 0.9915500396091893\n",
            "P,R,F1: (0.9876733436055469, 0.9936533121777072, 0.9905661376155646, None)\n",
            "CPU times: user 25.7 s, sys: 353 ms, total: 26 s\n",
            "Wall time: 25.9 s\n"
          ]
        },
        {
          "output_type": "display_data",
          "data": {
            "text/plain": [
              "<Figure size 720x504 with 2 Axes>"
            ],
            "image/png": "[encoded data removed]"
          },
          "metadata": {
            "needs_background": "light"
          }
        }
      ],
      "source": [
        "%%time\n",
        "data = pd.read_csv('/content/drive/MyDrive/Image_forensics/final_project_image_forensics/Handwritten_Signature_Feature_Extraction/re_arranged_data/sign_data/data.csv')\n",
        "X_data = data[['img1','img2']]\n",
        "y_data = data[['target']]\n",
        "X_train, X_test, y_train, y_test = train_test_split(X_data, y_data, test_size=0.33)\n",
        "RbfSVM('inceptionv3_adagrad/InceptionV3','Adagrad', X_train, y_train, X_test, y_test)"
      ]
    },
    {
      "cell_type": "markdown",
      "id": "1d97c078",
      "metadata": {
        "papermill": {
          "duration": 0.07077,
          "end_time": "2021-09-28T13:30:44.233208",
          "exception": false,
          "start_time": "2021-09-28T13:30:44.162438",
          "status": "completed"
        },
        "tags": [],
        "id": "1d97c078"
      },
      "source": [
        "<h1> Sigmoid SVM Test </h1>"
      ]
    },
    {
      "cell_type": "code",
      "execution_count": null,
      "id": "903c02c8",
      "metadata": {
        "execution": {
          "iopub.execute_input": "2021-09-28T13:30:44.381547Z",
          "iopub.status.busy": "2021-09-28T13:30:44.380772Z",
          "iopub.status.idle": "2021-09-28T13:33:15.722399Z",
          "shell.execute_reply": "2021-09-28T13:33:15.721556Z"
        },
        "papermill": {
          "duration": 151.41783,
          "end_time": "2021-09-28T13:33:15.722622",
          "exception": false,
          "start_time": "2021-09-28T13:30:44.304792",
          "status": "completed"
        },
        "tags": [],
        "colab": {
          "base_uri": "https://localhost:8080/",
          "height": 515
        },
        "id": "903c02c8",
        "outputId": "14c6564c-379f-4c1a-c2da-efd44132834c"
      },
      "outputs": [
        {
          "output_type": "stream",
          "name": "stdout",
          "text": [
            "Sigmoid SVM vgg16_adam/VGG16 Adam\n",
            "Acuracy 0.6888038024821759\n",
            "P,R,F1: (0.6400147244641397, 0.6026391777273363, 0.6053445594147631, None)\n",
            "CPU times: user 1min 44s, sys: 871 ms, total: 1min 45s\n",
            "Wall time: 1min 53s\n"
          ]
        },
        {
          "output_type": "display_data",
          "data": {
            "text/plain": [
              "<Figure size 720x504 with 2 Axes>"
            ],
            "image/png": "[encoded data removed]"
          },
          "metadata": {
            "needs_background": "light"
          }
        }
      ],
      "source": [
        "%%time\n",
        "data = pd.read_csv('/content/drive/MyDrive/Image_forensics/final_project_image_forensics/Handwritten_Signature_Feature_Extraction/re_arranged_data/sign_data/data.csv')\n",
        "X_data = data[['img1','img2']]\n",
        "y_data = data[['target']]\n",
        "X_train, X_test, y_train, y_test = train_test_split(X_data, y_data, test_size=0.33)\n",
        "SigmoidSVM('vgg16_adam/VGG16','Adam', X_train, y_train, X_test, y_test)"
      ]
    },
    {
      "cell_type": "code",
      "execution_count": null,
      "id": "708a23a2",
      "metadata": {
        "execution": {
          "iopub.execute_input": "2021-09-28T13:33:15.882325Z",
          "iopub.status.busy": "2021-09-28T13:33:15.881045Z",
          "iopub.status.idle": "2021-09-28T13:36:03.435381Z",
          "shell.execute_reply": "2021-09-28T13:36:03.434606Z"
        },
        "papermill": {
          "duration": 167.636101,
          "end_time": "2021-09-28T13:36:03.435577",
          "exception": false,
          "start_time": "2021-09-28T13:33:15.799476",
          "status": "completed"
        },
        "tags": [],
        "colab": {
          "base_uri": "https://localhost:8080/",
          "height": 516
        },
        "id": "708a23a2",
        "outputId": "83b07598-a9b9-4e3f-e707-e6523ee31bcc"
      },
      "outputs": [
        {
          "output_type": "stream",
          "name": "stdout",
          "text": [
            "Sigmoid SVM vgg16_rmsprop/VGG16 RMSprop\n",
            "Acuracy 0.6039081066807499\n",
            "P,R,F1: (0.5526300414915805, 0.5526513003257904, 0.5526406252399522, None)\n",
            "CPU times: user 1min 10s, sys: 401 ms, total: 1min 10s\n",
            "Wall time: 1min 11s\n"
          ]
        },
        {
          "output_type": "display_data",
          "data": {
            "text/plain": [
              "<Figure size 720x504 with 2 Axes>"
            ],
            "image/png": "[encoded data removed]"
          },
          "metadata": {
            "needs_background": "light"
          }
        }
      ],
      "source": [
        "%%time\n",
        "data = pd.read_csv('/content/drive/MyDrive/Image_forensics/final_project_image_forensics/Handwritten_Signature_Feature_Extraction/re_arranged_data/sign_data/data.csv')\n",
        "X_data = data[['img1','img2']]\n",
        "y_data = data[['target']]\n",
        "X_train, X_test, y_train, y_test = train_test_split(X_data, y_data, test_size=0.33)\n",
        "SigmoidSVM('vgg16_rmsprop/VGG16','RMSprop', X_train, y_train, X_test, y_test)"
      ]
    },
    {
      "cell_type": "code",
      "execution_count": null,
      "id": "e0fe99c9",
      "metadata": {
        "execution": {
          "iopub.execute_input": "2021-09-28T13:36:03.596662Z",
          "iopub.status.busy": "2021-09-28T13:36:03.595885Z",
          "iopub.status.idle": "2021-09-28T13:37:58.897840Z",
          "shell.execute_reply": "2021-09-28T13:37:58.897174Z"
        },
        "papermill": {
          "duration": 115.385336,
          "end_time": "2021-09-28T13:37:58.898046",
          "exception": false,
          "start_time": "2021-09-28T13:36:03.512710",
          "status": "completed"
        },
        "tags": [],
        "colab": {
          "base_uri": "https://localhost:8080/",
          "height": 515
        },
        "id": "e0fe99c9",
        "outputId": "608399c2-10fa-4b6e-e12e-fcad46418ad8"
      },
      "outputs": [
        {
          "output_type": "stream",
          "name": "stdout",
          "text": [
            "Sigmoid SVM inceptionv3_adam/InceptionV3 Adam\n",
            "Acuracy 0.532347504621072\n",
            "P,R,F1: (0.47422671467615285, 0.4735321335059374, 0.4737171143672629, None)\n",
            "CPU times: user 1min 18s, sys: 394 ms, total: 1min 19s\n",
            "Wall time: 1min 19s\n"
          ]
        },
        {
          "output_type": "display_data",
          "data": {
            "text/plain": [
              "<Figure size 720x504 with 2 Axes>"
            ],
            "image/png": "[encoded data removed]"
          },
          "metadata": {
            "needs_background": "light"
          }
        }
      ],
      "source": [
        "%%time\n",
        "data = pd.read_csv('/content/drive/MyDrive/Image_forensics/final_project_image_forensics/Handwritten_Signature_Feature_Extraction/re_arranged_data/sign_data/data.csv')\n",
        "X_data = data[['img1','img2']]\n",
        "y_data = data[['target']]\n",
        "X_train, X_test, y_train, y_test = train_test_split(X_data, y_data, test_size=0.33)\n",
        "SigmoidSVM('inceptionv3_adam/InceptionV3','Adam', X_train, y_train, X_test, y_test)"
      ]
    },
    {
      "cell_type": "code",
      "execution_count": null,
      "id": "fef0abc9",
      "metadata": {
        "execution": {
          "iopub.execute_input": "2021-09-28T13:37:59.055800Z",
          "iopub.status.busy": "2021-09-28T13:37:59.054900Z",
          "iopub.status.idle": "2021-09-28T13:38:51.841867Z",
          "shell.execute_reply": "2021-09-28T13:38:51.841166Z"
        },
        "papermill": {
          "duration": 52.868645,
          "end_time": "2021-09-28T13:38:51.842029",
          "exception": false,
          "start_time": "2021-09-28T13:37:58.973384",
          "status": "completed"
        },
        "tags": [],
        "colab": {
          "base_uri": "https://localhost:8080/",
          "height": 515
        },
        "id": "fef0abc9",
        "outputId": "bc55e4ec-887d-4fd3-cee0-cf2d48b49ca7"
      },
      "outputs": [
        {
          "output_type": "stream",
          "name": "stdout",
          "text": [
            "Sigmoid SVM inceptionv3_adagrad/InceptionV3 Adagrad\n",
            "Acuracy 0.9739899656720359\n",
            "P,R,F1: (0.9684771124646822, 0.9739579168513623, 0.97112698583754, None)\n",
            "CPU times: user 21.3 s, sys: 358 ms, total: 21.7 s\n",
            "Wall time: 21.6 s\n"
          ]
        },
        {
          "output_type": "display_data",
          "data": {
            "text/plain": [
              "<Figure size 720x504 with 2 Axes>"
            ],
            "image/png": "[encoded data removed]"
          },
          "metadata": {
            "needs_background": "light"
          }
        }
      ],
      "source": [
        "%%time\n",
        "data = pd.read_csv('/content/drive/MyDrive/Image_forensics/final_project_image_forensics/Handwritten_Signature_Feature_Extraction/re_arranged_data/sign_data/data.csv')\n",
        "X_data = data[['img1','img2']]\n",
        "y_data = data[['target']]\n",
        "X_train, X_test, y_train, y_test = train_test_split(X_data, y_data, test_size=0.33)\n",
        "SigmoidSVM('inceptionv3_adagrad/InceptionV3','Adagrad', X_train, y_train, X_test, y_test)"
      ]
    },
    {
      "cell_type": "markdown",
      "id": "abdb68c6",
      "metadata": {
        "papermill": {
          "duration": 0.077281,
          "end_time": "2021-09-28T13:38:51.996411",
          "exception": false,
          "start_time": "2021-09-28T13:38:51.919130",
          "status": "completed"
        },
        "tags": [],
        "id": "abdb68c6"
      },
      "source": [
        "<h1> Poly SVM Test </h1>"
      ]
    },
    {
      "cell_type": "code",
      "execution_count": null,
      "id": "9a5c62bb",
      "metadata": {
        "execution": {
          "iopub.execute_input": "2021-09-28T13:38:52.157960Z",
          "iopub.status.busy": "2021-09-28T13:38:52.157232Z",
          "iopub.status.idle": "2021-09-28T13:40:46.980584Z",
          "shell.execute_reply": "2021-09-28T13:40:46.981182Z"
        },
        "papermill": {
          "duration": 114.907586,
          "end_time": "2021-09-28T13:40:46.981375",
          "exception": false,
          "start_time": "2021-09-28T13:38:52.073789",
          "status": "completed"
        },
        "tags": [],
        "colab": {
          "base_uri": "https://localhost:8080/",
          "height": 515
        },
        "id": "9a5c62bb",
        "outputId": "40cff203-3054-49a3-f4b2-9442b9448fb0"
      },
      "outputs": [
        {
          "output_type": "stream",
          "name": "stdout",
          "text": [
            "POLY SVM vgg16_adam/VGG16 Adam\n",
            "Acuracy 0.7998415632426723\n",
            "P,R,F1: (0.8651932004101985, 0.7047969597425208, 0.7255815202932105, None)\n",
            "CPU times: user 1min 30s, sys: 415 ms, total: 1min 30s\n",
            "Wall time: 1min 36s\n"
          ]
        },
        {
          "output_type": "display_data",
          "data": {
            "text/plain": [
              "<Figure size 720x504 with 2 Axes>"
            ],
            "image/png": "[encoded data removed]"
          },
          "metadata": {
            "needs_background": "light"
          }
        }
      ],
      "source": [
        "%%time\n",
        "data = pd.read_csv('/content/drive/MyDrive/Image_forensics/final_project_image_forensics/Handwritten_Signature_Feature_Extraction/re_arranged_data/sign_data/data.csv')\n",
        "X_data = data[['img1','img2']]\n",
        "y_data = data[['target']]\n",
        "X_train, X_test, y_train, y_test = train_test_split(X_data, y_data, test_size=0.33)\n",
        "PolySVM('vgg16_adam/VGG16','Adam', X_train, y_train, X_test, y_test)"
      ]
    },
    {
      "cell_type": "code",
      "execution_count": null,
      "id": "5a4f4b9a",
      "metadata": {
        "execution": {
          "iopub.execute_input": "2021-09-28T13:40:47.158325Z",
          "iopub.status.busy": "2021-09-28T13:40:47.157535Z",
          "iopub.status.idle": "2021-09-28T13:42:31.753337Z",
          "shell.execute_reply": "2021-09-28T13:42:31.753909Z"
        },
        "papermill": {
          "duration": 104.691005,
          "end_time": "2021-09-28T13:42:31.754110",
          "exception": false,
          "start_time": "2021-09-28T13:40:47.063105",
          "status": "completed"
        },
        "tags": [],
        "colab": {
          "base_uri": "https://localhost:8080/",
          "height": 515
        },
        "id": "5a4f4b9a",
        "outputId": "d109c413-c25d-4323-fe2e-5c432880ba0a"
      },
      "outputs": [
        {
          "output_type": "stream",
          "name": "stdout",
          "text": [
            "POLY SVM vgg16_rmsprop/VGG16 RMSprop\n",
            "Acuracy 0.9646157908634804\n",
            "P,R,F1: (0.9703298135077161, 0.9512639663758631, 0.959839448965881, None)\n",
            "CPU times: user 36.8 s, sys: 369 ms, total: 37.2 s\n",
            "Wall time: 37.8 s\n"
          ]
        },
        {
          "output_type": "display_data",
          "data": {
            "text/plain": [
              "<Figure size 720x504 with 2 Axes>"
            ],
            "image/png": "[encoded data removed]"
          },
          "metadata": {
            "needs_background": "light"
          }
        }
      ],
      "source": [
        "%%time\n",
        "data = pd.read_csv('/content/drive/MyDrive/Image_forensics/final_project_image_forensics/Handwritten_Signature_Feature_Extraction/re_arranged_data/sign_data/data.csv')\n",
        "X_data = data[['img1','img2']]\n",
        "y_data = data[['target']]\n",
        "X_train, X_test, y_train, y_test = train_test_split(X_data, y_data, test_size=0.33)\n",
        "PolySVM('vgg16_rmsprop/VGG16','RMSprop', X_train, y_train, X_test, y_test)"
      ]
    },
    {
      "cell_type": "code",
      "execution_count": null,
      "id": "f5f3b20e",
      "metadata": {
        "execution": {
          "iopub.execute_input": "2021-09-28T13:42:31.923444Z",
          "iopub.status.busy": "2021-09-28T13:42:31.920563Z",
          "iopub.status.idle": "2021-09-28T13:44:46.077175Z",
          "shell.execute_reply": "2021-09-28T13:44:46.077815Z"
        },
        "papermill": {
          "duration": 134.242283,
          "end_time": "2021-09-28T13:44:46.078015",
          "exception": false,
          "start_time": "2021-09-28T13:42:31.835732",
          "status": "completed"
        },
        "tags": [],
        "colab": {
          "base_uri": "https://localhost:8080/",
          "height": 515
        },
        "id": "f5f3b20e",
        "outputId": "2ce2eb61-907c-47cd-bd0a-7eb391f5cffd"
      },
      "outputs": [
        {
          "output_type": "stream",
          "name": "stdout",
          "text": [
            "POLY SVM inceptionv3_adam/InceptionV3 Adam\n",
            "Acuracy 0.8692896752046475\n",
            "P,R,F1: (0.8755941478207148, 0.8253578024007386, 0.8432706103079131, None)\n",
            "CPU times: user 1min 5s, sys: 370 ms, total: 1min 5s\n",
            "Wall time: 1min 5s\n"
          ]
        },
        {
          "output_type": "display_data",
          "data": {
            "text/plain": [
              "<Figure size 720x504 with 2 Axes>"
            ],
            "image/png": "[encoded data removed]"
          },
          "metadata": {
            "needs_background": "light"
          }
        }
      ],
      "source": [
        "%%time\n",
        "data = pd.read_csv('/content/drive/MyDrive/Image_forensics/final_project_image_forensics/Handwritten_Signature_Feature_Extraction/re_arranged_data/sign_data/data.csv')\n",
        "X_data = data[['img1','img2']]\n",
        "y_data = data[['target']]\n",
        "X_train, X_test, y_train, y_test = train_test_split(X_data, y_data, test_size=0.33)\n",
        "PolySVM('inceptionv3_adam/InceptionV3','Adam', X_train, y_train, X_test, y_test)"
      ]
    },
    {
      "cell_type": "code",
      "execution_count": null,
      "id": "7d301260",
      "metadata": {
        "execution": {
          "iopub.execute_input": "2021-09-28T13:44:46.251310Z",
          "iopub.status.busy": "2021-09-28T13:44:46.250500Z",
          "iopub.status.idle": "2021-09-28T13:45:20.693394Z",
          "shell.execute_reply": "2021-09-28T13:45:20.690615Z"
        },
        "papermill": {
          "duration": 34.533341,
          "end_time": "2021-09-28T13:45:20.693626",
          "exception": false,
          "start_time": "2021-09-28T13:44:46.160285",
          "status": "completed"
        },
        "tags": [],
        "colab": {
          "base_uri": "https://localhost:8080/",
          "height": 519
        },
        "id": "7d301260",
        "outputId": "91515c32-fa7c-4179-f17b-886e60fe5072"
      },
      "outputs": [
        {
          "output_type": "stream",
          "name": "stdout",
          "text": [
            "POLY SVM inceptionv3_adagrad/InceptionV3 Adagrad\n",
            "Acuracy 0.9937945603379984\n",
            "P,R,F1: (0.9906819984139572, 0.9953912531868994, 0.9929821354540633, None)\n",
            "CPU times: user 16.3 s, sys: 357 ms, total: 16.7 s\n",
            "Wall time: 16.6 s\n"
          ]
        },
        {
          "output_type": "display_data",
          "data": {
            "text/plain": [
              "<Figure size 720x504 with 2 Axes>"
            ],
            "image/png": "[encoded data removed]"
          },
          "metadata": {
            "needs_background": "light"
          }
        }
      ],
      "source": [
        "%%time\n",
        "data = pd.read_csv('/content/drive/MyDrive/Image_forensics/final_project_image_forensics/Handwritten_Signature_Feature_Extraction/re_arranged_data/sign_data/data.csv')\n",
        "X_data = data[['img1','img2']]\n",
        "y_data = data[['target']]\n",
        "X_train, X_test, y_train, y_test = train_test_split(X_data, y_data, test_size=0.33)\n",
        "PolySVM('inceptionv3_adagrad/InceptionV3','Adagrad', X_train, y_train, X_test, y_test)"
      ]
    }
  ],
  "metadata": {
    "kernelspec": {
      "display_name": "Python 3",
      "language": "python",
      "name": "python3"
    },
    "language_info": {
      "codemirror_mode": {
        "name": "ipython",
        "version": 3
      },
      "file_extension": ".py",
      "mimetype": "text/x-python",
      "name": "python",
      "nbconvert_exporter": "python",
      "pygments_lexer": "ipython3",
      "version": "3.7.10"
    },
    "papermill": {
      "default_parameters": {},
      "duration": 1924.170315,
      "end_time": "2021-09-28T13:45:21.931222",
      "environment_variables": {},
      "exception": null,
      "input_path": "__notebook__.ipynb",
      "output_path": "__notebook__.ipynb",
      "parameters": {},
      "start_time": "2021-09-28T13:13:17.760907",
      "version": "2.3.3"
    },
    "colab": {
      "provenance": []
    }
  },
  "nbformat": 4,
  "nbformat_minor": 5
}