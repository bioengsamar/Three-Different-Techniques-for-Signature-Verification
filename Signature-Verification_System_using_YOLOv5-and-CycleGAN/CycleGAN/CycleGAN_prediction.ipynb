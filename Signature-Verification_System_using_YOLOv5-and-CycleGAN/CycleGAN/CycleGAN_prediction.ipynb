{
  "nbformat": 4,
  "nbformat_minor": 0,
  "metadata": {
    "colab": {
      "provenance": []
    },
    "kernelspec": {
      "name": "python3",
      "display_name": "Python 3"
    },
    "language_info": {
      "name": "python"
    },
    "gpuClass": "standard"
  },
  "cells": [
    {
      "cell_type": "markdown",
      "source": [
        "# Clone CycleGAN official Repo"
      ],
      "metadata": {
        "id": "ZBecI2Bsw6xd"
      }
    },
    {
      "cell_type": "code",
      "execution_count": null,
      "metadata": {
        "colab": {
          "base_uri": "https://localhost:8080/"
        },
        "id": "JHyReYy3rTpu",
        "outputId": "21d99a3f-66e0-4efc-f311-d442bf4b8f09"
      },
      "outputs": [
        {
          "output_type": "stream",
          "name": "stdout",
          "text": [
            "Cloning into 'pytorch-CycleGAN-and-pix2pix'...\n",
            "remote: Enumerating objects: 2508, done.\u001b[K\n",
            "remote: Counting objects: 100% (1/1), done.\u001b[K\n",
            "remote: Total 2508 (delta 0), reused 1 (delta 0), pack-reused 2507\u001b[K\n",
            "Receiving objects: 100% (2508/2508), 8.19 MiB | 5.41 MiB/s, done.\n",
            "Resolving deltas: 100% (1573/1573), done.\n"
          ]
        }
      ],
      "source": [
        "!git clone https://github.com/junyanz/pytorch-CycleGAN-and-pix2pix"
      ]
    },
    {
      "cell_type": "code",
      "source": [
        "!pip install -r /content/pytorch-CycleGAN-and-pix2pix/requirements.txt"
      ],
      "metadata": {
        "colab": {
          "base_uri": "https://localhost:8080/"
        },
        "id": "sf6buJYAw_Cj",
        "outputId": "a338922e-98f6-4115-b036-ede4abcf3c68"
      },
      "execution_count": null,
      "outputs": [
        {
          "output_type": "stream",
          "name": "stdout",
          "text": [
            "Looking in indexes: https://pypi.org/simple, https://us-python.pkg.dev/colab-wheels/public/simple/\n",
            "Requirement already satisfied: torch>=1.4.0 in /usr/local/lib/python3.8/dist-packages (from -r /content/pytorch-CycleGAN-and-pix2pix/requirements.txt (line 1)) (1.13.1+cu116)\n",
            "Requirement already satisfied: torchvision>=0.5.0 in /usr/local/lib/python3.8/dist-packages (from -r /content/pytorch-CycleGAN-and-pix2pix/requirements.txt (line 2)) (0.14.1+cu116)\n",
            "Collecting dominate>=2.4.0\n",
            "  Downloading dominate-2.7.0-py2.py3-none-any.whl (29 kB)\n",
            "Collecting visdom>=0.1.8.8\n",
            "  Downloading visdom-0.2.3.tar.gz (1.4 MB)\n",
            "\u001b[2K     \u001b[90m━━━━━━━━━━━━━━━━━━━━━━━━━━━━━━━━━━━━━━━━\u001b[0m \u001b[32m1.4/1.4 MB\u001b[0m \u001b[31m46.9 MB/s\u001b[0m eta \u001b[36m0:00:00\u001b[0m\n",
            "\u001b[?25h  Preparing metadata (setup.py) ... \u001b[?25l\u001b[?25hdone\n",
            "Collecting wandb\n",
            "  Downloading wandb-0.13.9-py2.py3-none-any.whl (2.0 MB)\n",
            "\u001b[2K     \u001b[90m━━━━━━━━━━━━━━━━━━━━━━━━━━━━━━━━━━━━━━━━\u001b[0m \u001b[32m2.0/2.0 MB\u001b[0m \u001b[31m82.2 MB/s\u001b[0m eta \u001b[36m0:00:00\u001b[0m\n",
            "\u001b[?25hRequirement already satisfied: typing-extensions in /usr/local/lib/python3.8/dist-packages (from torch>=1.4.0->-r /content/pytorch-CycleGAN-and-pix2pix/requirements.txt (line 1)) (4.4.0)\n",
            "Requirement already satisfied: pillow!=8.3.*,>=5.3.0 in /usr/local/lib/python3.8/dist-packages (from torchvision>=0.5.0->-r /content/pytorch-CycleGAN-and-pix2pix/requirements.txt (line 2)) (7.1.2)\n",
            "Requirement already satisfied: numpy in /usr/local/lib/python3.8/dist-packages (from torchvision>=0.5.0->-r /content/pytorch-CycleGAN-and-pix2pix/requirements.txt (line 2)) (1.21.6)\n",
            "Requirement already satisfied: requests in /usr/local/lib/python3.8/dist-packages (from torchvision>=0.5.0->-r /content/pytorch-CycleGAN-and-pix2pix/requirements.txt (line 2)) (2.25.1)\n",
            "Requirement already satisfied: scipy in /usr/local/lib/python3.8/dist-packages (from visdom>=0.1.8.8->-r /content/pytorch-CycleGAN-and-pix2pix/requirements.txt (line 4)) (1.7.3)\n",
            "Requirement already satisfied: tornado in /usr/local/lib/python3.8/dist-packages (from visdom>=0.1.8.8->-r /content/pytorch-CycleGAN-and-pix2pix/requirements.txt (line 4)) (6.0.4)\n",
            "Requirement already satisfied: six in /usr/local/lib/python3.8/dist-packages (from visdom>=0.1.8.8->-r /content/pytorch-CycleGAN-and-pix2pix/requirements.txt (line 4)) (1.15.0)\n",
            "Collecting jsonpatch\n",
            "  Downloading jsonpatch-1.32-py2.py3-none-any.whl (12 kB)\n",
            "Collecting websocket-client\n",
            "  Downloading websocket_client-1.4.2-py3-none-any.whl (55 kB)\n",
            "\u001b[2K     \u001b[90m━━━━━━━━━━━━━━━━━━━━━━━━━━━━━━━━━━━━━━━━\u001b[0m \u001b[32m55.3/55.3 KB\u001b[0m \u001b[31m8.5 MB/s\u001b[0m eta \u001b[36m0:00:00\u001b[0m\n",
            "\u001b[?25hRequirement already satisfied: networkx in /usr/local/lib/python3.8/dist-packages (from visdom>=0.1.8.8->-r /content/pytorch-CycleGAN-and-pix2pix/requirements.txt (line 4)) (3.0)\n",
            "Requirement already satisfied: protobuf!=4.21.0,<5,>=3.12.0 in /usr/local/lib/python3.8/dist-packages (from wandb->-r /content/pytorch-CycleGAN-and-pix2pix/requirements.txt (line 5)) (3.19.6)\n",
            "Requirement already satisfied: Click!=8.0.0,>=7.0 in /usr/local/lib/python3.8/dist-packages (from wandb->-r /content/pytorch-CycleGAN-and-pix2pix/requirements.txt (line 5)) (7.1.2)\n",
            "Requirement already satisfied: PyYAML in /usr/local/lib/python3.8/dist-packages (from wandb->-r /content/pytorch-CycleGAN-and-pix2pix/requirements.txt (line 5)) (6.0)\n",
            "Collecting setproctitle\n",
            "  Downloading setproctitle-1.3.2-cp38-cp38-manylinux_2_5_x86_64.manylinux1_x86_64.manylinux_2_17_x86_64.manylinux2014_x86_64.whl (31 kB)\n",
            "Requirement already satisfied: setuptools in /usr/local/lib/python3.8/dist-packages (from wandb->-r /content/pytorch-CycleGAN-and-pix2pix/requirements.txt (line 5)) (57.4.0)\n",
            "Collecting sentry-sdk>=1.0.0\n",
            "  Downloading sentry_sdk-1.13.0-py2.py3-none-any.whl (177 kB)\n",
            "\u001b[2K     \u001b[90m━━━━━━━━━━━━━━━━━━━━━━━━━━━━━━━━━━━━━━\u001b[0m \u001b[32m177.4/177.4 KB\u001b[0m \u001b[31m23.5 MB/s\u001b[0m eta \u001b[36m0:00:00\u001b[0m\n",
            "\u001b[?25hRequirement already satisfied: psutil>=5.0.0 in /usr/local/lib/python3.8/dist-packages (from wandb->-r /content/pytorch-CycleGAN-and-pix2pix/requirements.txt (line 5)) (5.4.8)\n",
            "Collecting docker-pycreds>=0.4.0\n",
            "  Downloading docker_pycreds-0.4.0-py2.py3-none-any.whl (9.0 kB)\n",
            "Requirement already satisfied: appdirs>=1.4.3 in /usr/local/lib/python3.8/dist-packages (from wandb->-r /content/pytorch-CycleGAN-and-pix2pix/requirements.txt (line 5)) (1.4.4)\n",
            "Collecting GitPython>=1.0.0\n",
            "  Downloading GitPython-3.1.30-py3-none-any.whl (184 kB)\n",
            "\u001b[2K     \u001b[90m━━━━━━━━━━━━━━━━━━━━━━━━━━━━━━━━━━━━━━\u001b[0m \u001b[32m184.0/184.0 KB\u001b[0m \u001b[31m24.9 MB/s\u001b[0m eta \u001b[36m0:00:00\u001b[0m\n",
            "\u001b[?25hCollecting pathtools\n",
            "  Downloading pathtools-0.1.2.tar.gz (11 kB)\n",
            "  Preparing metadata (setup.py) ... \u001b[?25l\u001b[?25hdone\n",
            "Collecting gitdb<5,>=4.0.1\n",
            "  Downloading gitdb-4.0.10-py3-none-any.whl (62 kB)\n",
            "\u001b[2K     \u001b[90m━━━━━━━━━━━━━━━━━━━━━━━━━━━━━━━━━━━━━━━━\u001b[0m \u001b[32m62.7/62.7 KB\u001b[0m \u001b[31m9.8 MB/s\u001b[0m eta \u001b[36m0:00:00\u001b[0m\n",
            "\u001b[?25hRequirement already satisfied: urllib3<1.27,>=1.21.1 in /usr/local/lib/python3.8/dist-packages (from requests->torchvision>=0.5.0->-r /content/pytorch-CycleGAN-and-pix2pix/requirements.txt (line 2)) (1.24.3)\n",
            "Requirement already satisfied: idna<3,>=2.5 in /usr/local/lib/python3.8/dist-packages (from requests->torchvision>=0.5.0->-r /content/pytorch-CycleGAN-and-pix2pix/requirements.txt (line 2)) (2.10)\n",
            "Requirement already satisfied: certifi>=2017.4.17 in /usr/local/lib/python3.8/dist-packages (from requests->torchvision>=0.5.0->-r /content/pytorch-CycleGAN-and-pix2pix/requirements.txt (line 2)) (2022.12.7)\n",
            "Requirement already satisfied: chardet<5,>=3.0.2 in /usr/local/lib/python3.8/dist-packages (from requests->torchvision>=0.5.0->-r /content/pytorch-CycleGAN-and-pix2pix/requirements.txt (line 2)) (4.0.0)\n",
            "Collecting urllib3<1.27,>=1.21.1\n",
            "  Downloading urllib3-1.26.14-py2.py3-none-any.whl (140 kB)\n",
            "\u001b[2K     \u001b[90m━━━━━━━━━━━━━━━━━━━━━━━━━━━━━━━━━━━━━━\u001b[0m \u001b[32m140.6/140.6 KB\u001b[0m \u001b[31m19.9 MB/s\u001b[0m eta \u001b[36m0:00:00\u001b[0m\n",
            "\u001b[?25hCollecting jsonpointer>=1.9\n",
            "  Downloading jsonpointer-2.3-py2.py3-none-any.whl (7.8 kB)\n",
            "Collecting smmap<6,>=3.0.1\n",
            "  Downloading smmap-5.0.0-py3-none-any.whl (24 kB)\n",
            "Building wheels for collected packages: visdom, pathtools\n",
            "  Building wheel for visdom (setup.py) ... \u001b[?25l\u001b[?25hdone\n",
            "  Created wheel for visdom: filename=visdom-0.2.3-py3-none-any.whl size=1417107 sha256=bfbb4faee6f8246bf16d71137f850270461e9e25d5f64584911c64ffdd5d9518\n",
            "  Stored in directory: /root/.cache/pip/wheels/4d/73/32/0bbe55d2dccb9d80d3f020f474c15a5a1eef232817dcebe776\n",
            "  Building wheel for pathtools (setup.py) ... \u001b[?25l\u001b[?25hdone\n",
            "  Created wheel for pathtools: filename=pathtools-0.1.2-py3-none-any.whl size=8806 sha256=1f0867f474486a8020cf5826bb19d4ebb1c7c5c874163926a19440b6c0474a5d\n",
            "  Stored in directory: /root/.cache/pip/wheels/4c/8e/7e/72fbc243e1aeecae64a96875432e70d4e92f3d2d18123be004\n",
            "Successfully built visdom pathtools\n",
            "Installing collected packages: pathtools, websocket-client, urllib3, smmap, setproctitle, jsonpointer, dominate, docker-pycreds, sentry-sdk, jsonpatch, gitdb, visdom, GitPython, wandb\n",
            "  Attempting uninstall: urllib3\n",
            "    Found existing installation: urllib3 1.24.3\n",
            "    Uninstalling urllib3-1.24.3:\n",
            "      Successfully uninstalled urllib3-1.24.3\n",
            "Successfully installed GitPython-3.1.30 docker-pycreds-0.4.0 dominate-2.7.0 gitdb-4.0.10 jsonpatch-1.32 jsonpointer-2.3 pathtools-0.1.2 sentry-sdk-1.13.0 setproctitle-1.3.2 smmap-5.0.0 urllib3-1.26.14 visdom-0.2.3 wandb-0.13.9 websocket-client-1.4.2\n"
          ]
        }
      ]
    },
    {
      "cell_type": "code",
      "source": [
        "# !pip install visdom\n",
        "# !pip install dominate"
      ],
      "metadata": {
        "id": "5C1G4KfUxByn"
      },
      "execution_count": null,
      "outputs": []
    },
    {
      "cell_type": "code",
      "source": [
        "!cp -r /content/drive/MyDrive/Image_forensics/final_project/ARC_Signature_Verification/Model_Artifacts/gan_model/latest_net_G.pth /content/drive/MyDrive/Image_forensics/final_project/cycle_gan_model/"
      ],
      "metadata": {
        "id": "0v0FWTnd0Bm1"
      },
      "execution_count": null,
      "outputs": []
    },
    {
      "cell_type": "code",
      "source": [
        "!cp -r /content/drive/MyDrive/Image_forensics/final_project/ARC_Signature_Verification/Model_Artifacts/yolo_model/best.pt /content/drive/MyDrive/Image_forensics/final_project/yolov5_model/"
      ],
      "metadata": {
        "id": "Fp-MM5cG0Tco"
      },
      "execution_count": null,
      "outputs": []
    },
    {
      "cell_type": "code",
      "source": [
        "!python /content/pytorch-CycleGAN-and-pix2pix/test.py --dataroot /content/drive/MyDrive/Image_forensics/final_project/gan_signdata_kaggle/testB --name /content/drive/MyDrive/Image_forensics/final_project/cycle_gan_model --model test --no_dropout"
      ],
      "metadata": {
        "colab": {
          "base_uri": "https://localhost:8080/"
        },
        "id": "JGEikBk_0gIo",
        "outputId": "01c13cb2-4b33-483c-d9ac-3218eb905040"
      },
      "execution_count": null,
      "outputs": [
        {
          "output_type": "stream",
          "name": "stdout",
          "text": [
            "----------------- Options ---------------\n",
            "             aspect_ratio: 1.0                           \n",
            "               batch_size: 1                             \n",
            "          checkpoints_dir: ./checkpoints                 \n",
            "                crop_size: 256                           \n",
            "                 dataroot: /content/drive/MyDrive/Image_forensics/final_project/gan_signdata_kaggle/testB\t[default: None]\n",
            "             dataset_mode: single                        \n",
            "                direction: AtoB                          \n",
            "          display_winsize: 256                           \n",
            "                    epoch: latest                        \n",
            "                     eval: False                         \n",
            "                  gpu_ids: 0                             \n",
            "                init_gain: 0.02                          \n",
            "                init_type: normal                        \n",
            "                 input_nc: 3                             \n",
            "                  isTrain: False                         \t[default: None]\n",
            "                load_iter: 0                             \t[default: 0]\n",
            "                load_size: 256                           \n",
            "         max_dataset_size: inf                           \n",
            "                    model: test                          \n",
            "             model_suffix:                               \n",
            "               n_layers_D: 3                             \n",
            "                     name: /content/drive/MyDrive/Image_forensics/final_project/cycle_gan_model\t[default: experiment_name]\n",
            "                      ndf: 64                            \n",
            "                     netD: basic                         \n",
            "                     netG: resnet_9blocks                \n",
            "                      ngf: 64                            \n",
            "               no_dropout: True                          \t[default: False]\n",
            "                  no_flip: False                         \n",
            "                     norm: instance                      \n",
            "                 num_test: 50                            \n",
            "              num_threads: 4                             \n",
            "                output_nc: 3                             \n",
            "                    phase: test                          \n",
            "               preprocess: resize_and_crop               \n",
            "              results_dir: ./results/                    \n",
            "           serial_batches: False                         \n",
            "                   suffix:                               \n",
            "                use_wandb: False                         \n",
            "                  verbose: False                         \n",
            "       wandb_project_name: CycleGAN-and-pix2pix          \n",
            "----------------- End -------------------\n",
            "dataset [SingleDataset] was created\n",
            "initialize network with normal\n",
            "model [TestModel] was created\n",
            "loading the model from /content/drive/MyDrive/Image_forensics/final_project/cycle_gan_model/latest_net_G.pth\n",
            "---------- Networks initialized -------------\n",
            "[Network G] Total number of parameters : 11.378 M\n",
            "-----------------------------------------------\n",
            "creating web directory /content/drive/MyDrive/Image_forensics/final_project/cycle_gan_model/test_latest\n",
            "processing (0000)-th image... ['/content/drive/MyDrive/Image_forensics/final_project/gan_signdata_kaggle/testB/002_01.PNG']\n",
            "processing (0005)-th image... ['/content/drive/MyDrive/Image_forensics/final_project/gan_signdata_kaggle/testB/006_12.PNG']\n",
            "processing (0010)-th image... ['/content/drive/MyDrive/Image_forensics/final_project/gan_signdata_kaggle/testB/014_10.PNG']\n",
            "processing (0015)-th image... ['/content/drive/MyDrive/Image_forensics/final_project/gan_signdata_kaggle/testB/016_24.PNG']\n",
            "processing (0020)-th image... ['/content/drive/MyDrive/Image_forensics/final_project/gan_signdata_kaggle/testB/01_059.png']\n",
            "processing (0025)-th image... ['/content/drive/MyDrive/Image_forensics/final_project/gan_signdata_kaggle/testB/02_022.png']\n",
            "processing (0030)-th image... ['/content/drive/MyDrive/Image_forensics/final_project/gan_signdata_kaggle/testB/02_058.png']\n",
            "processing (0035)-th image... ['/content/drive/MyDrive/Image_forensics/final_project/gan_signdata_kaggle/testB/03_064.png']\n",
            "processing (0040)-th image... ['/content/drive/MyDrive/Image_forensics/final_project/gan_signdata_kaggle/testB/04_043.png']\n",
            "processing (0045)-th image... ['/content/drive/MyDrive/Image_forensics/final_project/gan_signdata_kaggle/testB/05_057.png']\n"
          ]
        }
      ]
    },
    {
      "cell_type": "code",
      "source": [
        "!cp -r /content/pytorch-CycleGAN-and-pix2pix/ /content/drive/MyDrive/Image_forensics/final_project/"
      ],
      "metadata": {
        "id": "yyB8Endv1Hgh"
      },
      "execution_count": null,
      "outputs": []
    },
    {
      "cell_type": "code",
      "source": [],
      "metadata": {
        "id": "XTrW-WxC23iT"
      },
      "execution_count": null,
      "outputs": []
    }
  ]
}